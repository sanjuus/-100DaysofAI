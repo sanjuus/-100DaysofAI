{
 "cells": [
  {
   "cell_type": "markdown",
   "id": "476538a1",
   "metadata": {
    "papermill": {
     "duration": 0.004489,
     "end_time": "2025-08-23T05:51:11.282795",
     "exception": false,
     "start_time": "2025-08-23T05:51:11.278306",
     "status": "completed"
    },
    "tags": []
   },
   "source": [
    "# Perceptron\n",
    "\n",
    "## What is Perceptron ? \n",
    "\n",
    "* A Perceptron is the most basic unit of a neural network — a mathematical model inspired by biological neurons.\n",
    "\n",
    "* In a Multi-Layer Neural Network, each unit (neuron) is essentially a perceptron.\n",
    "\n",
    "* A perceptron takes inputs, multiplies them with weights, adds a bias, and produces an output.\n",
    "\n",
    "* Perceptrons only work well with linearly separable data.\n",
    "\n",
    "## Geometric View\n",
    "\n",
    "* Linear in 2D\n",
    "\n",
    "* Plane in 3D\n",
    "\n",
    "* Hyperplane in 4D\n",
    "\n",
    "## Perceptron as a Model (Modern Perceptron):\n",
    "  | Problem Type | Activation Function | Loss Function |\n",
    "  |--------------|---------------------|---------------|\n",
    "  |Binary Classifier|Sigmod             | Binary Cross Entropy |\n",
    "  |Multi-Class Classifier| Softmax      | categoricl Cross Entropy|\n",
    "  |regressor | No activation(Linear)   | MSE, L1Loss, HubleLoss|\n",
    "\n",
    "## Limitations of Perceptron\n",
    "1. No quantification of “best” line\n",
    "\n",
    "    * Multiple lines can separate the data.\n",
    "        \n",
    "    * Perceptron alone cannot say which is optimal.\n",
    "        \n",
    "    * This is solved using **Loss Functions**.\n",
    "\n",
    "2. Fails on non-linear data \n",
    "\n",
    "    * Example: XOR problem.\n",
    "    \n",
    "    * Can be solved by stacking perceptrons into a **Multi-Layer Perceptron (MLP)** with non-linear activations.\n",
    "  "
   ]
  },
  {
   "cell_type": "markdown",
   "id": "f5b100b1",
   "metadata": {
    "papermill": {
     "duration": 0.003335,
     "end_time": "2025-08-23T05:51:11.290001",
     "exception": false,
     "start_time": "2025-08-23T05:51:11.286666",
     "status": "completed"
    },
    "tags": []
   },
   "source": [
    "# Practical Implementation of Perceptron using nn Module\n",
    " So,It is also called binary classifier because I am using both Sigmoid function and Binary Cross Entropy.\n",
    "\n",
    " **classic Perceptron uses Step Function and Perceptron rule (error x input)**"
   ]
  },
  {
   "cell_type": "code",
   "execution_count": 1,
   "id": "27655274",
   "metadata": {
    "_cell_guid": "b1076dfc-b9ad-4769-8c92-a6c4dae69d19",
    "_uuid": "8f2839f25d086af736a60e9eeb907d3b93b6e0e5",
    "execution": {
     "iopub.execute_input": "2025-08-23T05:51:11.298595Z",
     "iopub.status.busy": "2025-08-23T05:51:11.298257Z",
     "iopub.status.idle": "2025-08-23T05:51:21.346580Z",
     "shell.execute_reply": "2025-08-23T05:51:21.345647Z"
    },
    "papermill": {
     "duration": 10.054929,
     "end_time": "2025-08-23T05:51:21.348542",
     "exception": false,
     "start_time": "2025-08-23T05:51:11.293613",
     "status": "completed"
    },
    "tags": []
   },
   "outputs": [],
   "source": [
    "# Importing Libraries\n",
    "import pandas as pd\n",
    "from sklearn.datasets import make_classification\n",
    "import matplotlib.pyplot as plt\n",
    "import seaborn as sns\n",
    "import torch\n",
    "import torch.nn as nn\n",
    "from torch.utils.data import Dataset,DataLoader\n",
    "import torch.optim as optim"
   ]
  },
  {
   "cell_type": "code",
   "execution_count": 2,
   "id": "9b0d4e36",
   "metadata": {
    "execution": {
     "iopub.execute_input": "2025-08-23T05:51:21.358333Z",
     "iopub.status.busy": "2025-08-23T05:51:21.357050Z",
     "iopub.status.idle": "2025-08-23T05:51:21.377876Z",
     "shell.execute_reply": "2025-08-23T05:51:21.376970Z"
    },
    "papermill": {
     "duration": 0.027452,
     "end_time": "2025-08-23T05:51:21.379846",
     "exception": false,
     "start_time": "2025-08-23T05:51:21.352394",
     "status": "completed"
    },
    "tags": []
   },
   "outputs": [],
   "source": [
    "# Creating a dataset using make_classification .\n",
    "\n",
    "x, y =  make_classification(\n",
    "    n_samples = 100, \n",
    "    n_features = 2, \n",
    "    n_informative = 2, \n",
    "    n_redundant = 0,\n",
    "    n_classes = 2,\n",
    "    random_state = 30)"
   ]
  },
  {
   "cell_type": "code",
   "execution_count": 3,
   "id": "658ffd80",
   "metadata": {
    "execution": {
     "iopub.execute_input": "2025-08-23T05:51:21.389425Z",
     "iopub.status.busy": "2025-08-23T05:51:21.388201Z",
     "iopub.status.idle": "2025-08-23T05:51:21.395896Z",
     "shell.execute_reply": "2025-08-23T05:51:21.394937Z"
    },
    "papermill": {
     "duration": 0.01399,
     "end_time": "2025-08-23T05:51:21.397549",
     "exception": false,
     "start_time": "2025-08-23T05:51:21.383559",
     "status": "completed"
    },
    "tags": []
   },
   "outputs": [
    {
     "data": {
      "text/plain": [
       "(100, 2)"
      ]
     },
     "execution_count": 3,
     "metadata": {},
     "output_type": "execute_result"
    }
   ],
   "source": [
    "x.shape"
   ]
  },
  {
   "cell_type": "code",
   "execution_count": 4,
   "id": "693eb03b",
   "metadata": {
    "execution": {
     "iopub.execute_input": "2025-08-23T05:51:21.406776Z",
     "iopub.status.busy": "2025-08-23T05:51:21.406434Z",
     "iopub.status.idle": "2025-08-23T05:51:21.412197Z",
     "shell.execute_reply": "2025-08-23T05:51:21.411310Z"
    },
    "papermill": {
     "duration": 0.012359,
     "end_time": "2025-08-23T05:51:21.413886",
     "exception": false,
     "start_time": "2025-08-23T05:51:21.401527",
     "status": "completed"
    },
    "tags": []
   },
   "outputs": [
    {
     "data": {
      "text/plain": [
       "(100,)"
      ]
     },
     "execution_count": 4,
     "metadata": {},
     "output_type": "execute_result"
    }
   ],
   "source": [
    "y.shape"
   ]
  },
  {
   "cell_type": "code",
   "execution_count": 5,
   "id": "02ed4f70",
   "metadata": {
    "execution": {
     "iopub.execute_input": "2025-08-23T05:51:21.423146Z",
     "iopub.status.busy": "2025-08-23T05:51:21.422747Z",
     "iopub.status.idle": "2025-08-23T05:51:21.453718Z",
     "shell.execute_reply": "2025-08-23T05:51:21.452644Z"
    },
    "papermill": {
     "duration": 0.037703,
     "end_time": "2025-08-23T05:51:21.455557",
     "exception": false,
     "start_time": "2025-08-23T05:51:21.417854",
     "status": "completed"
    },
    "tags": []
   },
   "outputs": [
    {
     "data": {
      "text/html": [
       "<div>\n",
       "<style scoped>\n",
       "    .dataframe tbody tr th:only-of-type {\n",
       "        vertical-align: middle;\n",
       "    }\n",
       "\n",
       "    .dataframe tbody tr th {\n",
       "        vertical-align: top;\n",
       "    }\n",
       "\n",
       "    .dataframe thead th {\n",
       "        text-align: right;\n",
       "    }\n",
       "</style>\n",
       "<table border=\"1\" class=\"dataframe\">\n",
       "  <thead>\n",
       "    <tr style=\"text-align: right;\">\n",
       "      <th></th>\n",
       "      <th>Feature1</th>\n",
       "      <th>Feature2</th>\n",
       "      <th>Target</th>\n",
       "    </tr>\n",
       "  </thead>\n",
       "  <tbody>\n",
       "    <tr>\n",
       "      <th>0</th>\n",
       "      <td>-0.496608</td>\n",
       "      <td>-0.046681</td>\n",
       "      <td>0</td>\n",
       "    </tr>\n",
       "    <tr>\n",
       "      <th>1</th>\n",
       "      <td>-0.617475</td>\n",
       "      <td>-1.984590</td>\n",
       "      <td>0</td>\n",
       "    </tr>\n",
       "    <tr>\n",
       "      <th>2</th>\n",
       "      <td>1.796346</td>\n",
       "      <td>-1.674991</td>\n",
       "      <td>0</td>\n",
       "    </tr>\n",
       "    <tr>\n",
       "      <th>3</th>\n",
       "      <td>0.993001</td>\n",
       "      <td>-1.086699</td>\n",
       "      <td>0</td>\n",
       "    </tr>\n",
       "    <tr>\n",
       "      <th>4</th>\n",
       "      <td>-0.137315</td>\n",
       "      <td>-0.749315</td>\n",
       "      <td>0</td>\n",
       "    </tr>\n",
       "  </tbody>\n",
       "</table>\n",
       "</div>"
      ],
      "text/plain": [
       "   Feature1  Feature2  Target\n",
       "0 -0.496608 -0.046681       0\n",
       "1 -0.617475 -1.984590       0\n",
       "2  1.796346 -1.674991       0\n",
       "3  0.993001 -1.086699       0\n",
       "4 -0.137315 -0.749315       0"
      ]
     },
     "execution_count": 5,
     "metadata": {},
     "output_type": "execute_result"
    }
   ],
   "source": [
    "# Converting it to dataframe to amke plotting easy\n",
    "\n",
    "df = pd.DataFrame(x,columns = ['Feature1','Feature2'])\n",
    "df['Target'] = y\n",
    "\n",
    "df.head()"
   ]
  },
  {
   "cell_type": "code",
   "execution_count": 6,
   "id": "350302b3",
   "metadata": {
    "execution": {
     "iopub.execute_input": "2025-08-23T05:51:21.465327Z",
     "iopub.status.busy": "2025-08-23T05:51:21.464926Z",
     "iopub.status.idle": "2025-08-23T05:51:21.805788Z",
     "shell.execute_reply": "2025-08-23T05:51:21.804742Z"
    },
    "papermill": {
     "duration": 0.347667,
     "end_time": "2025-08-23T05:51:21.807571",
     "exception": false,
     "start_time": "2025-08-23T05:51:21.459904",
     "status": "completed"
    },
    "tags": []
   },
   "outputs": [
    {
     "data": {
      "image/png": "[encoded data removed]",
      "text/plain": [
       "<Figure size 640x480 with 1 Axes>"
      ]
     },
     "metadata": {},
     "output_type": "display_data"
    }
   ],
   "source": [
    "# scatter plot for classification view\n",
    "\n",
    "sns.scatterplot(data = df, x = 'Feature1', y = 'Feature2', hue = 'Target')\n",
    "plt.title(\"Scatter Plot showing Both Classes\")\n",
    "plt.show()"
   ]
  },
  {
   "cell_type": "code",
   "execution_count": 7,
   "id": "5723ab0d",
   "metadata": {
    "execution": {
     "iopub.execute_input": "2025-08-23T05:51:21.819690Z",
     "iopub.status.busy": "2025-08-23T05:51:21.818612Z",
     "iopub.status.idle": "2025-08-23T05:51:21.826295Z",
     "shell.execute_reply": "2025-08-23T05:51:21.825365Z"
    },
    "papermill": {
     "duration": 0.014884,
     "end_time": "2025-08-23T05:51:21.827903",
     "exception": false,
     "start_time": "2025-08-23T05:51:21.813019",
     "status": "completed"
    },
    "tags": []
   },
   "outputs": [],
   "source": [
    "# Splitting the data \n",
    "x = df.iloc[:,0:2]\n",
    "y = df['Target']"
   ]
  },
  {
   "cell_type": "code",
   "execution_count": 8,
   "id": "9ebd251b",
   "metadata": {
    "execution": {
     "iopub.execute_input": "2025-08-23T05:51:21.839618Z",
     "iopub.status.busy": "2025-08-23T05:51:21.839281Z",
     "iopub.status.idle": "2025-08-23T05:51:21.850897Z",
     "shell.execute_reply": "2025-08-23T05:51:21.850025Z"
    },
    "papermill": {
     "duration": 0.019723,
     "end_time": "2025-08-23T05:51:21.852446",
     "exception": false,
     "start_time": "2025-08-23T05:51:21.832723",
     "status": "completed"
    },
    "tags": []
   },
   "outputs": [
    {
     "data": {
      "text/html": [
       "<div>\n",
       "<style scoped>\n",
       "    .dataframe tbody tr th:only-of-type {\n",
       "        vertical-align: middle;\n",
       "    }\n",
       "\n",
       "    .dataframe tbody tr th {\n",
       "        vertical-align: top;\n",
       "    }\n",
       "\n",
       "    .dataframe thead th {\n",
       "        text-align: right;\n",
       "    }\n",
       "</style>\n",
       "<table border=\"1\" class=\"dataframe\">\n",
       "  <thead>\n",
       "    <tr style=\"text-align: right;\">\n",
       "      <th></th>\n",
       "      <th>Feature1</th>\n",
       "      <th>Feature2</th>\n",
       "    </tr>\n",
       "  </thead>\n",
       "  <tbody>\n",
       "    <tr>\n",
       "      <th>0</th>\n",
       "      <td>-0.496608</td>\n",
       "      <td>-0.046681</td>\n",
       "    </tr>\n",
       "    <tr>\n",
       "      <th>1</th>\n",
       "      <td>-0.617475</td>\n",
       "      <td>-1.984590</td>\n",
       "    </tr>\n",
       "    <tr>\n",
       "      <th>2</th>\n",
       "      <td>1.796346</td>\n",
       "      <td>-1.674991</td>\n",
       "    </tr>\n",
       "    <tr>\n",
       "      <th>3</th>\n",
       "      <td>0.993001</td>\n",
       "      <td>-1.086699</td>\n",
       "    </tr>\n",
       "    <tr>\n",
       "      <th>4</th>\n",
       "      <td>-0.137315</td>\n",
       "      <td>-0.749315</td>\n",
       "    </tr>\n",
       "    <tr>\n",
       "      <th>...</th>\n",
       "      <td>...</td>\n",
       "      <td>...</td>\n",
       "    </tr>\n",
       "    <tr>\n",
       "      <th>95</th>\n",
       "      <td>0.147861</td>\n",
       "      <td>-0.486107</td>\n",
       "    </tr>\n",
       "    <tr>\n",
       "      <th>96</th>\n",
       "      <td>-0.452683</td>\n",
       "      <td>0.513960</td>\n",
       "    </tr>\n",
       "    <tr>\n",
       "      <th>97</th>\n",
       "      <td>-0.876854</td>\n",
       "      <td>3.081148</td>\n",
       "    </tr>\n",
       "    <tr>\n",
       "      <th>98</th>\n",
       "      <td>-0.799240</td>\n",
       "      <td>-2.021756</td>\n",
       "    </tr>\n",
       "    <tr>\n",
       "      <th>99</th>\n",
       "      <td>-2.156836</td>\n",
       "      <td>2.345165</td>\n",
       "    </tr>\n",
       "  </tbody>\n",
       "</table>\n",
       "<p>100 rows × 2 columns</p>\n",
       "</div>"
      ],
      "text/plain": [
       "    Feature1  Feature2\n",
       "0  -0.496608 -0.046681\n",
       "1  -0.617475 -1.984590\n",
       "2   1.796346 -1.674991\n",
       "3   0.993001 -1.086699\n",
       "4  -0.137315 -0.749315\n",
       "..       ...       ...\n",
       "95  0.147861 -0.486107\n",
       "96 -0.452683  0.513960\n",
       "97 -0.876854  3.081148\n",
       "98 -0.799240 -2.021756\n",
       "99 -2.156836  2.345165\n",
       "\n",
       "[100 rows x 2 columns]"
      ]
     },
     "execution_count": 8,
     "metadata": {},
     "output_type": "execute_result"
    }
   ],
   "source": [
    "x"
   ]
  },
  {
   "cell_type": "code",
   "execution_count": 9,
   "id": "43e42afd",
   "metadata": {
    "execution": {
     "iopub.execute_input": "2025-08-23T05:51:21.863601Z",
     "iopub.status.busy": "2025-08-23T05:51:21.863268Z",
     "iopub.status.idle": "2025-08-23T05:51:21.871439Z",
     "shell.execute_reply": "2025-08-23T05:51:21.870401Z"
    },
    "papermill": {
     "duration": 0.015813,
     "end_time": "2025-08-23T05:51:21.873164",
     "exception": false,
     "start_time": "2025-08-23T05:51:21.857351",
     "status": "completed"
    },
    "tags": []
   },
   "outputs": [
    {
     "data": {
      "text/plain": [
       "0     0\n",
       "1     0\n",
       "2     0\n",
       "3     0\n",
       "4     0\n",
       "     ..\n",
       "95    0\n",
       "96    1\n",
       "97    1\n",
       "98    0\n",
       "99    1\n",
       "Name: Target, Length: 100, dtype: int64"
      ]
     },
     "execution_count": 9,
     "metadata": {},
     "output_type": "execute_result"
    }
   ],
   "source": [
    "y"
   ]
  },
  {
   "cell_type": "code",
   "execution_count": 10,
   "id": "c346eefb",
   "metadata": {
    "execution": {
     "iopub.execute_input": "2025-08-23T05:51:21.884677Z",
     "iopub.status.busy": "2025-08-23T05:51:21.884362Z",
     "iopub.status.idle": "2025-08-23T05:51:21.890507Z",
     "shell.execute_reply": "2025-08-23T05:51:21.889647Z"
    },
    "papermill": {
     "duration": 0.013695,
     "end_time": "2025-08-23T05:51:21.892192",
     "exception": false,
     "start_time": "2025-08-23T05:51:21.878497",
     "status": "completed"
    },
    "tags": []
   },
   "outputs": [],
   "source": [
    "# Dataset class\n",
    "\n",
    "class CustomDataset(Dataset):\n",
    "    \n",
    "    def __init__(self,features,labels):\n",
    "        self.features = torch.tensor(features.values , dtype = torch.float32)\n",
    "        self.labels = torch.tensor(labels.values , dtype = torch.float32).view(-1,1)\n",
    "\n",
    "    def __len__(self):\n",
    "       return len(self.features)\n",
    "\n",
    "    def __getitem__(self,index):\n",
    "       return self.features[index],self.labels[index]"
   ]
  },
  {
   "cell_type": "code",
   "execution_count": 11,
   "id": "4da7648a",
   "metadata": {
    "execution": {
     "iopub.execute_input": "2025-08-23T05:51:21.903841Z",
     "iopub.status.busy": "2025-08-23T05:51:21.903510Z",
     "iopub.status.idle": "2025-08-23T05:51:21.943634Z",
     "shell.execute_reply": "2025-08-23T05:51:21.942536Z"
    },
    "papermill": {
     "duration": 0.048305,
     "end_time": "2025-08-23T05:51:21.945399",
     "exception": false,
     "start_time": "2025-08-23T05:51:21.897094",
     "status": "completed"
    },
    "tags": []
   },
   "outputs": [],
   "source": [
    "# Object for dataset class\n",
    "dataset = CustomDataset(x,y)"
   ]
  },
  {
   "cell_type": "code",
   "execution_count": 12,
   "id": "aa0cf449",
   "metadata": {
    "execution": {
     "iopub.execute_input": "2025-08-23T05:51:21.956842Z",
     "iopub.status.busy": "2025-08-23T05:51:21.956533Z",
     "iopub.status.idle": "2025-08-23T05:51:21.962151Z",
     "shell.execute_reply": "2025-08-23T05:51:21.961069Z"
    },
    "papermill": {
     "duration": 0.013712,
     "end_time": "2025-08-23T05:51:21.964275",
     "exception": false,
     "start_time": "2025-08-23T05:51:21.950563",
     "status": "completed"
    },
    "tags": []
   },
   "outputs": [],
   "source": [
    "# Object for DataLoader class\n",
    "\n",
    "dataloader = DataLoader(dataset, batch_size = 20, shuffle = True)"
   ]
  },
  {
   "cell_type": "code",
   "execution_count": 13,
   "id": "19fcefea",
   "metadata": {
    "execution": {
     "iopub.execute_input": "2025-08-23T05:51:21.975799Z",
     "iopub.status.busy": "2025-08-23T05:51:21.975471Z",
     "iopub.status.idle": "2025-08-23T05:51:21.982378Z",
     "shell.execute_reply": "2025-08-23T05:51:21.981286Z"
    },
    "papermill": {
     "duration": 0.01502,
     "end_time": "2025-08-23T05:51:21.984418",
     "exception": false,
     "start_time": "2025-08-23T05:51:21.969398",
     "status": "completed"
    },
    "tags": []
   },
   "outputs": [],
   "source": [
    "# Creating a Perceptron using nn module\n",
    "\n",
    "class MyNN(nn.Module):\n",
    "    def __init__(self,num_features):\n",
    "        super().__init__()\n",
    "        self.num_features = num_features\n",
    "        self.model = nn.Sequential(\n",
    "            nn.Linear(num_features,1),\n",
    "            nn.Sigmoid()\n",
    "        )\n",
    "\n",
    "    def forward(self,x):\n",
    "         return self.model(x)\n",
    "    "
   ]
  },
  {
   "cell_type": "code",
   "execution_count": 14,
   "id": "1fb42a01",
   "metadata": {
    "execution": {
     "iopub.execute_input": "2025-08-23T05:51:21.996033Z",
     "iopub.status.busy": "2025-08-23T05:51:21.995665Z",
     "iopub.status.idle": "2025-08-23T05:51:28.509935Z",
     "shell.execute_reply": "2025-08-23T05:51:28.508903Z"
    },
    "papermill": {
     "duration": 6.521994,
     "end_time": "2025-08-23T05:51:28.511592",
     "exception": false,
     "start_time": "2025-08-23T05:51:21.989598",
     "status": "completed"
    },
    "tags": []
   },
   "outputs": [],
   "source": [
    "# Initializing the Perceptron\n",
    "\n",
    "epochs = 100\n",
    "learning_rate = 0.03\n",
    "\n",
    "# Model Initiliazation\n",
    "model = MyNN(x.shape[1])\n",
    "\n",
    "#Loss Function\n",
    "loss_function = nn.BCELoss()\n",
    "\n",
    "#Optimizer\n",
    "optimizer = optim.SGD(model.parameters(),lr = learning_rate)"
   ]
  },
  {
   "cell_type": "code",
   "execution_count": 15,
   "id": "59e3364f",
   "metadata": {
    "execution": {
     "iopub.execute_input": "2025-08-23T05:51:28.523592Z",
     "iopub.status.busy": "2025-08-23T05:51:28.523026Z",
     "iopub.status.idle": "2025-08-23T05:51:28.957338Z",
     "shell.execute_reply": "2025-08-23T05:51:28.955632Z"
    },
    "papermill": {
     "duration": 0.443716,
     "end_time": "2025-08-23T05:51:28.960318",
     "exception": false,
     "start_time": "2025-08-23T05:51:28.516602",
     "status": "completed"
    },
    "tags": []
   },
   "outputs": [],
   "source": [
    "# Model Training\n",
    "\n",
    "for epoch in range(epochs):\n",
    "    for batch_features,batch_labels in dataloader:\n",
    "\n",
    "        # Forward pass\n",
    "        output = model(batch_features)\n",
    "\n",
    "        # Loss Function\n",
    "        loss = loss_function(output,batch_labels)\n",
    "        \n",
    "        #BackPropogation\n",
    "        optimizer.zero_grad()\n",
    "        loss.backward()\n",
    "\n",
    "        #Optimization\n",
    "        optimizer.step()\n",
    "        "
   ]
  },
  {
   "cell_type": "code",
   "execution_count": 16,
   "id": "bbdb288c",
   "metadata": {
    "execution": {
     "iopub.execute_input": "2025-08-23T05:51:28.972799Z",
     "iopub.status.busy": "2025-08-23T05:51:28.972494Z",
     "iopub.status.idle": "2025-08-23T05:51:29.138489Z",
     "shell.execute_reply": "2025-08-23T05:51:29.137369Z"
    },
    "papermill": {
     "duration": 0.176055,
     "end_time": "2025-08-23T05:51:29.142225",
     "exception": false,
     "start_time": "2025-08-23T05:51:28.966170",
     "status": "completed"
    },
    "tags": []
   },
   "outputs": [
    {
     "data": {
      "image/png": "[encoded data removed]",
      "text/plain": [
       "<Figure size 640x480 with 1 Axes>"
      ]
     },
     "metadata": {},
     "output_type": "display_data"
    }
   ],
   "source": [
    "import matplotlib.pyplot as plt\n",
    "import numpy as np\n",
    "\n",
    "# Scatter plot\n",
    "plt.scatter(x.values[:,0], x.values[:,1], c=y.values, cmap='bwr', s=30)\n",
    "\n",
    "# Weights and bias\n",
    "w = model.model[0].weight.detach().numpy()[0]\n",
    "b = model.model[0].bias.detach().numpy()[0]\n",
    "\n",
    "# Decision boundary\n",
    "x1 = np.linspace(x.values[:,0].min(), x.values[:,0].max(), 100)\n",
    "x2 = -(w[0]*x1 + b)/w[1]\n",
    "\n",
    "plt.plot(x1, x2, color='green', linewidth=2)\n",
    "plt.show()\n"
   ]
  }
 ],
 "metadata": {
  "kaggle": {
   "accelerator": "none",
   "dataSources": [],
   "dockerImageVersionId": 31089,
   "isGpuEnabled": false,
   "isInternetEnabled": true,
   "language": "python",
   "sourceType": "notebook"
  },
  "kernelspec": {
   "display_name": "Python 3",
   "language": "python",
   "name": "python3"
  },
  "language_info": {
   "codemirror_mode": {
    "name": "ipython",
    "version": 3
   },
   "file_extension": ".py",
   "mimetype": "text/x-python",
   "name": "python",
   "nbconvert_exporter": "python",
   "pygments_lexer": "ipython3",
   "version": "3.11.13"
  },
  "papermill": {
   "default_parameters": {},
   "duration": 26.849022,
   "end_time": "2025-08-23T05:51:32.142941",
   "environment_variables": {},
   "exception": null,
   "input_path": "__notebook__.ipynb",
   "output_path": "__notebook__.ipynb",
   "parameters": {},
   "start_time": "2025-08-23T05:51:05.293919",
   "version": "2.6.0"
  }
 },
 "nbformat": 4,
 "nbformat_minor": 5
}
