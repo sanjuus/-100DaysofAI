{
 "cells": [
  {
   "cell_type": "markdown",
   "id": "1508c261",
   "metadata": {
    "papermill": {
     "duration": 0.004891,
     "end_time": "2025-08-24T06:23:14.542740",
     "exception": false,
     "start_time": "2025-08-24T06:23:14.537849",
     "status": "completed"
    },
    "tags": []
   },
   "source": [
    "# Multi-Layer Perceptron (Artificial Neural Network)\n",
    "\n",
    "🔹**Introduction**\n",
    "\n",
    "A Multi-Layer Perceptron (MLP) is a class of feedforward artificial neural networks. It is considered one of the simplest and most fundamental deep learning architectures. Unlike a single-layer perceptron, which can only solve linearly separable problems, an MLP can model non-linear decision boundaries using hidden layers and activation functions.\n",
    "\n",
    "🔹**Architecture**\n",
    "\n",
    "MLP consists of three types of layers:\n",
    "\n",
    "* Input Layer – Accepts features from the dataset.\n",
    "* Hidden Layers – Perform transformations using weights, biases, and activation functions.\n",
    "* Output Layer – Produces the final prediction (classification or regression).\n",
    "\n",
    "A neuron in each layer is connected to every neuron in the next layer (fully connected network).\n",
    "\n",
    "🔹**Key Concepts**\n",
    "\n",
    "* Activation Functions: Introduce non-linearity (ReLU, Sigmoid, Tanh).\n",
    "* Backpropagation: Algorithm to update weights by minimizing error using gradients.\n",
    "* Loss Function: Measures error (e.g., CrossEntropy for classification).\n",
    "* Optimizer: Updates weights efficiently (SGD, Adam).\n",
    "\n",
    "🔹**Why MLP?**\n",
    "\n",
    "* Can learn complex, non-linear patterns.\n",
    "* Works well for structured/tabular datasets (like Bank Churn).\n",
    "* Flexible for both classification and regression tasks.\n",
    "\n",
    "🔹**Applications**\n",
    "\n",
    "* Bank churn prediction (customer retention).\n",
    "* Handwritten digit recognition (MNIST).\n",
    "* Spam email classification.\n",
    "* Stock price or sales forecasting."
   ]
  },
  {
   "cell_type": "markdown",
   "id": "d4ba62ae",
   "metadata": {
    "papermill": {
     "duration": 0.003694,
     "end_time": "2025-08-24T06:23:14.550567",
     "exception": false,
     "start_time": "2025-08-24T06:23:14.546873",
     "status": "completed"
    },
    "tags": []
   },
   "source": [
    "# Bank Churn Prediction using ANN\n",
    "\n",
    "This notebook documents my journey in building a churn prediction model for a credit card company. Customer churn is a critical business problem, and predicting it accurately can help a company retain its customers.\n",
    "\n",
    "The main goal of this project is to create a model that can predict whether a customer will leave the company, based on their behavior and demographic data. To achieve this, I will be using a Multilayer Perceptron (MLP), a fundamental type of neural network.\n",
    "\n",
    "The project covers a complete end-to-end machine learning pipeline:\n",
    "\n",
    "* Data Preprocessing: Cleaning and transforming raw data to prepare it for the model.\n",
    "\n",
    "* Model Building: Designing and implementing an MLP from scratch using PyTorch.\n",
    "\n",
    "* Training and Evaluation: Training the model on a large dataset and evaluating its performance on unseen data."
   ]
  },
  {
   "cell_type": "code",
   "execution_count": 1,
   "id": "fd5913be",
   "metadata": {
    "_cell_guid": "b1076dfc-b9ad-4769-8c92-a6c4dae69d19",
    "_uuid": "8f2839f25d086af736a60e9eeb907d3b93b6e0e5",
    "execution": {
     "iopub.execute_input": "2025-08-24T06:23:14.559443Z",
     "iopub.status.busy": "2025-08-24T06:23:14.559128Z",
     "iopub.status.idle": "2025-08-24T06:23:20.740526Z",
     "shell.execute_reply": "2025-08-24T06:23:20.739835Z"
    },
    "papermill": {
     "duration": 6.187437,
     "end_time": "2025-08-24T06:23:20.741941",
     "exception": false,
     "start_time": "2025-08-24T06:23:14.554504",
     "status": "completed"
    },
    "tags": []
   },
   "outputs": [],
   "source": [
    "# Importing Libraries\n",
    "import numpy as np\n",
    "import pandas as pd\n",
    "import matplotlib.pyplot as plt\n",
    "import seaborn as sns\n",
    "from sklearn.compose import ColumnTransformer\n",
    "from sklearn.preprocessing import StandardScaler,MinMaxScaler,OneHotEncoder,RobustScaler\n",
    "from sklearn.model_selection import train_test_split\n",
    "import torch\n",
    "import torch.nn as nn\n",
    "from torch.utils.data import Dataset,DataLoader\n",
    "import torch.optim as optim\n",
    "from sklearn.metrics import accuracy_score, precision_score, recall_score, f1_score"
   ]
  },
  {
   "cell_type": "code",
   "execution_count": 2,
   "id": "1ec066fd",
   "metadata": {
    "execution": {
     "iopub.execute_input": "2025-08-24T06:23:20.751619Z",
     "iopub.status.busy": "2025-08-24T06:23:20.751306Z",
     "iopub.status.idle": "2025-08-24T06:23:20.812920Z",
     "shell.execute_reply": "2025-08-24T06:23:20.812273Z"
    },
    "papermill": {
     "duration": 0.067371,
     "end_time": "2025-08-24T06:23:20.814137",
     "exception": false,
     "start_time": "2025-08-24T06:23:20.746766",
     "status": "completed"
    },
    "tags": []
   },
   "outputs": [
    {
     "data": {
      "text/html": [
       "<div>\n",
       "<style scoped>\n",
       "    .dataframe tbody tr th:only-of-type {\n",
       "        vertical-align: middle;\n",
       "    }\n",
       "\n",
       "    .dataframe tbody tr th {\n",
       "        vertical-align: top;\n",
       "    }\n",
       "\n",
       "    .dataframe thead th {\n",
       "        text-align: right;\n",
       "    }\n",
       "</style>\n",
       "<table border=\"1\" class=\"dataframe\">\n",
       "  <thead>\n",
       "    <tr style=\"text-align: right;\">\n",
       "      <th></th>\n",
       "      <th>RowNumber</th>\n",
       "      <th>CustomerId</th>\n",
       "      <th>Surname</th>\n",
       "      <th>CreditScore</th>\n",
       "      <th>Geography</th>\n",
       "      <th>Gender</th>\n",
       "      <th>Age</th>\n",
       "      <th>Tenure</th>\n",
       "      <th>Balance</th>\n",
       "      <th>NumOfProducts</th>\n",
       "      <th>HasCrCard</th>\n",
       "      <th>IsActiveMember</th>\n",
       "      <th>EstimatedSalary</th>\n",
       "      <th>Exited</th>\n",
       "    </tr>\n",
       "  </thead>\n",
       "  <tbody>\n",
       "    <tr>\n",
       "      <th>0</th>\n",
       "      <td>1</td>\n",
       "      <td>15634602</td>\n",
       "      <td>Hargrave</td>\n",
       "      <td>619</td>\n",
       "      <td>France</td>\n",
       "      <td>Female</td>\n",
       "      <td>42</td>\n",
       "      <td>2</td>\n",
       "      <td>0.00</td>\n",
       "      <td>1</td>\n",
       "      <td>1</td>\n",
       "      <td>1</td>\n",
       "      <td>101348.88</td>\n",
       "      <td>1</td>\n",
       "    </tr>\n",
       "    <tr>\n",
       "      <th>1</th>\n",
       "      <td>2</td>\n",
       "      <td>15647311</td>\n",
       "      <td>Hill</td>\n",
       "      <td>608</td>\n",
       "      <td>Spain</td>\n",
       "      <td>Female</td>\n",
       "      <td>41</td>\n",
       "      <td>1</td>\n",
       "      <td>83807.86</td>\n",
       "      <td>1</td>\n",
       "      <td>0</td>\n",
       "      <td>1</td>\n",
       "      <td>112542.58</td>\n",
       "      <td>0</td>\n",
       "    </tr>\n",
       "    <tr>\n",
       "      <th>2</th>\n",
       "      <td>3</td>\n",
       "      <td>15619304</td>\n",
       "      <td>Onio</td>\n",
       "      <td>502</td>\n",
       "      <td>France</td>\n",
       "      <td>Female</td>\n",
       "      <td>42</td>\n",
       "      <td>8</td>\n",
       "      <td>159660.80</td>\n",
       "      <td>3</td>\n",
       "      <td>1</td>\n",
       "      <td>0</td>\n",
       "      <td>113931.57</td>\n",
       "      <td>1</td>\n",
       "    </tr>\n",
       "    <tr>\n",
       "      <th>3</th>\n",
       "      <td>4</td>\n",
       "      <td>15701354</td>\n",
       "      <td>Boni</td>\n",
       "      <td>699</td>\n",
       "      <td>France</td>\n",
       "      <td>Female</td>\n",
       "      <td>39</td>\n",
       "      <td>1</td>\n",
       "      <td>0.00</td>\n",
       "      <td>2</td>\n",
       "      <td>0</td>\n",
       "      <td>0</td>\n",
       "      <td>93826.63</td>\n",
       "      <td>0</td>\n",
       "    </tr>\n",
       "    <tr>\n",
       "      <th>4</th>\n",
       "      <td>5</td>\n",
       "      <td>15737888</td>\n",
       "      <td>Mitchell</td>\n",
       "      <td>850</td>\n",
       "      <td>Spain</td>\n",
       "      <td>Female</td>\n",
       "      <td>43</td>\n",
       "      <td>2</td>\n",
       "      <td>125510.82</td>\n",
       "      <td>1</td>\n",
       "      <td>1</td>\n",
       "      <td>1</td>\n",
       "      <td>79084.10</td>\n",
       "      <td>0</td>\n",
       "    </tr>\n",
       "  </tbody>\n",
       "</table>\n",
       "</div>"
      ],
      "text/plain": [
       "   RowNumber  CustomerId   Surname  CreditScore Geography  Gender  Age  \\\n",
       "0          1    15634602  Hargrave          619    France  Female   42   \n",
       "1          2    15647311      Hill          608     Spain  Female   41   \n",
       "2          3    15619304      Onio          502    France  Female   42   \n",
       "3          4    15701354      Boni          699    France  Female   39   \n",
       "4          5    15737888  Mitchell          850     Spain  Female   43   \n",
       "\n",
       "   Tenure    Balance  NumOfProducts  HasCrCard  IsActiveMember  \\\n",
       "0       2       0.00              1          1               1   \n",
       "1       1   83807.86              1          0               1   \n",
       "2       8  159660.80              3          1               0   \n",
       "3       1       0.00              2          0               0   \n",
       "4       2  125510.82              1          1               1   \n",
       "\n",
       "   EstimatedSalary  Exited  \n",
       "0        101348.88       1  \n",
       "1        112542.58       0  \n",
       "2        113931.57       1  \n",
       "3         93826.63       0  \n",
       "4         79084.10       0  "
      ]
     },
     "execution_count": 2,
     "metadata": {},
     "output_type": "execute_result"
    }
   ],
   "source": [
    "# Importing The dataset\n",
    "df = pd.read_csv('/kaggle/input/credit-card-customer-churn-prediction/Churn_Modelling.csv')\n",
    "\n",
    "df.head()"
   ]
  },
  {
   "cell_type": "code",
   "execution_count": 3,
   "id": "8386e04e",
   "metadata": {
    "execution": {
     "iopub.execute_input": "2025-08-24T06:23:20.823800Z",
     "iopub.status.busy": "2025-08-24T06:23:20.823611Z",
     "iopub.status.idle": "2025-08-24T06:23:20.963454Z",
     "shell.execute_reply": "2025-08-24T06:23:20.962541Z"
    },
    "papermill": {
     "duration": 0.146282,
     "end_time": "2025-08-24T06:23:20.964891",
     "exception": false,
     "start_time": "2025-08-24T06:23:20.818609",
     "status": "completed"
    },
    "tags": []
   },
   "outputs": [
    {
     "name": "stdout",
     "output_type": "stream",
     "text": [
      "Information : \n",
      "\n",
      "<class 'pandas.core.frame.DataFrame'>\n",
      "RangeIndex: 10000 entries, 0 to 9999\n",
      "Data columns (total 14 columns):\n",
      " #   Column           Non-Null Count  Dtype  \n",
      "---  ------           --------------  -----  \n",
      " 0   RowNumber        10000 non-null  int64  \n",
      " 1   CustomerId       10000 non-null  int64  \n",
      " 2   Surname          10000 non-null  object \n",
      " 3   CreditScore      10000 non-null  int64  \n",
      " 4   Geography        10000 non-null  object \n",
      " 5   Gender           10000 non-null  object \n",
      " 6   Age              10000 non-null  int64  \n",
      " 7   Tenure           10000 non-null  int64  \n",
      " 8   Balance          10000 non-null  float64\n",
      " 9   NumOfProducts    10000 non-null  int64  \n",
      " 10  HasCrCard        10000 non-null  int64  \n",
      " 11  IsActiveMember   10000 non-null  int64  \n",
      " 12  EstimatedSalary  10000 non-null  float64\n",
      " 13  Exited           10000 non-null  int64  \n",
      "dtypes: float64(2), int64(9), object(3)\n",
      "memory usage: 1.1+ MB\n",
      "None\n",
      "\n",
      "Missing Values : \n",
      "\n",
      "RowNumber          0\n",
      "CustomerId         0\n",
      "Surname            0\n",
      "CreditScore        0\n",
      "Geography          0\n",
      "Gender             0\n",
      "Age                0\n",
      "Tenure             0\n",
      "Balance            0\n",
      "NumOfProducts      0\n",
      "HasCrCard          0\n",
      "IsActiveMember     0\n",
      "EstimatedSalary    0\n",
      "Exited             0\n",
      "dtype: int64\n",
      "\n",
      "Duplicate Entries : \n",
      "\n",
      "0\n"
     ]
    }
   ],
   "source": [
    "# basic Exploration\n",
    "\n",
    "print(\"Information : \\n\")\n",
    "print(df.info())\n",
    "\n",
    "print(\"\\nMissing Values : \\n\")\n",
    "print(df.isnull().sum())\n",
    "\n",
    "print(\"\\nDuplicate Entries : \\n\")\n",
    "print(df.duplicated().sum())"
   ]
  },
  {
   "cell_type": "code",
   "execution_count": 4,
   "id": "96cce485",
   "metadata": {
    "execution": {
     "iopub.execute_input": "2025-08-24T06:23:20.975830Z",
     "iopub.status.busy": "2025-08-24T06:23:20.975596Z",
     "iopub.status.idle": "2025-08-24T06:23:20.981334Z",
     "shell.execute_reply": "2025-08-24T06:23:20.980752Z"
    },
    "papermill": {
     "duration": 0.012121,
     "end_time": "2025-08-24T06:23:20.982384",
     "exception": false,
     "start_time": "2025-08-24T06:23:20.970263",
     "status": "completed"
    },
    "tags": []
   },
   "outputs": [
    {
     "data": {
      "text/plain": [
       "Geography\n",
       "France     5014\n",
       "Germany    2509\n",
       "Spain      2477\n",
       "Name: count, dtype: int64"
      ]
     },
     "execution_count": 4,
     "metadata": {},
     "output_type": "execute_result"
    }
   ],
   "source": [
    "# Exploring categorical features\n",
    "\n",
    "df['Geography'].value_counts()"
   ]
  },
  {
   "cell_type": "code",
   "execution_count": 5,
   "id": "242afdf1",
   "metadata": {
    "execution": {
     "iopub.execute_input": "2025-08-24T06:23:20.992255Z",
     "iopub.status.busy": "2025-08-24T06:23:20.992018Z",
     "iopub.status.idle": "2025-08-24T06:23:20.997751Z",
     "shell.execute_reply": "2025-08-24T06:23:20.997107Z"
    },
    "papermill": {
     "duration": 0.012082,
     "end_time": "2025-08-24T06:23:20.998789",
     "exception": false,
     "start_time": "2025-08-24T06:23:20.986707",
     "status": "completed"
    },
    "tags": []
   },
   "outputs": [
    {
     "data": {
      "text/plain": [
       "Gender\n",
       "Male      5457\n",
       "Female    4543\n",
       "Name: count, dtype: int64"
      ]
     },
     "execution_count": 5,
     "metadata": {},
     "output_type": "execute_result"
    }
   ],
   "source": [
    "df['Gender'].value_counts()"
   ]
  },
  {
   "cell_type": "markdown",
   "id": "5355e132",
   "metadata": {
    "papermill": {
     "duration": 0.004323,
     "end_time": "2025-08-24T06:23:21.007559",
     "exception": false,
     "start_time": "2025-08-24T06:23:21.003236",
     "status": "completed"
    },
    "tags": []
   },
   "source": [
    "# Basic Exploration \n",
    "\n",
    "* Total Entries : 1000\n",
    "* Total Columns : 14\n",
    "    * Total features : 13\n",
    "    * Target Column : 1(Exited)\n",
    "* Missing values : 0\n",
    "* Duplicate Rows : 0"
   ]
  },
  {
   "cell_type": "code",
   "execution_count": 6,
   "id": "338d4037",
   "metadata": {
    "execution": {
     "iopub.execute_input": "2025-08-24T06:23:21.016895Z",
     "iopub.status.busy": "2025-08-24T06:23:21.016697Z",
     "iopub.status.idle": "2025-08-24T06:23:21.022872Z",
     "shell.execute_reply": "2025-08-24T06:23:21.022321Z"
    },
    "papermill": {
     "duration": 0.0121,
     "end_time": "2025-08-24T06:23:21.023922",
     "exception": false,
     "start_time": "2025-08-24T06:23:21.011822",
     "status": "completed"
    },
    "tags": []
   },
   "outputs": [],
   "source": [
    "# Dropping the Useless Features\n",
    "\n",
    "df = df.drop(['RowNumber','CustomerId','Surname'],axis = 1)"
   ]
  },
  {
   "cell_type": "code",
   "execution_count": 7,
   "id": "62a14cc0",
   "metadata": {
    "execution": {
     "iopub.execute_input": "2025-08-24T06:23:21.033126Z",
     "iopub.status.busy": "2025-08-24T06:23:21.032933Z",
     "iopub.status.idle": "2025-08-24T06:23:21.041609Z",
     "shell.execute_reply": "2025-08-24T06:23:21.040873Z"
    },
    "papermill": {
     "duration": 0.014445,
     "end_time": "2025-08-24T06:23:21.042729",
     "exception": false,
     "start_time": "2025-08-24T06:23:21.028284",
     "status": "completed"
    },
    "tags": []
   },
   "outputs": [
    {
     "name": "stdout",
     "output_type": "stream",
     "text": [
      "<class 'pandas.core.frame.DataFrame'>\n",
      "RangeIndex: 10000 entries, 0 to 9999\n",
      "Data columns (total 11 columns):\n",
      " #   Column           Non-Null Count  Dtype  \n",
      "---  ------           --------------  -----  \n",
      " 0   CreditScore      10000 non-null  int64  \n",
      " 1   Geography        10000 non-null  object \n",
      " 2   Gender           10000 non-null  object \n",
      " 3   Age              10000 non-null  int64  \n",
      " 4   Tenure           10000 non-null  int64  \n",
      " 5   Balance          10000 non-null  float64\n",
      " 6   NumOfProducts    10000 non-null  int64  \n",
      " 7   HasCrCard        10000 non-null  int64  \n",
      " 8   IsActiveMember   10000 non-null  int64  \n",
      " 9   EstimatedSalary  10000 non-null  float64\n",
      " 10  Exited           10000 non-null  int64  \n",
      "dtypes: float64(2), int64(7), object(2)\n",
      "memory usage: 859.5+ KB\n"
     ]
    }
   ],
   "source": [
    "df.info()"
   ]
  },
  {
   "cell_type": "code",
   "execution_count": 8,
   "id": "75ed53c7",
   "metadata": {
    "execution": {
     "iopub.execute_input": "2025-08-24T06:23:21.052423Z",
     "iopub.status.busy": "2025-08-24T06:23:21.052192Z",
     "iopub.status.idle": "2025-08-24T06:23:21.055326Z",
     "shell.execute_reply": "2025-08-24T06:23:21.054739Z"
    },
    "papermill": {
     "duration": 0.009099,
     "end_time": "2025-08-24T06:23:21.056440",
     "exception": false,
     "start_time": "2025-08-24T06:23:21.047341",
     "status": "completed"
    },
    "tags": []
   },
   "outputs": [],
   "source": [
    "# This not realted to project. It is to avoid future warning by seaborn\n",
    "\n",
    "import warnings\n",
    "warnings.filterwarnings('ignore')"
   ]
  },
  {
   "cell_type": "code",
   "execution_count": 9,
   "id": "67824607",
   "metadata": {
    "execution": {
     "iopub.execute_input": "2025-08-24T06:23:21.066717Z",
     "iopub.status.busy": "2025-08-24T06:23:21.066149Z",
     "iopub.status.idle": "2025-08-24T06:23:22.773759Z",
     "shell.execute_reply": "2025-08-24T06:23:22.773012Z"
    },
    "papermill": {
     "duration": 1.714843,
     "end_time": "2025-08-24T06:23:22.775888",
     "exception": false,
     "start_time": "2025-08-24T06:23:21.061045",
     "status": "completed"
    },
    "tags": []
   },
   "outputs": [
    {
     "data": {
      "image/png": "[encoded data removed]",
      "text/plain": [
       "<Figure size 1200x700 with 6 Axes>"
      ]
     },
     "metadata": {},
     "output_type": "display_data"
    }
   ],
   "source": [
    "# Distributions for Numeric columns \n",
    "\n",
    "num_cols = ['CreditScore','Age','Tenure','Balance','EstimatedSalary','NumOfProducts']\n",
    "\n",
    "n = 0 \n",
    "plt.figure(figsize=(12,7))\n",
    "for col in num_cols:\n",
    "    n = n+1\n",
    "    plt.subplot(2,3,n)\n",
    "    sns.histplot(data = df, x = col, kde = True)\n",
    "    plt.title(f\"Distributions of {col}\")\n",
    "plt.tight_layout()\n",
    "plt.show()"
   ]
  },
  {
   "cell_type": "code",
   "execution_count": 10,
   "id": "d46ea030",
   "metadata": {
    "execution": {
     "iopub.execute_input": "2025-08-24T06:23:22.790720Z",
     "iopub.status.busy": "2025-08-24T06:23:22.790485Z",
     "iopub.status.idle": "2025-08-24T06:23:23.141128Z",
     "shell.execute_reply": "2025-08-24T06:23:23.140254Z"
    },
    "papermill": {
     "duration": 0.35942,
     "end_time": "2025-08-24T06:23:23.142395",
     "exception": false,
     "start_time": "2025-08-24T06:23:22.782975",
     "status": "completed"
    },
    "tags": []
   },
   "outputs": [
    {
     "data": {
      "image/png": "[encoded data removed]",
      "text/plain": [
       "<Figure size 1200x700 with 2 Axes>"
      ]
     },
     "metadata": {},
     "output_type": "display_data"
    }
   ],
   "source": [
    "# Gender and geography effect on Exited or churn\n",
    "\n",
    "plt.figure(figsize=(12,7))\n",
    "\n",
    "plt.subplot(1,2,1)\n",
    "plt.title(\"Gender VS Exited\")\n",
    "sns.countplot(data = df, x = 'Gender', hue = 'Exited')\n",
    "\n",
    "plt.subplot(1,2,2)\n",
    "plt.title(\"Geography VS Exited\")\n",
    "sns.countplot(data = df, x = 'Geography', hue = 'Exited')\n",
    "\n",
    "plt.tight_layout()\n",
    "plt.show()"
   ]
  },
  {
   "cell_type": "code",
   "execution_count": 11,
   "id": "1c677529",
   "metadata": {
    "execution": {
     "iopub.execute_input": "2025-08-24T06:23:23.159959Z",
     "iopub.status.busy": "2025-08-24T06:23:23.159178Z",
     "iopub.status.idle": "2025-08-24T06:23:23.164827Z",
     "shell.execute_reply": "2025-08-24T06:23:23.163905Z"
    },
    "papermill": {
     "duration": 0.015341,
     "end_time": "2025-08-24T06:23:23.166100",
     "exception": false,
     "start_time": "2025-08-24T06:23:23.150759",
     "status": "completed"
    },
    "tags": []
   },
   "outputs": [],
   "source": [
    "# splitting the data \n",
    "x = df.drop('Exited',axis = 1)\n",
    "y = df['Exited']"
   ]
  },
  {
   "cell_type": "code",
   "execution_count": 12,
   "id": "dff81789",
   "metadata": {
    "execution": {
     "iopub.execute_input": "2025-08-24T06:23:23.184925Z",
     "iopub.status.busy": "2025-08-24T06:23:23.184497Z",
     "iopub.status.idle": "2025-08-24T06:23:23.215523Z",
     "shell.execute_reply": "2025-08-24T06:23:23.214983Z"
    },
    "papermill": {
     "duration": 0.041499,
     "end_time": "2025-08-24T06:23:23.216651",
     "exception": false,
     "start_time": "2025-08-24T06:23:23.175152",
     "status": "completed"
    },
    "tags": []
   },
   "outputs": [],
   "source": [
    "# Scaling and encoding the data\n",
    "\n",
    "transformer = ColumnTransformer(transformers = [\n",
    "    ('sta_sca',StandardScaler(),['CreditScore','Age']),\n",
    "    ('min_max',MinMaxScaler(),['Tenure','EstimatedSalary']),\n",
    "    ('rob_sca',RobustScaler(),['Balance','NumOfProducts']),\n",
    "    ('one_hot',OneHotEncoder(sparse_output = False, handle_unknown = 'ignore'),['Gender','Geography']),\n",
    "    ('Passthrough','passthrough',['HasCrCard','IsActiveMember'])\n",
    "])\n",
    "\n",
    "transformed_data = transformer.fit_transform(x)\n",
    "\n",
    "transformed_data_features = transformer.get_feature_names_out()\n",
    "\n",
    "x_transformed = pd.DataFrame(transformed_data, columns = transformed_data_features)\n",
    "\n"
   ]
  },
  {
   "cell_type": "code",
   "execution_count": 13,
   "id": "9e96126a",
   "metadata": {
    "execution": {
     "iopub.execute_input": "2025-08-24T06:23:23.231770Z",
     "iopub.status.busy": "2025-08-24T06:23:23.231557Z",
     "iopub.status.idle": "2025-08-24T06:23:23.249739Z",
     "shell.execute_reply": "2025-08-24T06:23:23.249133Z"
    },
    "papermill": {
     "duration": 0.026826,
     "end_time": "2025-08-24T06:23:23.250759",
     "exception": false,
     "start_time": "2025-08-24T06:23:23.223933",
     "status": "completed"
    },
    "tags": []
   },
   "outputs": [
    {
     "data": {
      "text/html": [
       "<div>\n",
       "<style scoped>\n",
       "    .dataframe tbody tr th:only-of-type {\n",
       "        vertical-align: middle;\n",
       "    }\n",
       "\n",
       "    .dataframe tbody tr th {\n",
       "        vertical-align: top;\n",
       "    }\n",
       "\n",
       "    .dataframe thead th {\n",
       "        text-align: right;\n",
       "    }\n",
       "</style>\n",
       "<table border=\"1\" class=\"dataframe\">\n",
       "  <thead>\n",
       "    <tr style=\"text-align: right;\">\n",
       "      <th></th>\n",
       "      <th>sta_sca__CreditScore</th>\n",
       "      <th>sta_sca__Age</th>\n",
       "      <th>min_max__Tenure</th>\n",
       "      <th>min_max__EstimatedSalary</th>\n",
       "      <th>rob_sca__Balance</th>\n",
       "      <th>rob_sca__NumOfProducts</th>\n",
       "      <th>one_hot__Gender_Female</th>\n",
       "      <th>one_hot__Gender_Male</th>\n",
       "      <th>one_hot__Geography_France</th>\n",
       "      <th>one_hot__Geography_Germany</th>\n",
       "      <th>one_hot__Geography_Spain</th>\n",
       "      <th>Passthrough__HasCrCard</th>\n",
       "      <th>Passthrough__IsActiveMember</th>\n",
       "    </tr>\n",
       "  </thead>\n",
       "  <tbody>\n",
       "    <tr>\n",
       "      <th>0</th>\n",
       "      <td>-0.326221</td>\n",
       "      <td>0.293517</td>\n",
       "      <td>0.2</td>\n",
       "      <td>0.506735</td>\n",
       "      <td>-0.761480</td>\n",
       "      <td>0.0</td>\n",
       "      <td>1.0</td>\n",
       "      <td>0.0</td>\n",
       "      <td>1.0</td>\n",
       "      <td>0.0</td>\n",
       "      <td>0.0</td>\n",
       "      <td>1.0</td>\n",
       "      <td>1.0</td>\n",
       "    </tr>\n",
       "    <tr>\n",
       "      <th>1</th>\n",
       "      <td>-0.440036</td>\n",
       "      <td>0.198164</td>\n",
       "      <td>0.1</td>\n",
       "      <td>0.562709</td>\n",
       "      <td>-0.104906</td>\n",
       "      <td>0.0</td>\n",
       "      <td>1.0</td>\n",
       "      <td>0.0</td>\n",
       "      <td>0.0</td>\n",
       "      <td>0.0</td>\n",
       "      <td>1.0</td>\n",
       "      <td>0.0</td>\n",
       "      <td>1.0</td>\n",
       "    </tr>\n",
       "    <tr>\n",
       "      <th>2</th>\n",
       "      <td>-1.536794</td>\n",
       "      <td>0.293517</td>\n",
       "      <td>0.8</td>\n",
       "      <td>0.569654</td>\n",
       "      <td>0.489346</td>\n",
       "      <td>2.0</td>\n",
       "      <td>1.0</td>\n",
       "      <td>0.0</td>\n",
       "      <td>1.0</td>\n",
       "      <td>0.0</td>\n",
       "      <td>0.0</td>\n",
       "      <td>1.0</td>\n",
       "      <td>0.0</td>\n",
       "    </tr>\n",
       "    <tr>\n",
       "      <th>3</th>\n",
       "      <td>0.501521</td>\n",
       "      <td>0.007457</td>\n",
       "      <td>0.1</td>\n",
       "      <td>0.469120</td>\n",
       "      <td>-0.761480</td>\n",
       "      <td>1.0</td>\n",
       "      <td>1.0</td>\n",
       "      <td>0.0</td>\n",
       "      <td>1.0</td>\n",
       "      <td>0.0</td>\n",
       "      <td>0.0</td>\n",
       "      <td>0.0</td>\n",
       "      <td>0.0</td>\n",
       "    </tr>\n",
       "    <tr>\n",
       "      <th>4</th>\n",
       "      <td>2.063884</td>\n",
       "      <td>0.388871</td>\n",
       "      <td>0.2</td>\n",
       "      <td>0.395400</td>\n",
       "      <td>0.221806</td>\n",
       "      <td>0.0</td>\n",
       "      <td>1.0</td>\n",
       "      <td>0.0</td>\n",
       "      <td>0.0</td>\n",
       "      <td>0.0</td>\n",
       "      <td>1.0</td>\n",
       "      <td>1.0</td>\n",
       "      <td>1.0</td>\n",
       "    </tr>\n",
       "    <tr>\n",
       "      <th>...</th>\n",
       "      <td>...</td>\n",
       "      <td>...</td>\n",
       "      <td>...</td>\n",
       "      <td>...</td>\n",
       "      <td>...</td>\n",
       "      <td>...</td>\n",
       "      <td>...</td>\n",
       "      <td>...</td>\n",
       "      <td>...</td>\n",
       "      <td>...</td>\n",
       "      <td>...</td>\n",
       "      <td>...</td>\n",
       "      <td>...</td>\n",
       "    </tr>\n",
       "    <tr>\n",
       "      <th>9995</th>\n",
       "      <td>1.246488</td>\n",
       "      <td>0.007457</td>\n",
       "      <td>0.5</td>\n",
       "      <td>0.481341</td>\n",
       "      <td>-0.761480</td>\n",
       "      <td>1.0</td>\n",
       "      <td>0.0</td>\n",
       "      <td>1.0</td>\n",
       "      <td>1.0</td>\n",
       "      <td>0.0</td>\n",
       "      <td>0.0</td>\n",
       "      <td>1.0</td>\n",
       "      <td>0.0</td>\n",
       "    </tr>\n",
       "    <tr>\n",
       "      <th>9996</th>\n",
       "      <td>-1.391939</td>\n",
       "      <td>-0.373958</td>\n",
       "      <td>1.0</td>\n",
       "      <td>0.508490</td>\n",
       "      <td>-0.312031</td>\n",
       "      <td>0.0</td>\n",
       "      <td>0.0</td>\n",
       "      <td>1.0</td>\n",
       "      <td>1.0</td>\n",
       "      <td>0.0</td>\n",
       "      <td>0.0</td>\n",
       "      <td>1.0</td>\n",
       "      <td>1.0</td>\n",
       "    </tr>\n",
       "    <tr>\n",
       "      <th>9997</th>\n",
       "      <td>0.604988</td>\n",
       "      <td>-0.278604</td>\n",
       "      <td>0.7</td>\n",
       "      <td>0.210390</td>\n",
       "      <td>-0.761480</td>\n",
       "      <td>0.0</td>\n",
       "      <td>1.0</td>\n",
       "      <td>0.0</td>\n",
       "      <td>1.0</td>\n",
       "      <td>0.0</td>\n",
       "      <td>0.0</td>\n",
       "      <td>0.0</td>\n",
       "      <td>1.0</td>\n",
       "    </tr>\n",
       "    <tr>\n",
       "      <th>9998</th>\n",
       "      <td>1.256835</td>\n",
       "      <td>0.293517</td>\n",
       "      <td>0.3</td>\n",
       "      <td>0.464429</td>\n",
       "      <td>-0.173319</td>\n",
       "      <td>1.0</td>\n",
       "      <td>0.0</td>\n",
       "      <td>1.0</td>\n",
       "      <td>0.0</td>\n",
       "      <td>1.0</td>\n",
       "      <td>0.0</td>\n",
       "      <td>1.0</td>\n",
       "      <td>0.0</td>\n",
       "    </tr>\n",
       "    <tr>\n",
       "      <th>9999</th>\n",
       "      <td>1.463771</td>\n",
       "      <td>-1.041433</td>\n",
       "      <td>0.4</td>\n",
       "      <td>0.190914</td>\n",
       "      <td>0.258094</td>\n",
       "      <td>0.0</td>\n",
       "      <td>1.0</td>\n",
       "      <td>0.0</td>\n",
       "      <td>1.0</td>\n",
       "      <td>0.0</td>\n",
       "      <td>0.0</td>\n",
       "      <td>1.0</td>\n",
       "      <td>0.0</td>\n",
       "    </tr>\n",
       "  </tbody>\n",
       "</table>\n",
       "<p>10000 rows × 13 columns</p>\n",
       "</div>"
      ],
      "text/plain": [
       "      sta_sca__CreditScore  sta_sca__Age  min_max__Tenure  \\\n",
       "0                -0.326221      0.293517              0.2   \n",
       "1                -0.440036      0.198164              0.1   \n",
       "2                -1.536794      0.293517              0.8   \n",
       "3                 0.501521      0.007457              0.1   \n",
       "4                 2.063884      0.388871              0.2   \n",
       "...                    ...           ...              ...   \n",
       "9995              1.246488      0.007457              0.5   \n",
       "9996             -1.391939     -0.373958              1.0   \n",
       "9997              0.604988     -0.278604              0.7   \n",
       "9998              1.256835      0.293517              0.3   \n",
       "9999              1.463771     -1.041433              0.4   \n",
       "\n",
       "      min_max__EstimatedSalary  rob_sca__Balance  rob_sca__NumOfProducts  \\\n",
       "0                     0.506735         -0.761480                     0.0   \n",
       "1                     0.562709         -0.104906                     0.0   \n",
       "2                     0.569654          0.489346                     2.0   \n",
       "3                     0.469120         -0.761480                     1.0   \n",
       "4                     0.395400          0.221806                     0.0   \n",
       "...                        ...               ...                     ...   \n",
       "9995                  0.481341         -0.761480                     1.0   \n",
       "9996                  0.508490         -0.312031                     0.0   \n",
       "9997                  0.210390         -0.761480                     0.0   \n",
       "9998                  0.464429         -0.173319                     1.0   \n",
       "9999                  0.190914          0.258094                     0.0   \n",
       "\n",
       "      one_hot__Gender_Female  one_hot__Gender_Male  one_hot__Geography_France  \\\n",
       "0                        1.0                   0.0                        1.0   \n",
       "1                        1.0                   0.0                        0.0   \n",
       "2                        1.0                   0.0                        1.0   \n",
       "3                        1.0                   0.0                        1.0   \n",
       "4                        1.0                   0.0                        0.0   \n",
       "...                      ...                   ...                        ...   \n",
       "9995                     0.0                   1.0                        1.0   \n",
       "9996                     0.0                   1.0                        1.0   \n",
       "9997                     1.0                   0.0                        1.0   \n",
       "9998                     0.0                   1.0                        0.0   \n",
       "9999                     1.0                   0.0                        1.0   \n",
       "\n",
       "      one_hot__Geography_Germany  one_hot__Geography_Spain  \\\n",
       "0                            0.0                       0.0   \n",
       "1                            0.0                       1.0   \n",
       "2                            0.0                       0.0   \n",
       "3                            0.0                       0.0   \n",
       "4                            0.0                       1.0   \n",
       "...                          ...                       ...   \n",
       "9995                         0.0                       0.0   \n",
       "9996                         0.0                       0.0   \n",
       "9997                         0.0                       0.0   \n",
       "9998                         1.0                       0.0   \n",
       "9999                         0.0                       0.0   \n",
       "\n",
       "      Passthrough__HasCrCard  Passthrough__IsActiveMember  \n",
       "0                        1.0                          1.0  \n",
       "1                        0.0                          1.0  \n",
       "2                        1.0                          0.0  \n",
       "3                        0.0                          0.0  \n",
       "4                        1.0                          1.0  \n",
       "...                      ...                          ...  \n",
       "9995                     1.0                          0.0  \n",
       "9996                     1.0                          1.0  \n",
       "9997                     0.0                          1.0  \n",
       "9998                     1.0                          0.0  \n",
       "9999                     1.0                          0.0  \n",
       "\n",
       "[10000 rows x 13 columns]"
      ]
     },
     "execution_count": 13,
     "metadata": {},
     "output_type": "execute_result"
    }
   ],
   "source": [
    " x_transformed"
   ]
  },
  {
   "cell_type": "code",
   "execution_count": 14,
   "id": "3f735e6f",
   "metadata": {
    "execution": {
     "iopub.execute_input": "2025-08-24T06:23:23.267376Z",
     "iopub.status.busy": "2025-08-24T06:23:23.267158Z",
     "iopub.status.idle": "2025-08-24T06:23:23.274960Z",
     "shell.execute_reply": "2025-08-24T06:23:23.274440Z"
    },
    "papermill": {
     "duration": 0.016929,
     "end_time": "2025-08-24T06:23:23.276052",
     "exception": false,
     "start_time": "2025-08-24T06:23:23.259123",
     "status": "completed"
    },
    "tags": []
   },
   "outputs": [],
   "source": [
    "# Splitting the data into training and testing data\n",
    "\n",
    "x_train,x_test,y_train,y_test = train_test_split(x_transformed,y,test_size=0.2,random_state=30,stratify = y,)"
   ]
  },
  {
   "cell_type": "code",
   "execution_count": 15,
   "id": "f940b63e",
   "metadata": {
    "execution": {
     "iopub.execute_input": "2025-08-24T06:23:23.293029Z",
     "iopub.status.busy": "2025-08-24T06:23:23.292835Z",
     "iopub.status.idle": "2025-08-24T06:23:23.296193Z",
     "shell.execute_reply": "2025-08-24T06:23:23.295534Z"
    },
    "papermill": {
     "duration": 0.0127,
     "end_time": "2025-08-24T06:23:23.297290",
     "exception": false,
     "start_time": "2025-08-24T06:23:23.284590",
     "status": "completed"
    },
    "tags": []
   },
   "outputs": [],
   "source": [
    "# Converting them to numpy arrays\n",
    "x_train_np = x_train.values\n",
    "x_test_np = x_test.values\n",
    "y_train_np = y_train.values\n",
    "y_test_np = y_test.values"
   ]
  },
  {
   "cell_type": "code",
   "execution_count": 16,
   "id": "cefaa115",
   "metadata": {
    "execution": {
     "iopub.execute_input": "2025-08-24T06:23:23.313443Z",
     "iopub.status.busy": "2025-08-24T06:23:23.313196Z",
     "iopub.status.idle": "2025-08-24T06:23:23.336939Z",
     "shell.execute_reply": "2025-08-24T06:23:23.336435Z"
    },
    "papermill": {
     "duration": 0.033059,
     "end_time": "2025-08-24T06:23:23.337983",
     "exception": false,
     "start_time": "2025-08-24T06:23:23.304924",
     "status": "completed"
    },
    "tags": []
   },
   "outputs": [],
   "source": [
    "# Converting to tensors because neural networks only accepts tensors\n",
    "\n",
    "x_train_tensor = torch.tensor(x_train_np, dtype = torch.float32)\n",
    "x_test_tensor = torch.tensor(x_test_np, dtype = torch.float32)\n",
    "y_train_tensor = torch.tensor(y_train_np, dtype = torch.float32)\n",
    "y_test_tensor = torch.tensor(y_test_np, dtype = torch.float32)"
   ]
  },
  {
   "cell_type": "code",
   "execution_count": 17,
   "id": "d54a1714",
   "metadata": {
    "execution": {
     "iopub.execute_input": "2025-08-24T06:23:23.356763Z",
     "iopub.status.busy": "2025-08-24T06:23:23.356173Z",
     "iopub.status.idle": "2025-08-24T06:23:23.441287Z",
     "shell.execute_reply": "2025-08-24T06:23:23.440420Z"
    },
    "papermill": {
     "duration": 0.094844,
     "end_time": "2025-08-24T06:23:23.442627",
     "exception": false,
     "start_time": "2025-08-24T06:23:23.347783",
     "status": "completed"
    },
    "tags": []
   },
   "outputs": [
    {
     "name": "stdout",
     "output_type": "stream",
     "text": [
      "Using Device : cuda\n"
     ]
    }
   ],
   "source": [
    "# Checking for GPU access\n",
    "device = torch.device('cuda' if torch.cuda.is_available() else 'CPU')\n",
    "print(f\"Using Device : {device}\")"
   ]
  },
  {
   "cell_type": "code",
   "execution_count": 18,
   "id": "6899f578",
   "metadata": {
    "execution": {
     "iopub.execute_input": "2025-08-24T06:23:23.459785Z",
     "iopub.status.busy": "2025-08-24T06:23:23.459536Z",
     "iopub.status.idle": "2025-08-24T06:23:23.463704Z",
     "shell.execute_reply": "2025-08-24T06:23:23.462998Z"
    },
    "papermill": {
     "duration": 0.013599,
     "end_time": "2025-08-24T06:23:23.464882",
     "exception": false,
     "start_time": "2025-08-24T06:23:23.451283",
     "status": "completed"
    },
    "tags": []
   },
   "outputs": [],
   "source": [
    "# Creating Dataset class\n",
    "\n",
    "class CustomDataset(Dataset):\n",
    "    def __init__(self,features,labels):\n",
    "        self.features = features\n",
    "        self.labels = labels\n",
    "    def __len__(self):\n",
    "        return len(self.features)\n",
    "    def __getitem__(self,index):\n",
    "        return self.features[index],self.labels[index]\n",
    "\n"
   ]
  },
  {
   "cell_type": "code",
   "execution_count": 19,
   "id": "ef427307",
   "metadata": {
    "execution": {
     "iopub.execute_input": "2025-08-24T06:23:23.481670Z",
     "iopub.status.busy": "2025-08-24T06:23:23.481465Z",
     "iopub.status.idle": "2025-08-24T06:23:23.484830Z",
     "shell.execute_reply": "2025-08-24T06:23:23.484087Z"
    },
    "papermill": {
     "duration": 0.012721,
     "end_time": "2025-08-24T06:23:23.485939",
     "exception": false,
     "start_time": "2025-08-24T06:23:23.473218",
     "status": "completed"
    },
    "tags": []
   },
   "outputs": [],
   "source": [
    "# Objects for training and testing data\n",
    "\n",
    "train_dataset = CustomDataset(x_train_tensor,y_train_tensor)\n",
    "test_dataset = CustomDataset(x_test_tensor,y_test_tensor)"
   ]
  },
  {
   "cell_type": "code",
   "execution_count": 20,
   "id": "c8a0b0b8",
   "metadata": {
    "execution": {
     "iopub.execute_input": "2025-08-24T06:23:23.502874Z",
     "iopub.status.busy": "2025-08-24T06:23:23.502470Z",
     "iopub.status.idle": "2025-08-24T06:23:23.507434Z",
     "shell.execute_reply": "2025-08-24T06:23:23.506820Z"
    },
    "papermill": {
     "duration": 0.014557,
     "end_time": "2025-08-24T06:23:23.508567",
     "exception": false,
     "start_time": "2025-08-24T06:23:23.494010",
     "status": "completed"
    },
    "tags": []
   },
   "outputs": [],
   "source": [
    "# Objects for DatLoader class\n",
    "\n",
    "train_loader = DataLoader(train_dataset,batch_size = 64, shuffle = True, pin_memory = True)\n",
    "test_loader = DataLoader(test_dataset,batch_size = 64, shuffle = False, pin_memory = True)"
   ]
  },
  {
   "cell_type": "code",
   "execution_count": 21,
   "id": "15ef1bae",
   "metadata": {
    "execution": {
     "iopub.execute_input": "2025-08-24T06:23:23.525431Z",
     "iopub.status.busy": "2025-08-24T06:23:23.525201Z",
     "iopub.status.idle": "2025-08-24T06:23:23.529511Z",
     "shell.execute_reply": "2025-08-24T06:23:23.528831Z"
    },
    "papermill": {
     "duration": 0.01383,
     "end_time": "2025-08-24T06:23:23.530674",
     "exception": false,
     "start_time": "2025-08-24T06:23:23.516844",
     "status": "completed"
    },
    "tags": []
   },
   "outputs": [],
   "source": [
    "# Creating Neural Network Architecture\n",
    "\n",
    "class MyNN(nn.Module):\n",
    "    def __init__(self,num_features):\n",
    "        super().__init__()\n",
    "        self.num_features = num_features\n",
    "        self.model = nn.Sequential(\n",
    "            nn.Linear(num_features,16),\n",
    "            nn.ReLU(),\n",
    "            nn.Linear(16,8),\n",
    "            nn.ReLU(),\n",
    "            nn.Linear(8,1),\n",
    "            nn.Sigmoid()\n",
    "        )\n",
    "    def forward(self,x):\n",
    "        return self.model(x)\n",
    "        "
   ]
  },
  {
   "cell_type": "code",
   "execution_count": 22,
   "id": "d7085a1c",
   "metadata": {
    "execution": {
     "iopub.execute_input": "2025-08-24T06:23:23.546945Z",
     "iopub.status.busy": "2025-08-24T06:23:23.546745Z",
     "iopub.status.idle": "2025-08-24T06:23:23.549850Z",
     "shell.execute_reply": "2025-08-24T06:23:23.549167Z"
    },
    "papermill": {
     "duration": 0.012488,
     "end_time": "2025-08-24T06:23:23.550846",
     "exception": false,
     "start_time": "2025-08-24T06:23:23.538358",
     "status": "completed"
    },
    "tags": []
   },
   "outputs": [],
   "source": [
    "# Epochs and lerning_rate\n",
    "epochs = 200\n",
    "learning_rate = 0.3"
   ]
  },
  {
   "cell_type": "code",
   "execution_count": 23,
   "id": "b91b3d89",
   "metadata": {
    "execution": {
     "iopub.execute_input": "2025-08-24T06:23:23.566696Z",
     "iopub.status.busy": "2025-08-24T06:23:23.566497Z",
     "iopub.status.idle": "2025-08-24T06:23:28.065774Z",
     "shell.execute_reply": "2025-08-24T06:23:28.064931Z"
    },
    "papermill": {
     "duration": 4.508686,
     "end_time": "2025-08-24T06:23:28.067164",
     "exception": false,
     "start_time": "2025-08-24T06:23:23.558478",
     "status": "completed"
    },
    "tags": []
   },
   "outputs": [],
   "source": [
    "# Initalizing the model\n",
    "\n",
    "# Model\n",
    "model = MyNN(x_train_tensor.shape[1])\n",
    "model.to(device)\n",
    "\n",
    "#loss function Initialization\n",
    "loss_fn = nn.BCELoss()\n",
    "\n",
    "#Optimization\n",
    "\n",
    "optim = optim.SGD(model.parameters(), lr = learning_rate)\n",
    "\n"
   ]
  },
  {
   "cell_type": "code",
   "execution_count": 24,
   "id": "a5215116",
   "metadata": {
    "execution": {
     "iopub.execute_input": "2025-08-24T06:23:28.084529Z",
     "iopub.status.busy": "2025-08-24T06:23:28.083696Z",
     "iopub.status.idle": "2025-08-24T06:24:10.079485Z",
     "shell.execute_reply": "2025-08-24T06:24:10.078632Z"
    },
    "papermill": {
     "duration": 42.005245,
     "end_time": "2025-08-24T06:24:10.080691",
     "exception": false,
     "start_time": "2025-08-24T06:23:28.075446",
     "status": "completed"
    },
    "tags": []
   },
   "outputs": [
    {
     "name": "stdout",
     "output_type": "stream",
     "text": [
      "Epoch : 1   Loss : 0.4644594841003418\n",
      "Epoch : 2   Loss : 0.4249417979717255\n",
      "Epoch : 3   Loss : 0.4100945361852646\n",
      "Epoch : 4   Loss : 0.38409878420829774\n",
      "Epoch : 5   Loss : 0.36093733406066897\n",
      "Epoch : 6   Loss : 0.35180197191238405\n",
      "Epoch : 7   Loss : 0.34665022575855253\n",
      "Epoch : 8   Loss : 0.34491354346275327\n",
      "Epoch : 9   Loss : 0.34073207664489746\n",
      "Epoch : 10   Loss : 0.3404534132480621\n",
      "Epoch : 11   Loss : 0.33847082471847534\n",
      "Epoch : 12   Loss : 0.3392371345758438\n",
      "Epoch : 13   Loss : 0.3355067002773285\n",
      "Epoch : 14   Loss : 0.33703121602535246\n",
      "Epoch : 15   Loss : 0.33425553631782534\n",
      "Epoch : 16   Loss : 0.33676974308490754\n",
      "Epoch : 17   Loss : 0.33565017008781434\n",
      "Epoch : 18   Loss : 0.3352263970375061\n",
      "Epoch : 19   Loss : 0.33295363128185274\n",
      "Epoch : 20   Loss : 0.33360196137428283\n",
      "Epoch : 21   Loss : 0.332693421125412\n",
      "Epoch : 22   Loss : 0.33228485798835755\n",
      "Epoch : 23   Loss : 0.33210799014568326\n",
      "Epoch : 24   Loss : 0.33174465656280516\n",
      "Epoch : 25   Loss : 0.3307147444486618\n",
      "Epoch : 26   Loss : 0.3304914078712463\n",
      "Epoch : 27   Loss : 0.33146581959724425\n",
      "Epoch : 28   Loss : 0.3293221250772476\n",
      "Epoch : 29   Loss : 0.3303641253709793\n",
      "Epoch : 30   Loss : 0.33005916213989256\n",
      "Epoch : 31   Loss : 0.33065819382667544\n",
      "Epoch : 32   Loss : 0.32915479826927185\n",
      "Epoch : 33   Loss : 0.32984920966625214\n",
      "Epoch : 34   Loss : 0.3286627230644226\n",
      "Epoch : 35   Loss : 0.32803684830665586\n",
      "Epoch : 36   Loss : 0.3277411428689957\n",
      "Epoch : 37   Loss : 0.32827501308918\n",
      "Epoch : 38   Loss : 0.32688079738616943\n",
      "Epoch : 39   Loss : 0.3273189013004303\n",
      "Epoch : 40   Loss : 0.3276748008728027\n",
      "Epoch : 41   Loss : 0.32733151400089266\n",
      "Epoch : 42   Loss : 0.3272340259552002\n",
      "Epoch : 43   Loss : 0.3266316851377487\n",
      "Epoch : 44   Loss : 0.3261576224565506\n",
      "Epoch : 45   Loss : 0.32544745874404907\n",
      "Epoch : 46   Loss : 0.32465441000461576\n",
      "Epoch : 47   Loss : 0.32656310725212095\n",
      "Epoch : 48   Loss : 0.3261626486778259\n",
      "Epoch : 49   Loss : 0.32379082453250885\n",
      "Epoch : 50   Loss : 0.325416757941246\n",
      "Epoch : 51   Loss : 0.3243484090566635\n",
      "Epoch : 52   Loss : 0.3242138686180115\n",
      "Epoch : 53   Loss : 0.3245719028711319\n",
      "Epoch : 54   Loss : 0.32467392027378084\n",
      "Epoch : 55   Loss : 0.32398734736442564\n",
      "Epoch : 56   Loss : 0.32483054673671724\n",
      "Epoch : 57   Loss : 0.32447506856918334\n",
      "Epoch : 58   Loss : 0.3242876160144806\n",
      "Epoch : 59   Loss : 0.323147385597229\n",
      "Epoch : 60   Loss : 0.3235760073661804\n",
      "Epoch : 61   Loss : 0.3237242965698242\n",
      "Epoch : 62   Loss : 0.3235883960723877\n",
      "Epoch : 63   Loss : 0.32344685530662537\n",
      "Epoch : 64   Loss : 0.32286318826675414\n",
      "Epoch : 65   Loss : 0.3225810205936432\n",
      "Epoch : 66   Loss : 0.32176347291469576\n",
      "Epoch : 67   Loss : 0.32224813580513\n",
      "Epoch : 68   Loss : 0.32118422746658326\n",
      "Epoch : 69   Loss : 0.3225612884759903\n",
      "Epoch : 70   Loss : 0.3214775710105896\n",
      "Epoch : 71   Loss : 0.32300525522232054\n",
      "Epoch : 72   Loss : 0.3221041209697723\n",
      "Epoch : 73   Loss : 0.32104425454139707\n",
      "Epoch : 74   Loss : 0.3216978185176849\n",
      "Epoch : 75   Loss : 0.32126443457603454\n",
      "Epoch : 76   Loss : 0.32178630542755127\n",
      "Epoch : 77   Loss : 0.31939187490940096\n",
      "Epoch : 78   Loss : 0.3194138381481171\n",
      "Epoch : 79   Loss : 0.3204461296796799\n",
      "Epoch : 80   Loss : 0.3200738852024078\n",
      "Epoch : 81   Loss : 0.31869696235656736\n",
      "Epoch : 82   Loss : 0.32041935431957247\n",
      "Epoch : 83   Loss : 0.32108256232738497\n",
      "Epoch : 84   Loss : 0.3205231845378876\n",
      "Epoch : 85   Loss : 0.3207927277088165\n",
      "Epoch : 86   Loss : 0.3199036271572113\n",
      "Epoch : 87   Loss : 0.3201174503564835\n",
      "Epoch : 88   Loss : 0.3205745061635971\n",
      "Epoch : 89   Loss : 0.3192989513874054\n",
      "Epoch : 90   Loss : 0.31851680219173434\n",
      "Epoch : 91   Loss : 0.3187924699783325\n",
      "Epoch : 92   Loss : 0.3189712909460068\n",
      "Epoch : 93   Loss : 0.31884593415260315\n",
      "Epoch : 94   Loss : 0.3190889199972153\n",
      "Epoch : 95   Loss : 0.3186079211235046\n",
      "Epoch : 96   Loss : 0.31895865774154664\n",
      "Epoch : 97   Loss : 0.31851930570602416\n",
      "Epoch : 98   Loss : 0.3179644714593887\n",
      "Epoch : 99   Loss : 0.31898845779895785\n",
      "Epoch : 100   Loss : 0.3175830842256546\n",
      "Epoch : 101   Loss : 0.3176033823490143\n",
      "Epoch : 102   Loss : 0.3181070147752762\n",
      "Epoch : 103   Loss : 0.3181205521821976\n",
      "Epoch : 104   Loss : 0.31761018335819247\n",
      "Epoch : 105   Loss : 0.317865763425827\n",
      "Epoch : 106   Loss : 0.31770958518981934\n",
      "Epoch : 107   Loss : 0.3184902433156967\n",
      "Epoch : 108   Loss : 0.31706214034557345\n",
      "Epoch : 109   Loss : 0.31736072516441344\n",
      "Epoch : 110   Loss : 0.3164906340837479\n",
      "Epoch : 111   Loss : 0.31660649001598357\n",
      "Epoch : 112   Loss : 0.31648891735076906\n",
      "Epoch : 113   Loss : 0.31711073756217956\n",
      "Epoch : 114   Loss : 0.3162446526288986\n",
      "Epoch : 115   Loss : 0.31699422001838684\n",
      "Epoch : 116   Loss : 0.3160321615934372\n",
      "Epoch : 117   Loss : 0.3155945533514023\n",
      "Epoch : 118   Loss : 0.31542978119850157\n",
      "Epoch : 119   Loss : 0.3153674222230911\n",
      "Epoch : 120   Loss : 0.3156701420545578\n",
      "Epoch : 121   Loss : 0.31648821401596067\n",
      "Epoch : 122   Loss : 0.3153370982408524\n",
      "Epoch : 123   Loss : 0.31552469849586484\n",
      "Epoch : 124   Loss : 0.31536022782325746\n",
      "Epoch : 125   Loss : 0.31465991616249084\n",
      "Epoch : 126   Loss : 0.31570566129684446\n",
      "Epoch : 127   Loss : 0.3152346853017807\n",
      "Epoch : 128   Loss : 0.3152820682525635\n",
      "Epoch : 129   Loss : 0.31480146205425263\n",
      "Epoch : 130   Loss : 0.3149085831642151\n",
      "Epoch : 131   Loss : 0.3142493908405304\n",
      "Epoch : 132   Loss : 0.3142816162109375\n",
      "Epoch : 133   Loss : 0.3142064837217331\n",
      "Epoch : 134   Loss : 0.31477951967716217\n",
      "Epoch : 135   Loss : 0.31286923837661745\n",
      "Epoch : 136   Loss : 0.31522519528865817\n",
      "Epoch : 137   Loss : 0.3133194568157196\n",
      "Epoch : 138   Loss : 0.31345834290981295\n",
      "Epoch : 139   Loss : 0.3140059010982513\n",
      "Epoch : 140   Loss : 0.3126736110448837\n",
      "Epoch : 141   Loss : 0.31304876387119296\n",
      "Epoch : 142   Loss : 0.3127329354286194\n",
      "Epoch : 143   Loss : 0.3140221517086029\n",
      "Epoch : 144   Loss : 0.3135786349773407\n",
      "Epoch : 145   Loss : 0.31355044639110563\n",
      "Epoch : 146   Loss : 0.3127166658639908\n",
      "Epoch : 147   Loss : 0.3133657500743866\n",
      "Epoch : 148   Loss : 0.31287311017513275\n",
      "Epoch : 149   Loss : 0.31237872850894927\n",
      "Epoch : 150   Loss : 0.3127049570083618\n",
      "Epoch : 151   Loss : 0.3119044324159622\n",
      "Epoch : 152   Loss : 0.31207483863830565\n",
      "Epoch : 153   Loss : 0.3111245161294937\n",
      "Epoch : 154   Loss : 0.3122718267440796\n",
      "Epoch : 155   Loss : 0.3128078711032867\n",
      "Epoch : 156   Loss : 0.3131401469707489\n",
      "Epoch : 157   Loss : 0.31270761477947234\n",
      "Epoch : 158   Loss : 0.3124196813106537\n",
      "Epoch : 159   Loss : 0.3121796647310257\n",
      "Epoch : 160   Loss : 0.31117325139045715\n",
      "Epoch : 161   Loss : 0.312439545750618\n",
      "Epoch : 162   Loss : 0.31168303549289705\n",
      "Epoch : 163   Loss : 0.31170871245861054\n",
      "Epoch : 164   Loss : 0.3119337406158447\n",
      "Epoch : 165   Loss : 0.30999725461006167\n",
      "Epoch : 166   Loss : 0.31134393680095673\n",
      "Epoch : 167   Loss : 0.3106813987493515\n",
      "Epoch : 168   Loss : 0.30969459438323976\n",
      "Epoch : 169   Loss : 0.310671435713768\n",
      "Epoch : 170   Loss : 0.3111802889108658\n",
      "Epoch : 171   Loss : 0.3094084539413452\n",
      "Epoch : 172   Loss : 0.31253974175453186\n",
      "Epoch : 173   Loss : 0.3105070482492447\n",
      "Epoch : 174   Loss : 0.31027466225624084\n",
      "Epoch : 175   Loss : 0.3096845749616623\n",
      "Epoch : 176   Loss : 0.30908146452903745\n",
      "Epoch : 177   Loss : 0.30909486079216003\n",
      "Epoch : 178   Loss : 0.3109636169672012\n",
      "Epoch : 179   Loss : 0.30944454157352447\n",
      "Epoch : 180   Loss : 0.3101942712068558\n",
      "Epoch : 181   Loss : 0.3103089561462402\n",
      "Epoch : 182   Loss : 0.30933065152168276\n",
      "Epoch : 183   Loss : 0.3095232001543045\n",
      "Epoch : 184   Loss : 0.3092284851074219\n",
      "Epoch : 185   Loss : 0.31025614953041075\n",
      "Epoch : 186   Loss : 0.30835823190212247\n",
      "Epoch : 187   Loss : 0.3100185716152191\n",
      "Epoch : 188   Loss : 0.3079783436059952\n",
      "Epoch : 189   Loss : 0.30930240714550017\n",
      "Epoch : 190   Loss : 0.30867956149578096\n",
      "Epoch : 191   Loss : 0.30920972442626954\n",
      "Epoch : 192   Loss : 0.30962785077095034\n",
      "Epoch : 193   Loss : 0.307132314324379\n",
      "Epoch : 194   Loss : 0.30810378992557524\n",
      "Epoch : 195   Loss : 0.30868893206119535\n",
      "Epoch : 196   Loss : 0.31000042033195496\n",
      "Epoch : 197   Loss : 0.30860436654090884\n",
      "Epoch : 198   Loss : 0.30833835804462434\n",
      "Epoch : 199   Loss : 0.307677922129631\n",
      "Epoch : 200   Loss : 0.3078297966718674\n"
     ]
    }
   ],
   "source": [
    "# Training the data\n",
    "\n",
    "for epoch in range(epochs):\n",
    "    total_epoch_loss = 0\n",
    "    for batch_features,batch_labels in train_loader:\n",
    "        # Moving to GPU\n",
    "        batch_features,batch_labels = batch_features.to(device),batch_labels.to(device)\n",
    "\n",
    "        # Forward Pass\n",
    "        output = model(batch_features)\n",
    "\n",
    "        # Loss Calculation\n",
    "        loss = loss_fn(output,batch_labels.view(-1,1).float())\n",
    "\n",
    "        # back propogation\n",
    "        optim.zero_grad()\n",
    "        loss.backward()\n",
    "\n",
    "        # Optimization\n",
    "        optim.step()\n",
    "\n",
    "        total_epoch_loss = total_epoch_loss + loss.item()\n",
    "\n",
    "    avg_epoch_loss = total_epoch_loss/len(train_loader)\n",
    "    print(f\"Epoch : {epoch+1}   Loss : {avg_epoch_loss}\")"
   ]
  },
  {
   "cell_type": "code",
   "execution_count": 25,
   "id": "0121d605",
   "metadata": {
    "execution": {
     "iopub.execute_input": "2025-08-24T06:24:10.111527Z",
     "iopub.status.busy": "2025-08-24T06:24:10.111124Z",
     "iopub.status.idle": "2025-08-24T06:24:10.178526Z",
     "shell.execute_reply": "2025-08-24T06:24:10.177714Z"
    },
    "papermill": {
     "duration": 0.084017,
     "end_time": "2025-08-24T06:24:10.179630",
     "exception": false,
     "start_time": "2025-08-24T06:24:10.095613",
     "status": "completed"
    },
    "tags": []
   },
   "outputs": [
    {
     "name": "stdout",
     "output_type": "stream",
     "text": [
      "Test Accuracy: 0.8640\n",
      "Test Precision: 0.7437\n",
      "Test Recall: 0.5061\n",
      "Test F1-Score: 0.6023\n"
     ]
    }
   ],
   "source": [
    "# Model Evaluation\n",
    "\n",
    "# Set the model to evaluation mode\n",
    "model.eval()\n",
    "\n",
    "# Reset lists before starting the evaluation run\n",
    "all_preds = []\n",
    "all_labels = []\n",
    "\n",
    "# Turn off gradient calculation for evaluation\n",
    "with torch.no_grad():\n",
    "    for batch_features, batch_labels in test_loader:\n",
    "        # Move data to GPU\n",
    "        batch_features, batch_labels = batch_features.to(device), batch_labels.to(device)\n",
    "\n",
    "        # Forward pass\n",
    "        outputs = model(batch_features)\n",
    "\n",
    "        # Convert probabilities to binary predictions (0 or 1)\n",
    "        predictions = (outputs > 0.5).float().cpu().numpy()\n",
    "        \n",
    "        all_preds.extend(predictions)\n",
    "        all_labels.extend(batch_labels.cpu().numpy())\n",
    "\n",
    "# Convert lists to NumPy arrays\n",
    "# Use .flatten() to ensure a 1D array\n",
    "all_preds = np.array(all_preds).flatten()\n",
    "all_labels = np.array(all_labels).flatten()\n",
    "\n",
    "# Calculate metrics\n",
    "accuracy = accuracy_score(all_labels, all_preds)\n",
    "precision = precision_score(all_labels, all_preds)\n",
    "recall = recall_score(all_labels, all_preds)\n",
    "f1 = f1_score(all_labels, all_preds)\n",
    "\n",
    "print(f\"Test Accuracy: {accuracy:.4f}\")\n",
    "print(f\"Test Precision: {precision:.4f}\")\n",
    "print(f\"Test Recall: {recall:.4f}\")\n",
    "print(f\"Test F1-Score: {f1:.4f}\")"
   ]
  },
  {
   "cell_type": "markdown",
   "id": "799b13a4",
   "metadata": {
    "papermill": {
     "duration": 0.015384,
     "end_time": "2025-08-24T06:24:10.210850",
     "exception": false,
     "start_time": "2025-08-24T06:24:10.195466",
     "status": "completed"
    },
    "tags": []
   },
   "source": [
    "# Summary\n",
    "\n",
    "The model achieved a test accuracy of ~86%, which initially looks good. However, deeper evaluation metrics revealed that the model struggles with correctly identifying customers who actually churn (Recall ≈ 43%). This gap highlights the impact of class imbalance—where non-churn cases dominate the dataset, leading the model to bias towards predicting customers as “not leaving.”\n",
    "\n",
    "While accuracy remains high, metrics like Precision, Recall, and F1-score provide better insights. Precision indicates the model is fairly reliable when it predicts churn, but Recall shows it misses many actual churn cases. This is common in real-world business problems where imbalanced datasets cause models to favor the majority class.\n",
    "\n",
    "👉 Overall, this project strengthened my understanding of MLPs, model evaluation beyond accuracy, and the importance of handling class imbalance in predictive modeling."
   ]
  }
 ],
 "metadata": {
  "kaggle": {
   "accelerator": "nvidiaTeslaT4",
   "dataSources": [
    {
     "datasetId": 869651,
     "sourceId": 1481789,
     "sourceType": "datasetVersion"
    }
   ],
   "dockerImageVersionId": 31090,
   "isGpuEnabled": true,
   "isInternetEnabled": true,
   "language": "python",
   "sourceType": "notebook"
  },
  "kernelspec": {
   "display_name": "Python 3",
   "language": "python",
   "name": "python3"
  },
  "language_info": {
   "codemirror_mode": {
    "name": "ipython",
    "version": 3
   },
   "file_extension": ".py",
   "mimetype": "text/x-python",
   "name": "python",
   "nbconvert_exporter": "python",
   "pygments_lexer": "ipython3",
   "version": "3.11.13"
  },
  "papermill": {
   "default_parameters": {},
   "duration": 60.960815,
   "end_time": "2025-08-24T06:24:11.646281",
   "environment_variables": {},
   "exception": null,
   "input_path": "__notebook__.ipynb",
   "output_path": "__notebook__.ipynb",
   "parameters": {},
   "start_time": "2025-08-24T06:23:10.685466",
   "version": "2.6.0"
  }
 },
 "nbformat": 4,
 "nbformat_minor": 5
}
