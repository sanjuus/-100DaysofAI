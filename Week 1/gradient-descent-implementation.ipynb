{
 "cells": [
  {
   "cell_type": "markdown",
   "id": "035a5ca6",
   "metadata": {
    "papermill": {
     "duration": 0.00405,
     "end_time": "2025-08-26T13:55:49.131646",
     "exception": false,
     "start_time": "2025-08-26T13:55:49.127596",
     "status": "completed"
    },
    "tags": []
   },
   "source": [
    "# Gradient Descent Algorithm\n",
    "* Gradinet descent is a first-order iterative optimization algorithm for finding a local minimum of a differentiation function.\n",
    "* The idea is to take repeated steps in the opposite direction of the gradient of the function at the current point because of steepest descent.\n",
    "\n",
    "🔹 Gradient Descent with m & b\n",
    "\n",
    "1. Initialize Parameters\n",
    "\n",
    "    * Start with random values:\n",
    "      \n",
    "           m = 0,\n",
    "           b = 0\n",
    "\n",
    "2. Predict Values\n",
    "\n",
    "       y_pred = m * x + b\n",
    "\n",
    "   \n",
    "\n",
    "4. Compute Loss (MSE)\n",
    "\n",
    "       Loss = (1/n) * Σ (y - y_pred)²\n",
    "\n",
    "\n",
    "5. Compute Gradients\n",
    "   * Gradient wrt slope (m):\n",
    "\n",
    "         dL/dm = (-2/n) * Σ ( (y - (m*x + b)) * x )\n",
    "\n",
    "   * Gradient wrt bias (b):\n",
    "  \n",
    "         dL/db = (-2/n) * Σ ( y - (m*x + b) )\n",
    "\n",
    "\n",
    "6. Update Parameters\n",
    "\n",
    "       m = m - α * (dL/dm)\n",
    "       b = b - α * (dL/db)\n",
    "\n",
    "      (where α = learning rate)\n",
    "\n",
    "\n",
    "7. Repeat Steps 2–5\n",
    "\n",
    "    * For multiple epochs until parameters converge.\n",
    "\n",
    "8. Convergence\n",
    "\n",
    "    * (m, b) → values that minimize the Loss.\n",
    "\n",
    "    * Path = sliding down a 3D bowl-shaped surface.\n",
    "\n",
    "\n",
    "\n"
   ]
  },
  {
   "cell_type": "code",
   "execution_count": 1,
   "id": "022cd7d9",
   "metadata": {
    "_cell_guid": "b1076dfc-b9ad-4769-8c92-a6c4dae69d19",
    "_uuid": "8f2839f25d086af736a60e9eeb907d3b93b6e0e5",
    "execution": {
     "iopub.execute_input": "2025-08-26T13:55:49.140186Z",
     "iopub.status.busy": "2025-08-26T13:55:49.139669Z",
     "iopub.status.idle": "2025-08-26T13:55:51.349602Z",
     "shell.execute_reply": "2025-08-26T13:55:51.348572Z"
    },
    "papermill": {
     "duration": 2.216567,
     "end_time": "2025-08-26T13:55:51.351707",
     "exception": false,
     "start_time": "2025-08-26T13:55:49.135140",
     "status": "completed"
    },
    "tags": []
   },
   "outputs": [],
   "source": [
    "# Importing Libraries\n",
    "\n",
    "import numpy as numpy\n",
    "import matplotlib.pyplot as plt\n",
    "from sklearn.datasets import make_regression\n",
    "from sklearn.linear_model import LinearRegression"
   ]
  },
  {
   "cell_type": "code",
   "execution_count": 2,
   "id": "b09fafea",
   "metadata": {
    "execution": {
     "iopub.execute_input": "2025-08-26T13:55:51.360321Z",
     "iopub.status.busy": "2025-08-26T13:55:51.359687Z",
     "iopub.status.idle": "2025-08-26T13:55:51.372156Z",
     "shell.execute_reply": "2025-08-26T13:55:51.371153Z"
    },
    "papermill": {
     "duration": 0.018831,
     "end_time": "2025-08-26T13:55:51.374170",
     "exception": false,
     "start_time": "2025-08-26T13:55:51.355339",
     "status": "completed"
    },
    "tags": []
   },
   "outputs": [],
   "source": [
    "# Creating data \n",
    "\n",
    "x , y = make_regression(n_samples = 4, n_features = 1, n_informative = 1, n_targets = 1, noise = 70, random_state = 30)"
   ]
  },
  {
   "cell_type": "code",
   "execution_count": 3,
   "id": "331ef6c5",
   "metadata": {
    "execution": {
     "iopub.execute_input": "2025-08-26T13:55:51.381993Z",
     "iopub.status.busy": "2025-08-26T13:55:51.381635Z",
     "iopub.status.idle": "2025-08-26T13:55:51.389240Z",
     "shell.execute_reply": "2025-08-26T13:55:51.388189Z"
    },
    "papermill": {
     "duration": 0.01335,
     "end_time": "2025-08-26T13:55:51.390879",
     "exception": false,
     "start_time": "2025-08-26T13:55:51.377529",
     "status": "completed"
    },
    "tags": []
   },
   "outputs": [
    {
     "data": {
      "text/plain": [
       "array([[ 1.52790535],\n",
       "       [ 0.47055962],\n",
       "       [-1.26405266],\n",
       "       [-0.97071094]])"
      ]
     },
     "execution_count": 3,
     "metadata": {},
     "output_type": "execute_result"
    }
   ],
   "source": [
    "x"
   ]
  },
  {
   "cell_type": "code",
   "execution_count": 4,
   "id": "04e874e0",
   "metadata": {
    "execution": {
     "iopub.execute_input": "2025-08-26T13:55:51.399560Z",
     "iopub.status.busy": "2025-08-26T13:55:51.398742Z",
     "iopub.status.idle": "2025-08-26T13:55:51.405258Z",
     "shell.execute_reply": "2025-08-26T13:55:51.404219Z"
    },
    "papermill": {
     "duration": 0.012509,
     "end_time": "2025-08-26T13:55:51.406880",
     "exception": false,
     "start_time": "2025-08-26T13:55:51.394371",
     "status": "completed"
    },
    "tags": []
   },
   "outputs": [
    {
     "data": {
      "text/plain": [
       "array([  45.16447856,   26.6858963 ,  -88.71545753, -165.99399306])"
      ]
     },
     "execution_count": 4,
     "metadata": {},
     "output_type": "execute_result"
    }
   ],
   "source": [
    "y"
   ]
  },
  {
   "cell_type": "code",
   "execution_count": 5,
   "id": "f98a18d2",
   "metadata": {
    "execution": {
     "iopub.execute_input": "2025-08-26T13:55:51.415161Z",
     "iopub.status.busy": "2025-08-26T13:55:51.414812Z",
     "iopub.status.idle": "2025-08-26T13:55:51.695824Z",
     "shell.execute_reply": "2025-08-26T13:55:51.694557Z"
    },
    "papermill": {
     "duration": 0.287025,
     "end_time": "2025-08-26T13:55:51.697550",
     "exception": false,
     "start_time": "2025-08-26T13:55:51.410525",
     "status": "completed"
    },
    "tags": []
   },
   "outputs": [
    {
     "data": {
      "image/png": "[encoded data removed]",
      "text/plain": [
       "<Figure size 640x480 with 1 Axes>"
      ]
     },
     "metadata": {},
     "output_type": "display_data"
    }
   ],
   "source": [
    "# plotting the dataset\n",
    "plt.scatter(x, y, marker='s', color = 'red')\n",
    "plt.title(\"Scatter Data of x\")\n",
    "plt.show()"
   ]
  },
  {
   "cell_type": "code",
   "execution_count": 6,
   "id": "4475c9f9",
   "metadata": {
    "execution": {
     "iopub.execute_input": "2025-08-26T13:55:51.707246Z",
     "iopub.status.busy": "2025-08-26T13:55:51.706830Z",
     "iopub.status.idle": "2025-08-26T13:55:51.736635Z",
     "shell.execute_reply": "2025-08-26T13:55:51.735621Z"
    },
    "papermill": {
     "duration": 0.036608,
     "end_time": "2025-08-26T13:55:51.738215",
     "exception": false,
     "start_time": "2025-08-26T13:55:51.701607",
     "status": "completed"
    },
    "tags": []
   },
   "outputs": [
    {
     "data": {
      "text/html": [
       "<style>#sk-container-id-1 {color: black;background-color: white;}#sk-container-id-1 pre{padding: 0;}#sk-container-id-1 div.sk-toggleable {background-color: white;}#sk-container-id-1 label.sk-toggleable__label {cursor: pointer;display: block;width: 100%;margin-bottom: 0;padding: 0.3em;box-sizing: border-box;text-align: center;}#sk-container-id-1 label.sk-toggleable__label-arrow:before {content: \"▸\";float: left;margin-right: 0.25em;color: #696969;}#sk-container-id-1 label.sk-toggleable__label-arrow:hover:before {color: black;}#sk-container-id-1 div.sk-estimator:hover label.sk-toggleable__label-arrow:before {color: black;}#sk-container-id-1 div.sk-toggleable__content {max-height: 0;max-width: 0;overflow: hidden;text-align: left;background-color: #f0f8ff;}#sk-container-id-1 div.sk-toggleable__content pre {margin: 0.2em;color: black;border-radius: 0.25em;background-color: #f0f8ff;}#sk-container-id-1 input.sk-toggleable__control:checked~div.sk-toggleable__content {max-height: 200px;max-width: 100%;overflow: auto;}#sk-container-id-1 input.sk-toggleable__control:checked~label.sk-toggleable__label-arrow:before {content: \"▾\";}#sk-container-id-1 div.sk-estimator input.sk-toggleable__control:checked~label.sk-toggleable__label {background-color: #d4ebff;}#sk-container-id-1 div.sk-label input.sk-toggleable__control:checked~label.sk-toggleable__label {background-color: #d4ebff;}#sk-container-id-1 input.sk-hidden--visually {border: 0;clip: rect(1px 1px 1px 1px);clip: rect(1px, 1px, 1px, 1px);height: 1px;margin: -1px;overflow: hidden;padding: 0;position: absolute;width: 1px;}#sk-container-id-1 div.sk-estimator {font-family: monospace;background-color: #f0f8ff;border: 1px dotted black;border-radius: 0.25em;box-sizing: border-box;margin-bottom: 0.5em;}#sk-container-id-1 div.sk-estimator:hover {background-color: #d4ebff;}#sk-container-id-1 div.sk-parallel-item::after {content: \"\";width: 100%;border-bottom: 1px solid gray;flex-grow: 1;}#sk-container-id-1 div.sk-label:hover label.sk-toggleable__label {background-color: #d4ebff;}#sk-container-id-1 div.sk-serial::before {content: \"\";position: absolute;border-left: 1px solid gray;box-sizing: border-box;top: 0;bottom: 0;left: 50%;z-index: 0;}#sk-container-id-1 div.sk-serial {display: flex;flex-direction: column;align-items: center;background-color: white;padding-right: 0.2em;padding-left: 0.2em;position: relative;}#sk-container-id-1 div.sk-item {position: relative;z-index: 1;}#sk-container-id-1 div.sk-parallel {display: flex;align-items: stretch;justify-content: center;background-color: white;position: relative;}#sk-container-id-1 div.sk-item::before, #sk-container-id-1 div.sk-parallel-item::before {content: \"\";position: absolute;border-left: 1px solid gray;box-sizing: border-box;top: 0;bottom: 0;left: 50%;z-index: -1;}#sk-container-id-1 div.sk-parallel-item {display: flex;flex-direction: column;z-index: 1;position: relative;background-color: white;}#sk-container-id-1 div.sk-parallel-item:first-child::after {align-self: flex-end;width: 50%;}#sk-container-id-1 div.sk-parallel-item:last-child::after {align-self: flex-start;width: 50%;}#sk-container-id-1 div.sk-parallel-item:only-child::after {width: 0;}#sk-container-id-1 div.sk-dashed-wrapped {border: 1px dashed gray;margin: 0 0.4em 0.5em 0.4em;box-sizing: border-box;padding-bottom: 0.4em;background-color: white;}#sk-container-id-1 div.sk-label label {font-family: monospace;font-weight: bold;display: inline-block;line-height: 1.2em;}#sk-container-id-1 div.sk-label-container {text-align: center;}#sk-container-id-1 div.sk-container {/* jupyter's `normalize.less` sets `[hidden] { display: none; }` but bootstrap.min.css set `[hidden] { display: none !important; }` so we also need the `!important` here to be able to override the default hidden behavior on the sphinx rendered scikit-learn.org. See: https://github.com/scikit-learn/scikit-learn/issues/21755 */display: inline-block !important;position: relative;}#sk-container-id-1 div.sk-text-repr-fallback {display: none;}</style><div id=\"sk-container-id-1\" class=\"sk-top-container\"><div class=\"sk-text-repr-fallback\"><pre>LinearRegression()</pre><b>In a Jupyter environment, please rerun this cell to show the HTML representation or trust the notebook. <br />On GitHub, the HTML representation is unable to render, please try loading this page with nbviewer.org.</b></div><div class=\"sk-container\" hidden><div class=\"sk-item\"><div class=\"sk-estimator sk-toggleable\"><input class=\"sk-toggleable__control sk-hidden--visually\" id=\"sk-estimator-id-1\" type=\"checkbox\" checked><label for=\"sk-estimator-id-1\" class=\"sk-toggleable__label sk-toggleable__label-arrow\">LinearRegression</label><div class=\"sk-toggleable__content\"><pre>LinearRegression()</pre></div></div></div></div></div>"
      ],
      "text/plain": [
       "LinearRegression()"
      ]
     },
     "execution_count": 6,
     "metadata": {},
     "output_type": "execute_result"
    }
   ],
   "source": [
    "# Linear Regression Model\n",
    "\n",
    "reg = LinearRegression()\n",
    "reg.fit(x,y)"
   ]
  },
  {
   "cell_type": "code",
   "execution_count": 7,
   "id": "23465e78",
   "metadata": {
    "execution": {
     "iopub.execute_input": "2025-08-26T13:55:51.748142Z",
     "iopub.status.busy": "2025-08-26T13:55:51.746987Z",
     "iopub.status.idle": "2025-08-26T13:55:51.753656Z",
     "shell.execute_reply": "2025-08-26T13:55:51.752808Z"
    },
    "papermill": {
     "duration": 0.013124,
     "end_time": "2025-08-26T13:55:51.755459",
     "exception": false,
     "start_time": "2025-08-26T13:55:51.742335",
     "status": "completed"
    },
    "tags": []
   },
   "outputs": [
    {
     "data": {
      "text/plain": [
       "array([67.69587248])"
      ]
     },
     "execution_count": 7,
     "metadata": {},
     "output_type": "execute_result"
    }
   ],
   "source": [
    "reg.coef_       # Slope (m) of the regression line"
   ]
  },
  {
   "cell_type": "code",
   "execution_count": 8,
   "id": "4ca0e1f8",
   "metadata": {
    "execution": {
     "iopub.execute_input": "2025-08-26T13:55:51.765044Z",
     "iopub.status.busy": "2025-08-26T13:55:51.764664Z",
     "iopub.status.idle": "2025-08-26T13:55:51.771186Z",
     "shell.execute_reply": "2025-08-26T13:55:51.770124Z"
    },
    "papermill": {
     "duration": 0.013411,
     "end_time": "2025-08-26T13:55:51.773027",
     "exception": false,
     "start_time": "2025-08-26T13:55:51.759616",
     "status": "completed"
    },
    "tags": []
   },
   "outputs": [
    {
     "data": {
      "text/plain": [
       "-41.715658363640735"
      ]
     },
     "execution_count": 8,
     "metadata": {},
     "output_type": "execute_result"
    }
   ],
   "source": [
    "reg.intercept_   # Intercept (b) of the resgression line"
   ]
  },
  {
   "cell_type": "code",
   "execution_count": 9,
   "id": "a638ed04",
   "metadata": {
    "execution": {
     "iopub.execute_input": "2025-08-26T13:55:51.782783Z",
     "iopub.status.busy": "2025-08-26T13:55:51.782446Z",
     "iopub.status.idle": "2025-08-26T13:55:51.919161Z",
     "shell.execute_reply": "2025-08-26T13:55:51.918110Z"
    },
    "papermill": {
     "duration": 0.143908,
     "end_time": "2025-08-26T13:55:51.921219",
     "exception": false,
     "start_time": "2025-08-26T13:55:51.777311",
     "status": "completed"
    },
    "tags": []
   },
   "outputs": [
    {
     "data": {
      "image/png": "[encoded data removed]",
      "text/plain": [
       "<Figure size 640x480 with 1 Axes>"
      ]
     },
     "metadata": {},
     "output_type": "display_data"
    }
   ],
   "source": [
    "# Plotting the Regression Line\n",
    "\n",
    "plt.scatter(x, y, marker = 's', color = 'red')\n",
    "plt.plot(x, reg.predict(x), color = 'green', label = 'Regression')\n",
    "plt.show()"
   ]
  },
  {
   "cell_type": "code",
   "execution_count": 10,
   "id": "3dbed270",
   "metadata": {
    "execution": {
     "iopub.execute_input": "2025-08-26T13:55:51.932794Z",
     "iopub.status.busy": "2025-08-26T13:55:51.932354Z",
     "iopub.status.idle": "2025-08-26T13:55:51.941116Z",
     "shell.execute_reply": "2025-08-26T13:55:51.940085Z"
    },
    "papermill": {
     "duration": 0.01718,
     "end_time": "2025-08-26T13:55:51.943061",
     "exception": false,
     "start_time": "2025-08-26T13:55:51.925881",
     "status": "completed"
    },
    "tags": []
   },
   "outputs": [],
   "source": [
    "# Gradient Descent application\n",
    "\n",
    "class GDAlgo:\n",
    "    def __init__(self, learning_rate, epochs):\n",
    "        self.m = 1\n",
    "        self.b = 0\n",
    "        self.lr = learning_rate\n",
    "        self.epochs = epochs\n",
    "    def algorithm(self,x,y):\n",
    "        for epoch in range(self.epochs):\n",
    "            y_pred = self.m*x.ravel()+self.b\n",
    "            error = y - y_pred\n",
    "\n",
    "            # Calculating dl/db and dl/dm\n",
    "            dm = -2*np.sum((y-self.m*x.ravel()-self.b)*x.ravel())\n",
    "            db = -2*np.sum(y-self.m*x.ravel()-self.b)\n",
    "\n",
    "            # Upating slope and bias\n",
    "            self.m = self.m - (self.lr*dm)\n",
    "            self.b = self.b - (self.lr*db)\n",
    "\n",
    "            print(f'slope : {self.m}  bias : {self.b}')\n",
    "            plt.scatter(x, y, marker = 's', color = 'red')\n",
    "            plt.plot(x,self.m*x.ravel()+self.b, color = 'yellow', alpha = 0.5)\n",
    "        plt.plot(x, 67.69587248*x.ravel()+(-41.715658363640735), color = 'green', label = 'Regression Line')\n",
    "        plt.legend()\n",
    "        plt.show()\n",
    "        "
   ]
  },
  {
   "cell_type": "code",
   "execution_count": 11,
   "id": "538ea484",
   "metadata": {
    "execution": {
     "iopub.execute_input": "2025-08-26T13:55:51.953737Z",
     "iopub.status.busy": "2025-08-26T13:55:51.953438Z",
     "iopub.status.idle": "2025-08-26T13:55:51.957926Z",
     "shell.execute_reply": "2025-08-26T13:55:51.957185Z"
    },
    "papermill": {
     "duration": 0.012171,
     "end_time": "2025-08-26T13:55:51.959835",
     "exception": false,
     "start_time": "2025-08-26T13:55:51.947664",
     "status": "completed"
    },
    "tags": []
   },
   "outputs": [],
   "source": [
    "gd = GDAlgo(0.08, 10) "
   ]
  },
  {
   "cell_type": "code",
   "execution_count": 12,
   "id": "576198fd",
   "metadata": {
    "execution": {
     "iopub.execute_input": "2025-08-26T13:55:51.971639Z",
     "iopub.status.busy": "2025-08-26T13:55:51.971328Z",
     "iopub.status.idle": "2025-08-26T13:55:52.084488Z",
     "shell.execute_reply": "2025-08-26T13:55:52.082883Z"
    },
    "papermill": {
     "duration": 0.121775,
     "end_time": "2025-08-26T13:55:52.086397",
     "exception": true,
     "start_time": "2025-08-26T13:55:51.964622",
     "status": "failed"
    },
    "tags": []
   },
   "outputs": [
    {
     "ename": "NameError",
     "evalue": "name 'np' is not defined",
     "output_type": "error",
     "traceback": [
      "\u001b[0;31m---------------------------------------------------------------------------\u001b[0m",
      "\u001b[0;31mNameError\u001b[0m                                 Traceback (most recent call last)",
      "\u001b[0;32m/tmp/ipykernel_13/3540705242.py\u001b[0m in \u001b[0;36m<cell line: 0>\u001b[0;34m()\u001b[0m\n\u001b[0;32m----> 1\u001b[0;31m \u001b[0mgd\u001b[0m\u001b[0;34m.\u001b[0m\u001b[0malgorithm\u001b[0m\u001b[0;34m(\u001b[0m\u001b[0mx\u001b[0m\u001b[0;34m,\u001b[0m\u001b[0my\u001b[0m\u001b[0;34m)\u001b[0m\u001b[0;34m\u001b[0m\u001b[0;34m\u001b[0m\u001b[0m\n\u001b[0m",
      "\u001b[0;32m/tmp/ipykernel_13/1801243300.py\u001b[0m in \u001b[0;36malgorithm\u001b[0;34m(self, x, y)\u001b[0m\n\u001b[1;32m     13\u001b[0m \u001b[0;34m\u001b[0m\u001b[0m\n\u001b[1;32m     14\u001b[0m             \u001b[0;31m# Calculating dl/db and dl/dm\u001b[0m\u001b[0;34m\u001b[0m\u001b[0;34m\u001b[0m\u001b[0m\n\u001b[0;32m---> 15\u001b[0;31m             \u001b[0mdm\u001b[0m \u001b[0;34m=\u001b[0m \u001b[0;34m-\u001b[0m\u001b[0;36m2\u001b[0m\u001b[0;34m*\u001b[0m\u001b[0mnp\u001b[0m\u001b[0;34m.\u001b[0m\u001b[0msum\u001b[0m\u001b[0;34m(\u001b[0m\u001b[0;34m(\u001b[0m\u001b[0my\u001b[0m\u001b[0;34m-\u001b[0m\u001b[0mself\u001b[0m\u001b[0;34m.\u001b[0m\u001b[0mm\u001b[0m\u001b[0;34m*\u001b[0m\u001b[0mx\u001b[0m\u001b[0;34m.\u001b[0m\u001b[0mravel\u001b[0m\u001b[0;34m(\u001b[0m\u001b[0;34m)\u001b[0m\u001b[0;34m-\u001b[0m\u001b[0mself\u001b[0m\u001b[0;34m.\u001b[0m\u001b[0mb\u001b[0m\u001b[0;34m)\u001b[0m\u001b[0;34m*\u001b[0m\u001b[0mx\u001b[0m\u001b[0;34m.\u001b[0m\u001b[0mravel\u001b[0m\u001b[0;34m(\u001b[0m\u001b[0;34m)\u001b[0m\u001b[0;34m)\u001b[0m\u001b[0;34m\u001b[0m\u001b[0;34m\u001b[0m\u001b[0m\n\u001b[0m\u001b[1;32m     16\u001b[0m             \u001b[0mdb\u001b[0m \u001b[0;34m=\u001b[0m \u001b[0;34m-\u001b[0m\u001b[0;36m2\u001b[0m\u001b[0;34m*\u001b[0m\u001b[0mnp\u001b[0m\u001b[0;34m.\u001b[0m\u001b[0msum\u001b[0m\u001b[0;34m(\u001b[0m\u001b[0my\u001b[0m\u001b[0;34m-\u001b[0m\u001b[0mself\u001b[0m\u001b[0;34m.\u001b[0m\u001b[0mm\u001b[0m\u001b[0;34m*\u001b[0m\u001b[0mx\u001b[0m\u001b[0;34m.\u001b[0m\u001b[0mravel\u001b[0m\u001b[0;34m(\u001b[0m\u001b[0;34m)\u001b[0m\u001b[0;34m-\u001b[0m\u001b[0mself\u001b[0m\u001b[0;34m.\u001b[0m\u001b[0mb\u001b[0m\u001b[0;34m)\u001b[0m\u001b[0;34m\u001b[0m\u001b[0;34m\u001b[0m\u001b[0m\n\u001b[1;32m     17\u001b[0m \u001b[0;34m\u001b[0m\u001b[0m\n",
      "\u001b[0;31mNameError\u001b[0m: name 'np' is not defined"
     ]
    }
   ],
   "source": [
    "gd.algorithm(x,y)"
   ]
  },
  {
   "cell_type": "code",
   "execution_count": null,
   "id": "710c0217",
   "metadata": {
    "execution": {
     "iopub.execute_input": "2025-08-26T13:34:41.581687Z",
     "iopub.status.busy": "2025-08-26T13:34:41.580820Z",
     "iopub.status.idle": "2025-08-26T13:34:41.588713Z",
     "shell.execute_reply": "2025-08-26T13:34:41.587823Z",
     "shell.execute_reply.started": "2025-08-26T13:34:41.581650Z"
    },
    "papermill": {
     "duration": null,
     "end_time": null,
     "exception": null,
     "start_time": null,
     "status": "pending"
    },
    "tags": []
   },
   "outputs": [],
   "source": [
    "\n",
    "from mpl_toolkits.mplot3d import Axes3D\n",
    "\n",
    "def plot_loss_surface(x, y):\n",
    "    m_values = np.linspace(50, 85, 100)   # range of slopes\n",
    "    b_values = np.linspace(-80, 0, 100)   # range of intercepts\n",
    "    M, B = np.meshgrid(m_values, b_values)\n",
    "\n",
    "    # Calculate loss for each (m, b)\n",
    "    Z = np.zeros_like(M)\n",
    "    for i in range(M.shape[0]):\n",
    "        for j in range(M.shape[1]):\n",
    "            y_pred = M[i, j] * x.ravel() + B[i, j]\n",
    "            Z[i, j] = np.mean((y - y_pred) ** 2)\n",
    "\n",
    "    # Plot 3D surface\n",
    "    fig = plt.figure(figsize=(12,8))\n",
    "    ax = fig.add_subplot(111, projection='3d')\n",
    "    ax.plot_surface(M, B, Z, cmap='viridis', alpha=0.7)\n",
    "\n",
    "    ax.set_xlabel(\"Slope (m)\")\n",
    "    ax.set_ylabel(\"Bias (b)\")\n",
    "    ax.set_zlabel(\"Loss (MSE)\")\n",
    "    ax.set_title(\"3D Loss Surface for Linear Regression\")\n",
    "    plt.show()\n"
   ]
  },
  {
   "cell_type": "code",
   "execution_count": null,
   "id": "4fbe7b89",
   "metadata": {
    "execution": {
     "iopub.execute_input": "2025-08-26T13:34:44.894364Z",
     "iopub.status.busy": "2025-08-26T13:34:44.894053Z",
     "iopub.status.idle": "2025-08-26T13:34:45.436179Z",
     "shell.execute_reply": "2025-08-26T13:34:45.435319Z",
     "shell.execute_reply.started": "2025-08-26T13:34:44.894343Z"
    },
    "papermill": {
     "duration": null,
     "end_time": null,
     "exception": null,
     "start_time": null,
     "status": "pending"
    },
    "tags": []
   },
   "outputs": [],
   "source": [
    "plot_loss_surface(x, y)\n"
   ]
  }
 ],
 "metadata": {
  "kaggle": {
   "accelerator": "none",
   "dataSources": [],
   "dockerImageVersionId": 31089,
   "isGpuEnabled": false,
   "isInternetEnabled": true,
   "language": "python",
   "sourceType": "notebook"
  },
  "kernelspec": {
   "display_name": "Python 3",
   "language": "python",
   "name": "python3"
  },
  "language_info": {
   "codemirror_mode": {
    "name": "ipython",
    "version": 3
   },
   "file_extension": ".py",
   "mimetype": "text/x-python",
   "name": "python",
   "nbconvert_exporter": "python",
   "pygments_lexer": "ipython3",
   "version": "3.11.13"
  },
  "papermill": {
   "default_parameters": {},
   "duration": 9.612136,
   "end_time": "2025-08-26T13:55:52.713158",
   "environment_variables": {},
   "exception": true,
   "input_path": "__notebook__.ipynb",
   "output_path": "__notebook__.ipynb",
   "parameters": {},
   "start_time": "2025-08-26T13:55:43.101022",
   "version": "2.6.0"
  }
 },
 "nbformat": 4,
 "nbformat_minor": 5
}
