{
 "cells": [
  {
   "cell_type": "code",
   "execution_count": 1,
   "id": "e10725f9",
   "metadata": {
    "_cell_guid": "b1076dfc-b9ad-4769-8c92-a6c4dae69d19",
    "_uuid": "8f2839f25d086af736a60e9eeb907d3b93b6e0e5",
    "execution": {
     "iopub.execute_input": "2025-08-27T08:22:32.357853Z",
     "iopub.status.busy": "2025-08-27T08:22:32.357353Z",
     "iopub.status.idle": "2025-08-27T08:22:34.051473Z",
     "shell.execute_reply": "2025-08-27T08:22:34.050777Z"
    },
    "papermill": {
     "duration": 1.702574,
     "end_time": "2025-08-27T08:22:34.053075",
     "exception": false,
     "start_time": "2025-08-27T08:22:32.350501",
     "status": "completed"
    },
    "tags": []
   },
   "outputs": [],
   "source": [
    "import numpy as np\n",
    "from sklearn.datasets import load_diabetes\n",
    "from sklearn.linear_model import LinearRegression\n",
    "from sklearn.model_selection import train_test_split\n",
    "from sklearn.metrics import r2_score\n",
    "import random"
   ]
  },
  {
   "cell_type": "code",
   "execution_count": 2,
   "id": "f28463d2",
   "metadata": {
    "execution": {
     "iopub.execute_input": "2025-08-27T08:22:34.063222Z",
     "iopub.status.busy": "2025-08-27T08:22:34.062835Z",
     "iopub.status.idle": "2025-08-27T08:22:34.075143Z",
     "shell.execute_reply": "2025-08-27T08:22:34.074519Z"
    },
    "papermill": {
     "duration": 0.018716,
     "end_time": "2025-08-27T08:22:34.076468",
     "exception": false,
     "start_time": "2025-08-27T08:22:34.057752",
     "status": "completed"
    },
    "tags": []
   },
   "outputs": [],
   "source": [
    "#Lodaing dataset\n",
    "\n",
    "X, y = load_diabetes(return_X_y = True)"
   ]
  },
  {
   "cell_type": "code",
   "execution_count": 3,
   "id": "969ffc86",
   "metadata": {
    "execution": {
     "iopub.execute_input": "2025-08-27T08:22:34.085813Z",
     "iopub.status.busy": "2025-08-27T08:22:34.085532Z",
     "iopub.status.idle": "2025-08-27T08:22:34.091095Z",
     "shell.execute_reply": "2025-08-27T08:22:34.090477Z"
    },
    "papermill": {
     "duration": 0.011485,
     "end_time": "2025-08-27T08:22:34.092233",
     "exception": false,
     "start_time": "2025-08-27T08:22:34.080748",
     "status": "completed"
    },
    "tags": []
   },
   "outputs": [
    {
     "data": {
      "text/plain": [
       "(442, 10)"
      ]
     },
     "execution_count": 3,
     "metadata": {},
     "output_type": "execute_result"
    }
   ],
   "source": [
    "X.shape"
   ]
  },
  {
   "cell_type": "code",
   "execution_count": 4,
   "id": "b3ccbd87",
   "metadata": {
    "execution": {
     "iopub.execute_input": "2025-08-27T08:22:34.102113Z",
     "iopub.status.busy": "2025-08-27T08:22:34.101451Z",
     "iopub.status.idle": "2025-08-27T08:22:34.106385Z",
     "shell.execute_reply": "2025-08-27T08:22:34.105639Z"
    },
    "papermill": {
     "duration": 0.011055,
     "end_time": "2025-08-27T08:22:34.107670",
     "exception": false,
     "start_time": "2025-08-27T08:22:34.096615",
     "status": "completed"
    },
    "tags": []
   },
   "outputs": [
    {
     "data": {
      "text/plain": [
       "(442,)"
      ]
     },
     "execution_count": 4,
     "metadata": {},
     "output_type": "execute_result"
    }
   ],
   "source": [
    "y.shape"
   ]
  },
  {
   "cell_type": "code",
   "execution_count": 5,
   "id": "68c388df",
   "metadata": {
    "execution": {
     "iopub.execute_input": "2025-08-27T08:22:34.117821Z",
     "iopub.status.busy": "2025-08-27T08:22:34.117119Z",
     "iopub.status.idle": "2025-08-27T08:22:34.121834Z",
     "shell.execute_reply": "2025-08-27T08:22:34.121188Z"
    },
    "papermill": {
     "duration": 0.011003,
     "end_time": "2025-08-27T08:22:34.123056",
     "exception": false,
     "start_time": "2025-08-27T08:22:34.112053",
     "status": "completed"
    },
    "tags": []
   },
   "outputs": [],
   "source": [
    "# Training and Testing Data split\n",
    "x_train, x_test, y_train, y_test = train_test_split(X, y, test_size = 0.2, random_state = 30)"
   ]
  },
  {
   "cell_type": "code",
   "execution_count": 6,
   "id": "9462075b",
   "metadata": {
    "execution": {
     "iopub.execute_input": "2025-08-27T08:22:34.133351Z",
     "iopub.status.busy": "2025-08-27T08:22:34.132774Z",
     "iopub.status.idle": "2025-08-27T08:22:34.137771Z",
     "shell.execute_reply": "2025-08-27T08:22:34.137113Z"
    },
    "papermill": {
     "duration": 0.011355,
     "end_time": "2025-08-27T08:22:34.138993",
     "exception": false,
     "start_time": "2025-08-27T08:22:34.127638",
     "status": "completed"
    },
    "tags": []
   },
   "outputs": [
    {
     "data": {
      "text/plain": [
       "(353, 10)"
      ]
     },
     "execution_count": 6,
     "metadata": {},
     "output_type": "execute_result"
    }
   ],
   "source": [
    "x_train.shape"
   ]
  },
  {
   "cell_type": "code",
   "execution_count": 7,
   "id": "911f50e8",
   "metadata": {
    "execution": {
     "iopub.execute_input": "2025-08-27T08:22:34.149430Z",
     "iopub.status.busy": "2025-08-27T08:22:34.148743Z",
     "iopub.status.idle": "2025-08-27T08:22:34.153735Z",
     "shell.execute_reply": "2025-08-27T08:22:34.152964Z"
    },
    "papermill": {
     "duration": 0.011407,
     "end_time": "2025-08-27T08:22:34.155010",
     "exception": false,
     "start_time": "2025-08-27T08:22:34.143603",
     "status": "completed"
    },
    "tags": []
   },
   "outputs": [
    {
     "data": {
      "text/plain": [
       "(353,)"
      ]
     },
     "execution_count": 7,
     "metadata": {},
     "output_type": "execute_result"
    }
   ],
   "source": [
    "y_train.shape"
   ]
  },
  {
   "cell_type": "code",
   "execution_count": 8,
   "id": "f5244fe9",
   "metadata": {
    "execution": {
     "iopub.execute_input": "2025-08-27T08:22:34.166528Z",
     "iopub.status.busy": "2025-08-27T08:22:34.165685Z",
     "iopub.status.idle": "2025-08-27T08:22:34.204843Z",
     "shell.execute_reply": "2025-08-27T08:22:34.204004Z"
    },
    "papermill": {
     "duration": 0.045753,
     "end_time": "2025-08-27T08:22:34.206212",
     "exception": false,
     "start_time": "2025-08-27T08:22:34.160459",
     "status": "completed"
    },
    "tags": []
   },
   "outputs": [
    {
     "data": {
      "text/html": [
       "<style>#sk-container-id-1 {color: black;background-color: white;}#sk-container-id-1 pre{padding: 0;}#sk-container-id-1 div.sk-toggleable {background-color: white;}#sk-container-id-1 label.sk-toggleable__label {cursor: pointer;display: block;width: 100%;margin-bottom: 0;padding: 0.3em;box-sizing: border-box;text-align: center;}#sk-container-id-1 label.sk-toggleable__label-arrow:before {content: \"▸\";float: left;margin-right: 0.25em;color: #696969;}#sk-container-id-1 label.sk-toggleable__label-arrow:hover:before {color: black;}#sk-container-id-1 div.sk-estimator:hover label.sk-toggleable__label-arrow:before {color: black;}#sk-container-id-1 div.sk-toggleable__content {max-height: 0;max-width: 0;overflow: hidden;text-align: left;background-color: #f0f8ff;}#sk-container-id-1 div.sk-toggleable__content pre {margin: 0.2em;color: black;border-radius: 0.25em;background-color: #f0f8ff;}#sk-container-id-1 input.sk-toggleable__control:checked~div.sk-toggleable__content {max-height: 200px;max-width: 100%;overflow: auto;}#sk-container-id-1 input.sk-toggleable__control:checked~label.sk-toggleable__label-arrow:before {content: \"▾\";}#sk-container-id-1 div.sk-estimator input.sk-toggleable__control:checked~label.sk-toggleable__label {background-color: #d4ebff;}#sk-container-id-1 div.sk-label input.sk-toggleable__control:checked~label.sk-toggleable__label {background-color: #d4ebff;}#sk-container-id-1 input.sk-hidden--visually {border: 0;clip: rect(1px 1px 1px 1px);clip: rect(1px, 1px, 1px, 1px);height: 1px;margin: -1px;overflow: hidden;padding: 0;position: absolute;width: 1px;}#sk-container-id-1 div.sk-estimator {font-family: monospace;background-color: #f0f8ff;border: 1px dotted black;border-radius: 0.25em;box-sizing: border-box;margin-bottom: 0.5em;}#sk-container-id-1 div.sk-estimator:hover {background-color: #d4ebff;}#sk-container-id-1 div.sk-parallel-item::after {content: \"\";width: 100%;border-bottom: 1px solid gray;flex-grow: 1;}#sk-container-id-1 div.sk-label:hover label.sk-toggleable__label {background-color: #d4ebff;}#sk-container-id-1 div.sk-serial::before {content: \"\";position: absolute;border-left: 1px solid gray;box-sizing: border-box;top: 0;bottom: 0;left: 50%;z-index: 0;}#sk-container-id-1 div.sk-serial {display: flex;flex-direction: column;align-items: center;background-color: white;padding-right: 0.2em;padding-left: 0.2em;position: relative;}#sk-container-id-1 div.sk-item {position: relative;z-index: 1;}#sk-container-id-1 div.sk-parallel {display: flex;align-items: stretch;justify-content: center;background-color: white;position: relative;}#sk-container-id-1 div.sk-item::before, #sk-container-id-1 div.sk-parallel-item::before {content: \"\";position: absolute;border-left: 1px solid gray;box-sizing: border-box;top: 0;bottom: 0;left: 50%;z-index: -1;}#sk-container-id-1 div.sk-parallel-item {display: flex;flex-direction: column;z-index: 1;position: relative;background-color: white;}#sk-container-id-1 div.sk-parallel-item:first-child::after {align-self: flex-end;width: 50%;}#sk-container-id-1 div.sk-parallel-item:last-child::after {align-self: flex-start;width: 50%;}#sk-container-id-1 div.sk-parallel-item:only-child::after {width: 0;}#sk-container-id-1 div.sk-dashed-wrapped {border: 1px dashed gray;margin: 0 0.4em 0.5em 0.4em;box-sizing: border-box;padding-bottom: 0.4em;background-color: white;}#sk-container-id-1 div.sk-label label {font-family: monospace;font-weight: bold;display: inline-block;line-height: 1.2em;}#sk-container-id-1 div.sk-label-container {text-align: center;}#sk-container-id-1 div.sk-container {/* jupyter's `normalize.less` sets `[hidden] { display: none; }` but bootstrap.min.css set `[hidden] { display: none !important; }` so we also need the `!important` here to be able to override the default hidden behavior on the sphinx rendered scikit-learn.org. See: https://github.com/scikit-learn/scikit-learn/issues/21755 */display: inline-block !important;position: relative;}#sk-container-id-1 div.sk-text-repr-fallback {display: none;}</style><div id=\"sk-container-id-1\" class=\"sk-top-container\"><div class=\"sk-text-repr-fallback\"><pre>LinearRegression()</pre><b>In a Jupyter environment, please rerun this cell to show the HTML representation or trust the notebook. <br />On GitHub, the HTML representation is unable to render, please try loading this page with nbviewer.org.</b></div><div class=\"sk-container\" hidden><div class=\"sk-item\"><div class=\"sk-estimator sk-toggleable\"><input class=\"sk-toggleable__control sk-hidden--visually\" id=\"sk-estimator-id-1\" type=\"checkbox\" checked><label for=\"sk-estimator-id-1\" class=\"sk-toggleable__label sk-toggleable__label-arrow\">LinearRegression</label><div class=\"sk-toggleable__content\"><pre>LinearRegression()</pre></div></div></div></div></div>"
      ],
      "text/plain": [
       "LinearRegression()"
      ]
     },
     "execution_count": 8,
     "metadata": {},
     "output_type": "execute_result"
    }
   ],
   "source": [
    "# Fitting the Linear Model\n",
    "\n",
    "reg = LinearRegression()\n",
    "reg.fit(x_train,y_train)"
   ]
  },
  {
   "cell_type": "code",
   "execution_count": 9,
   "id": "7323a38b",
   "metadata": {
    "execution": {
     "iopub.execute_input": "2025-08-27T08:22:34.217774Z",
     "iopub.status.busy": "2025-08-27T08:22:34.217011Z",
     "iopub.status.idle": "2025-08-27T08:22:34.222665Z",
     "shell.execute_reply": "2025-08-27T08:22:34.221892Z"
    },
    "papermill": {
     "duration": 0.012674,
     "end_time": "2025-08-27T08:22:34.224016",
     "exception": false,
     "start_time": "2025-08-27T08:22:34.211342",
     "status": "completed"
    },
    "tags": []
   },
   "outputs": [
    {
     "data": {
      "text/plain": [
       "array([   8.00062763, -241.90797765,  519.81946304,  364.35047673,\n",
       "       -970.04612474,  610.41491496,  159.71934694,   85.59991741,\n",
       "        865.75126761,   54.57428586])"
      ]
     },
     "execution_count": 9,
     "metadata": {},
     "output_type": "execute_result"
    }
   ],
   "source": [
    "reg.coef_"
   ]
  },
  {
   "cell_type": "code",
   "execution_count": 10,
   "id": "18d9d817",
   "metadata": {
    "execution": {
     "iopub.execute_input": "2025-08-27T08:22:34.235719Z",
     "iopub.status.busy": "2025-08-27T08:22:34.234859Z",
     "iopub.status.idle": "2025-08-27T08:22:34.240315Z",
     "shell.execute_reply": "2025-08-27T08:22:34.239509Z"
    },
    "papermill": {
     "duration": 0.012722,
     "end_time": "2025-08-27T08:22:34.241682",
     "exception": false,
     "start_time": "2025-08-27T08:22:34.228960",
     "status": "completed"
    },
    "tags": []
   },
   "outputs": [
    {
     "data": {
      "text/plain": [
       "152.76892487267367"
      ]
     },
     "execution_count": 10,
     "metadata": {},
     "output_type": "execute_result"
    }
   ],
   "source": [
    "reg.intercept_"
   ]
  },
  {
   "cell_type": "markdown",
   "id": "34b3caed",
   "metadata": {
    "papermill": {
     "duration": 0.004475,
     "end_time": "2025-08-27T08:22:34.251016",
     "exception": false,
     "start_time": "2025-08-27T08:22:34.246541",
     "status": "completed"
    },
    "tags": []
   },
   "source": [
    "# Batch Gradient Descent"
   ]
  },
  {
   "cell_type": "code",
   "execution_count": 11,
   "id": "05e41efe",
   "metadata": {
    "execution": {
     "iopub.execute_input": "2025-08-27T08:22:34.262031Z",
     "iopub.status.busy": "2025-08-27T08:22:34.261430Z",
     "iopub.status.idle": "2025-08-27T08:22:34.268213Z",
     "shell.execute_reply": "2025-08-27T08:22:34.267226Z"
    },
    "papermill": {
     "duration": 0.013883,
     "end_time": "2025-08-27T08:22:34.269589",
     "exception": false,
     "start_time": "2025-08-27T08:22:34.255706",
     "status": "completed"
    },
    "tags": []
   },
   "outputs": [],
   "source": [
    "# BGD Implementation\n",
    "\n",
    "class BGDAlgorithm:\n",
    "    def __init__(self,learning_rate,epochs):\n",
    "        self.intercept_ = None\n",
    "        self.coef_ = None\n",
    "        self.lr = learning_rate\n",
    "        self.epochs = epochs\n",
    "        \n",
    "    def fit(self,x_train,y_train):\n",
    "        self.intercept_ = 0\n",
    "        self.coef_ = np.ones(x_train.shape[1])\n",
    "\n",
    "        for epoch in range(self.epochs):\n",
    "            # Predicting the y_pred\n",
    "            y_pred = np.dot(x_train,self.coef_) + self.intercept_\n",
    "    \n",
    "            # Gradients\n",
    "            error = y_train - y_pred\n",
    "    \n",
    "            # Gradinet with respect to intercept\n",
    "            db_intercept = -2*np.mean(error)\n",
    "            # Grdaient with respect to coef \n",
    "            db_coef = (-2/x_train.shape[0]) * np.dot(x_train.T,error)\n",
    "    \n",
    "            # Updating Params\n",
    "            self.intercept_ = self.intercept_ - self.lr*db_intercept\n",
    "            self.coef_ = self.coef_ - self.lr*db_coef\n",
    "\n",
    "    def predict(self, x_test):\n",
    "        y_pred = np.dot(x_test,self.coef_)+self.intercept_\n",
    "        return y_pred"
   ]
  },
  {
   "cell_type": "code",
   "execution_count": 12,
   "id": "21203257",
   "metadata": {
    "execution": {
     "iopub.execute_input": "2025-08-27T08:22:34.280569Z",
     "iopub.status.busy": "2025-08-27T08:22:34.280268Z",
     "iopub.status.idle": "2025-08-27T08:22:34.283788Z",
     "shell.execute_reply": "2025-08-27T08:22:34.283184Z"
    },
    "papermill": {
     "duration": 0.010356,
     "end_time": "2025-08-27T08:22:34.285015",
     "exception": false,
     "start_time": "2025-08-27T08:22:34.274659",
     "status": "completed"
    },
    "tags": []
   },
   "outputs": [],
   "source": [
    "bgd = BGDAlgorithm(0.3,1000)"
   ]
  },
  {
   "cell_type": "code",
   "execution_count": 13,
   "id": "bac7d825",
   "metadata": {
    "execution": {
     "iopub.execute_input": "2025-08-27T08:22:34.295959Z",
     "iopub.status.busy": "2025-08-27T08:22:34.295676Z",
     "iopub.status.idle": "2025-08-27T08:22:34.328207Z",
     "shell.execute_reply": "2025-08-27T08:22:34.327489Z"
    },
    "papermill": {
     "duration": 0.03993,
     "end_time": "2025-08-27T08:22:34.329908",
     "exception": false,
     "start_time": "2025-08-27T08:22:34.289978",
     "status": "completed"
    },
    "tags": []
   },
   "outputs": [],
   "source": [
    "bgd.fit(x_train,y_train)"
   ]
  },
  {
   "cell_type": "code",
   "execution_count": 14,
   "id": "c8bacd38",
   "metadata": {
    "execution": {
     "iopub.execute_input": "2025-08-27T08:22:34.341956Z",
     "iopub.status.busy": "2025-08-27T08:22:34.341166Z",
     "iopub.status.idle": "2025-08-27T08:22:34.347159Z",
     "shell.execute_reply": "2025-08-27T08:22:34.346319Z"
    },
    "papermill": {
     "duration": 0.013155,
     "end_time": "2025-08-27T08:22:34.348562",
     "exception": false,
     "start_time": "2025-08-27T08:22:34.335407",
     "status": "completed"
    },
    "tags": []
   },
   "outputs": [
    {
     "name": "stdout",
     "output_type": "stream",
     "text": [
      "r2_score :  0.4934321550017232\n"
     ]
    }
   ],
   "source": [
    "y_pred = bgd.predict(x_test)\n",
    "\n",
    "print(\"r2_score : \",r2_score(y_test,y_pred))"
   ]
  },
  {
   "cell_type": "markdown",
   "id": "8580f082",
   "metadata": {
    "papermill": {
     "duration": 0.004701,
     "end_time": "2025-08-27T08:22:34.358327",
     "exception": false,
     "start_time": "2025-08-27T08:22:34.353626",
     "status": "completed"
    },
    "tags": []
   },
   "source": [
    "# Stochastic Gradient Descent"
   ]
  },
  {
   "cell_type": "code",
   "execution_count": 15,
   "id": "4396098c",
   "metadata": {
    "execution": {
     "iopub.execute_input": "2025-08-27T08:22:34.369415Z",
     "iopub.status.busy": "2025-08-27T08:22:34.369120Z",
     "iopub.status.idle": "2025-08-27T08:22:34.375768Z",
     "shell.execute_reply": "2025-08-27T08:22:34.375143Z"
    },
    "papermill": {
     "duration": 0.013919,
     "end_time": "2025-08-27T08:22:34.377024",
     "exception": false,
     "start_time": "2025-08-27T08:22:34.363105",
     "status": "completed"
    },
    "tags": []
   },
   "outputs": [],
   "source": [
    "# BGD Implementation\n",
    "\n",
    "class SGDAlgorithm:\n",
    "    def __init__(self,learning_rate,epochs):\n",
    "        self.intercept_ = None\n",
    "        self.coef_ = None\n",
    "        self.lr = learning_rate\n",
    "        self.epochs = epochs\n",
    "        \n",
    "    def fit(self,x_train,y_train):\n",
    "        self.intercept_ = 0\n",
    "        self.coef_ = np.ones(x_train.shape[1])\n",
    "\n",
    "        for epoch in range(self.epochs):\n",
    "            for row in range(x_train.shape[0]):\n",
    "                entrie = random.randint(0,x_train.shape[0]-1)\n",
    "                # Predicting the y_pred\n",
    "                y_pred = np.dot(x_train[entrie],self.coef_) + self.intercept_\n",
    "        \n",
    "                # Gradients\n",
    "                error = y_train[entrie] - y_pred\n",
    "        \n",
    "                # Gradinet with respect to intercept\n",
    "                db_intercept = -2*error\n",
    "                # Grdaient with respect to coef \n",
    "                db_coef = -2 * x_train[entrie] * error\n",
    "        \n",
    "                # Updating Params\n",
    "                self.intercept_ -= self.lr*db_intercept\n",
    "                self.coef_ -= self.lr*db_coef\n",
    "    \n",
    "    def predict(self, x_test):\n",
    "        y_pred = np.dot(x_test,self.coef_)+self.intercept_\n",
    "        return y_pred"
   ]
  },
  {
   "cell_type": "code",
   "execution_count": 16,
   "id": "eb4d7b45",
   "metadata": {
    "execution": {
     "iopub.execute_input": "2025-08-27T08:22:34.387932Z",
     "iopub.status.busy": "2025-08-27T08:22:34.387654Z",
     "iopub.status.idle": "2025-08-27T08:22:34.391475Z",
     "shell.execute_reply": "2025-08-27T08:22:34.390663Z"
    },
    "papermill": {
     "duration": 0.010726,
     "end_time": "2025-08-27T08:22:34.392696",
     "exception": false,
     "start_time": "2025-08-27T08:22:34.381970",
     "status": "completed"
    },
    "tags": []
   },
   "outputs": [],
   "source": [
    "sgd = SGDAlgorithm(0.1, 50)"
   ]
  },
  {
   "cell_type": "code",
   "execution_count": 17,
   "id": "df856901",
   "metadata": {
    "execution": {
     "iopub.execute_input": "2025-08-27T08:22:34.403600Z",
     "iopub.status.busy": "2025-08-27T08:22:34.403073Z",
     "iopub.status.idle": "2025-08-27T08:22:34.566235Z",
     "shell.execute_reply": "2025-08-27T08:22:34.565321Z"
    },
    "papermill": {
     "duration": 0.170311,
     "end_time": "2025-08-27T08:22:34.567914",
     "exception": false,
     "start_time": "2025-08-27T08:22:34.397603",
     "status": "completed"
    },
    "tags": []
   },
   "outputs": [],
   "source": [
    "sgd.fit(x_train,y_train)"
   ]
  },
  {
   "cell_type": "code",
   "execution_count": 18,
   "id": "63bdce61",
   "metadata": {
    "execution": {
     "iopub.execute_input": "2025-08-27T08:22:34.579332Z",
     "iopub.status.busy": "2025-08-27T08:22:34.579047Z",
     "iopub.status.idle": "2025-08-27T08:22:34.584508Z",
     "shell.execute_reply": "2025-08-27T08:22:34.583653Z"
    },
    "papermill": {
     "duration": 0.012879,
     "end_time": "2025-08-27T08:22:34.585973",
     "exception": false,
     "start_time": "2025-08-27T08:22:34.573094",
     "status": "completed"
    },
    "tags": []
   },
   "outputs": [
    {
     "name": "stdout",
     "output_type": "stream",
     "text": [
      "r2 Score :  0.4505250622175324\n"
     ]
    }
   ],
   "source": [
    "y_pred = sgd.predict(x_test)\n",
    "print(\"r2 Score : \", r2_score(y_test,y_pred))"
   ]
  },
  {
   "cell_type": "markdown",
   "id": "d804d396",
   "metadata": {
    "papermill": {
     "duration": 0.004629,
     "end_time": "2025-08-27T08:22:34.595549",
     "exception": false,
     "start_time": "2025-08-27T08:22:34.590920",
     "status": "completed"
    },
    "tags": []
   },
   "source": [
    "# Mini-Batch Gradient Descent"
   ]
  },
  {
   "cell_type": "code",
   "execution_count": 19,
   "id": "f2f50d99",
   "metadata": {
    "execution": {
     "iopub.execute_input": "2025-08-27T08:22:34.606225Z",
     "iopub.status.busy": "2025-08-27T08:22:34.605943Z",
     "iopub.status.idle": "2025-08-27T08:22:34.612828Z",
     "shell.execute_reply": "2025-08-27T08:22:34.612158Z"
    },
    "papermill": {
     "duration": 0.01387,
     "end_time": "2025-08-27T08:22:34.614100",
     "exception": false,
     "start_time": "2025-08-27T08:22:34.600230",
     "status": "completed"
    },
    "tags": []
   },
   "outputs": [],
   "source": [
    "# MBGD Implementation\n",
    "\n",
    "class MBGDAlgorithm:\n",
    "    def __init__(self,batch_size,learning_rate,epochs):\n",
    "        self.intercept_ = None\n",
    "        self.coef_ = None\n",
    "        self.lr = learning_rate\n",
    "        self.epochs = epochs\n",
    "        self.batch_size = batch_size\n",
    "        \n",
    "    def fit(self,x_train,y_train):\n",
    "        self.intercept_ = 0\n",
    "        self.coef_ = np.ones(x_train.shape[1])\n",
    "\n",
    "        for epoch in range(self.epochs):\n",
    "            for j in range(int(x_train.shape[0]/self.batch_size)):\n",
    "                entries = random.sample(range(x_train.shape[0]),self.batch_size)\n",
    "                \n",
    "                # Predicting the y_pred\n",
    "                y_pred = np.dot(x_train[entries],self.coef_) + self.intercept_\n",
    "        \n",
    "                # Gradients\n",
    "                error = y_train[entries] - y_pred\n",
    "        \n",
    "                # Gradinet with respect to intercept\n",
    "                db_intercept = -2*np.mean(error)\n",
    "                # Grdaient with respect to coef \n",
    "                db_coef = (-2/self.batch_size) * np.dot(x_train[entries].T,error)\n",
    "        \n",
    "                # Updating Params\n",
    "                self.intercept_ -= self.lr*db_intercept\n",
    "                self.coef_ -= self.lr*db_coef\n",
    "\n",
    "    def predict(self, x_test):\n",
    "        y_pred = np.dot(x_test,self.coef_)+self.intercept_\n",
    "        return y_pred"
   ]
  },
  {
   "cell_type": "code",
   "execution_count": 20,
   "id": "e409df89",
   "metadata": {
    "execution": {
     "iopub.execute_input": "2025-08-27T08:22:34.625646Z",
     "iopub.status.busy": "2025-08-27T08:22:34.624901Z",
     "iopub.status.idle": "2025-08-27T08:22:34.628633Z",
     "shell.execute_reply": "2025-08-27T08:22:34.628114Z"
    },
    "papermill": {
     "duration": 0.01073,
     "end_time": "2025-08-27T08:22:34.629861",
     "exception": false,
     "start_time": "2025-08-27T08:22:34.619131",
     "status": "completed"
    },
    "tags": []
   },
   "outputs": [],
   "source": [
    "mbgd = MBGDAlgorithm(x_train.shape[0]//50,0.1,100)"
   ]
  },
  {
   "cell_type": "code",
   "execution_count": 21,
   "id": "3e0ad130",
   "metadata": {
    "execution": {
     "iopub.execute_input": "2025-08-27T08:22:34.641536Z",
     "iopub.status.busy": "2025-08-27T08:22:34.640708Z",
     "iopub.status.idle": "2025-08-27T08:22:34.823262Z",
     "shell.execute_reply": "2025-08-27T08:22:34.822567Z"
    },
    "papermill": {
     "duration": 0.189924,
     "end_time": "2025-08-27T08:22:34.824817",
     "exception": false,
     "start_time": "2025-08-27T08:22:34.634893",
     "status": "completed"
    },
    "tags": []
   },
   "outputs": [],
   "source": [
    "mbgd.fit(x_train,y_train)"
   ]
  },
  {
   "cell_type": "code",
   "execution_count": 22,
   "id": "474f270b",
   "metadata": {
    "execution": {
     "iopub.execute_input": "2025-08-27T08:22:34.836305Z",
     "iopub.status.busy": "2025-08-27T08:22:34.835632Z",
     "iopub.status.idle": "2025-08-27T08:22:34.839380Z",
     "shell.execute_reply": "2025-08-27T08:22:34.838776Z"
    },
    "papermill": {
     "duration": 0.010656,
     "end_time": "2025-08-27T08:22:34.840550",
     "exception": false,
     "start_time": "2025-08-27T08:22:34.829894",
     "status": "completed"
    },
    "tags": []
   },
   "outputs": [],
   "source": [
    "y_pred = mbgd.predict(x_test)"
   ]
  },
  {
   "cell_type": "code",
   "execution_count": 23,
   "id": "c057942a",
   "metadata": {
    "execution": {
     "iopub.execute_input": "2025-08-27T08:22:34.851620Z",
     "iopub.status.busy": "2025-08-27T08:22:34.851037Z",
     "iopub.status.idle": "2025-08-27T08:22:34.855951Z",
     "shell.execute_reply": "2025-08-27T08:22:34.855204Z"
    },
    "papermill": {
     "duration": 0.011753,
     "end_time": "2025-08-27T08:22:34.857184",
     "exception": false,
     "start_time": "2025-08-27T08:22:34.845431",
     "status": "completed"
    },
    "tags": []
   },
   "outputs": [
    {
     "name": "stdout",
     "output_type": "stream",
     "text": [
      "r2 Score :  0.48534733044353273\n"
     ]
    }
   ],
   "source": [
    "print(\"r2 Score : \",r2_score(y_test,y_pred))"
   ]
  }
 ],
 "metadata": {
  "kaggle": {
   "accelerator": "none",
   "dataSources": [],
   "dockerImageVersionId": 31089,
   "isGpuEnabled": false,
   "isInternetEnabled": true,
   "language": "python",
   "sourceType": "notebook"
  },
  "kernelspec": {
   "display_name": "Python 3",
   "language": "python",
   "name": "python3"
  },
  "language_info": {
   "codemirror_mode": {
    "name": "ipython",
    "version": 3
   },
   "file_extension": ".py",
   "mimetype": "text/x-python",
   "name": "python",
   "nbconvert_exporter": "python",
   "pygments_lexer": "ipython3",
   "version": "3.11.13"
  },
  "papermill": {
   "default_parameters": {},
   "duration": 8.062042,
   "end_time": "2025-08-27T08:22:35.380908",
   "environment_variables": {},
   "exception": null,
   "input_path": "__notebook__.ipynb",
   "output_path": "__notebook__.ipynb",
   "parameters": {},
   "start_time": "2025-08-27T08:22:27.318866",
   "version": "2.6.0"
  }
 },
 "nbformat": 4,
 "nbformat_minor": 5
}
