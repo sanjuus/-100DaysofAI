{
 "cells": [
  {
   "cell_type": "markdown",
   "id": "dac9be92",
   "metadata": {
    "papermill": {
     "duration": 0.003509,
     "end_time": "2025-08-28T15:27:47.534885",
     "exception": false,
     "start_time": "2025-08-28T15:27:47.531376",
     "status": "completed"
    },
    "tags": []
   },
   "source": [
    "# Introduction\n",
    "\n",
    "* This notebook demonstrates implementing backpropagation from scratch without using PyTorch, TensorFlow, or Keras.\n",
    "* The network is trained using Batch Gradient Descent.\n",
    "* Backpropagation can also be implemented with Stochastic Gradient Descent, Mini-Batch Gradient Descent, or other optimizers."
   ]
  },
  {
   "cell_type": "markdown",
   "id": "5c96aac1",
   "metadata": {
    "papermill": {
     "duration": 0.002467,
     "end_time": "2025-08-28T15:27:47.540587",
     "exception": false,
     "start_time": "2025-08-28T15:27:47.538120",
     "status": "completed"
    },
    "tags": []
   },
   "source": [
    "# BackPropogation\n",
    "\n",
    "Backpropagation is a fundamental algorithm for training artificial neural networks, short for \"backward propagation of errors\". It works by calculating the error between a network's prediction and the actual target, then propagating this error back through the network to adjust the internal weights and biases, thereby minimizing future prediction errors and improving accuracy. This iterative process, utilizing gradient descent, allows the network to learn from its mistakes and become better at mapping inputs to outputs. \n",
    "\n",
    "\n",
    "## Steps in Backpropogation\n",
    "1. **Forward Pass**\n",
    "\n",
    "    * Compute hidden layer output: H = X·W1 + b1\n",
    "    \n",
    "    * Compute output: y_pred = H·W2 + b2\n",
    "\n",
    "2. **Compute Loss**\n",
    "\n",
    "    * Mean Squared Error: Loss = mean((y_pred - y)^2)\n",
    "\n",
    "3. **Output Layer Gradients**\n",
    "\n",
    "    * Error: delta2 = y_pred - y\n",
    "    \n",
    "    * Gradients: dw2 = H.T · delta2 / N, db2 = sum(delta2) / N\n",
    "\n",
    "4. **Hidden Layer Gradients**\n",
    "\n",
    "    * Error: delta1 = delta2 · W2.T\n",
    "    \n",
    "    * Gradients: dw1 = X.T · delta1 / N, db1 = sum(delta1) / N\n",
    "\n",
    "5. **Update Weights & Biases**\n",
    "\n",
    "    * W2 -= lr * dw2, b2 -= lr * db2\n",
    "    \n",
    "    * W1 -= lr * dw1, b1 -= lr * db1\n",
    "\n",
    "6. Repeat for all epochs until loss decreases and predictions improve."
   ]
  },
  {
   "cell_type": "code",
   "execution_count": 1,
   "id": "9ca9ccd0",
   "metadata": {
    "_cell_guid": "b1076dfc-b9ad-4769-8c92-a6c4dae69d19",
    "_uuid": "8f2839f25d086af736a60e9eeb907d3b93b6e0e5",
    "execution": {
     "iopub.execute_input": "2025-08-28T15:27:47.547249Z",
     "iopub.status.busy": "2025-08-28T15:27:47.546919Z",
     "iopub.status.idle": "2025-08-28T15:27:49.466683Z",
     "shell.execute_reply": "2025-08-28T15:27:49.465666Z"
    },
    "papermill": {
     "duration": 1.925104,
     "end_time": "2025-08-28T15:27:49.468442",
     "exception": false,
     "start_time": "2025-08-28T15:27:47.543338",
     "status": "completed"
    },
    "tags": []
   },
   "outputs": [],
   "source": [
    "# Importing Libraries\n",
    "\n",
    "import numpy as np\n",
    "import pandas as pd"
   ]
  },
  {
   "cell_type": "code",
   "execution_count": 2,
   "id": "368be4ba",
   "metadata": {
    "execution": {
     "iopub.execute_input": "2025-08-28T15:27:49.475941Z",
     "iopub.status.busy": "2025-08-28T15:27:49.475514Z",
     "iopub.status.idle": "2025-08-28T15:27:49.484016Z",
     "shell.execute_reply": "2025-08-28T15:27:49.483010Z"
    },
    "papermill": {
     "duration": 0.014331,
     "end_time": "2025-08-28T15:27:49.485849",
     "exception": false,
     "start_time": "2025-08-28T15:27:49.471518",
     "status": "completed"
    },
    "tags": []
   },
   "outputs": [],
   "source": [
    "# Creating Dataset\n",
    "\n",
    "# Create regression dataset\n",
    "data = {\n",
    "    \"Hours_Studied\": [2, 4, 6, 8],\n",
    "    \"Hours_Slept\": [9, 8, 6, 5],\n",
    "    \"Final_Score\": [55, 65, 75, 85]  # target (y)\n",
    "}\n",
    "\n",
    "df = pd.DataFrame(data)\n"
   ]
  },
  {
   "cell_type": "code",
   "execution_count": 3,
   "id": "c21fcdb8",
   "metadata": {
    "execution": {
     "iopub.execute_input": "2025-08-28T15:27:49.492994Z",
     "iopub.status.busy": "2025-08-28T15:27:49.492639Z",
     "iopub.status.idle": "2025-08-28T15:27:49.518204Z",
     "shell.execute_reply": "2025-08-28T15:27:49.517127Z"
    },
    "papermill": {
     "duration": 0.031409,
     "end_time": "2025-08-28T15:27:49.520318",
     "exception": false,
     "start_time": "2025-08-28T15:27:49.488909",
     "status": "completed"
    },
    "tags": []
   },
   "outputs": [
    {
     "data": {
      "text/html": [
       "<div>\n",
       "<style scoped>\n",
       "    .dataframe tbody tr th:only-of-type {\n",
       "        vertical-align: middle;\n",
       "    }\n",
       "\n",
       "    .dataframe tbody tr th {\n",
       "        vertical-align: top;\n",
       "    }\n",
       "\n",
       "    .dataframe thead th {\n",
       "        text-align: right;\n",
       "    }\n",
       "</style>\n",
       "<table border=\"1\" class=\"dataframe\">\n",
       "  <thead>\n",
       "    <tr style=\"text-align: right;\">\n",
       "      <th></th>\n",
       "      <th>Hours_Studied</th>\n",
       "      <th>Hours_Slept</th>\n",
       "      <th>Final_Score</th>\n",
       "    </tr>\n",
       "  </thead>\n",
       "  <tbody>\n",
       "    <tr>\n",
       "      <th>0</th>\n",
       "      <td>2</td>\n",
       "      <td>9</td>\n",
       "      <td>55</td>\n",
       "    </tr>\n",
       "    <tr>\n",
       "      <th>1</th>\n",
       "      <td>4</td>\n",
       "      <td>8</td>\n",
       "      <td>65</td>\n",
       "    </tr>\n",
       "    <tr>\n",
       "      <th>2</th>\n",
       "      <td>6</td>\n",
       "      <td>6</td>\n",
       "      <td>75</td>\n",
       "    </tr>\n",
       "    <tr>\n",
       "      <th>3</th>\n",
       "      <td>8</td>\n",
       "      <td>5</td>\n",
       "      <td>85</td>\n",
       "    </tr>\n",
       "  </tbody>\n",
       "</table>\n",
       "</div>"
      ],
      "text/plain": [
       "   Hours_Studied  Hours_Slept  Final_Score\n",
       "0              2            9           55\n",
       "1              4            8           65\n",
       "2              6            6           75\n",
       "3              8            5           85"
      ]
     },
     "execution_count": 3,
     "metadata": {},
     "output_type": "execute_result"
    }
   ],
   "source": [
    "df.head()"
   ]
  },
  {
   "cell_type": "code",
   "execution_count": 4,
   "id": "966d01d5",
   "metadata": {
    "execution": {
     "iopub.execute_input": "2025-08-28T15:27:49.528129Z",
     "iopub.status.busy": "2025-08-28T15:27:49.527775Z",
     "iopub.status.idle": "2025-08-28T15:27:49.545165Z",
     "shell.execute_reply": "2025-08-28T15:27:49.544264Z"
    },
    "papermill": {
     "duration": 0.023483,
     "end_time": "2025-08-28T15:27:49.546986",
     "exception": false,
     "start_time": "2025-08-28T15:27:49.523503",
     "status": "completed"
    },
    "tags": []
   },
   "outputs": [
    {
     "data": {
      "text/html": [
       "<div>\n",
       "<style scoped>\n",
       "    .dataframe tbody tr th:only-of-type {\n",
       "        vertical-align: middle;\n",
       "    }\n",
       "\n",
       "    .dataframe tbody tr th {\n",
       "        vertical-align: top;\n",
       "    }\n",
       "\n",
       "    .dataframe thead th {\n",
       "        text-align: right;\n",
       "    }\n",
       "</style>\n",
       "<table border=\"1\" class=\"dataframe\">\n",
       "  <thead>\n",
       "    <tr style=\"text-align: right;\">\n",
       "      <th></th>\n",
       "      <th>Hours_Studied</th>\n",
       "      <th>Hours_Slept</th>\n",
       "      <th>Final_Score</th>\n",
       "    </tr>\n",
       "  </thead>\n",
       "  <tbody>\n",
       "    <tr>\n",
       "      <th>0</th>\n",
       "      <td>0.25</td>\n",
       "      <td>1.000000</td>\n",
       "      <td>0.647059</td>\n",
       "    </tr>\n",
       "    <tr>\n",
       "      <th>1</th>\n",
       "      <td>0.50</td>\n",
       "      <td>0.888889</td>\n",
       "      <td>0.764706</td>\n",
       "    </tr>\n",
       "    <tr>\n",
       "      <th>2</th>\n",
       "      <td>0.75</td>\n",
       "      <td>0.666667</td>\n",
       "      <td>0.882353</td>\n",
       "    </tr>\n",
       "    <tr>\n",
       "      <th>3</th>\n",
       "      <td>1.00</td>\n",
       "      <td>0.555556</td>\n",
       "      <td>1.000000</td>\n",
       "    </tr>\n",
       "  </tbody>\n",
       "</table>\n",
       "</div>"
      ],
      "text/plain": [
       "   Hours_Studied  Hours_Slept  Final_Score\n",
       "0           0.25     1.000000     0.647059\n",
       "1           0.50     0.888889     0.764706\n",
       "2           0.75     0.666667     0.882353\n",
       "3           1.00     0.555556     1.000000"
      ]
     },
     "execution_count": 4,
     "metadata": {},
     "output_type": "execute_result"
    }
   ],
   "source": [
    "# Normalizing the Data\n",
    "\n",
    "df['Hours_Studied'] = df['Hours_Studied']/df['Hours_Studied'].max()\n",
    "df['Hours_Slept'] = df['Hours_Slept']/df['Hours_Slept'].max()\n",
    "df['Final_Score'] = df['Final_Score']/df['Final_Score'].max()\n",
    "\n",
    "df.head()"
   ]
  },
  {
   "cell_type": "code",
   "execution_count": 5,
   "id": "f03f3486",
   "metadata": {
    "execution": {
     "iopub.execute_input": "2025-08-28T15:27:49.554686Z",
     "iopub.status.busy": "2025-08-28T15:27:49.554411Z",
     "iopub.status.idle": "2025-08-28T15:27:49.569232Z",
     "shell.execute_reply": "2025-08-28T15:27:49.568436Z"
    },
    "papermill": {
     "duration": 0.020436,
     "end_time": "2025-08-28T15:27:49.570851",
     "exception": false,
     "start_time": "2025-08-28T15:27:49.550415",
     "status": "completed"
    },
    "tags": []
   },
   "outputs": [],
   "source": [
    "# Spltting the data\n",
    "\n",
    "X = df.drop('Final_Score',axis = 1).values\n",
    "y = df['Final_Score'].values.reshape(-1,1)"
   ]
  },
  {
   "cell_type": "code",
   "execution_count": 6,
   "id": "c71f0949",
   "metadata": {
    "execution": {
     "iopub.execute_input": "2025-08-28T15:27:49.578716Z",
     "iopub.status.busy": "2025-08-28T15:27:49.578341Z",
     "iopub.status.idle": "2025-08-28T15:27:49.584290Z",
     "shell.execute_reply": "2025-08-28T15:27:49.583485Z"
    },
    "papermill": {
     "duration": 0.011331,
     "end_time": "2025-08-28T15:27:49.585622",
     "exception": false,
     "start_time": "2025-08-28T15:27:49.574291",
     "status": "completed"
    },
    "tags": []
   },
   "outputs": [
    {
     "data": {
      "text/plain": [
       "(4, 2)"
      ]
     },
     "execution_count": 6,
     "metadata": {},
     "output_type": "execute_result"
    }
   ],
   "source": [
    "X.shape"
   ]
  },
  {
   "cell_type": "code",
   "execution_count": 7,
   "id": "3522aafa",
   "metadata": {
    "execution": {
     "iopub.execute_input": "2025-08-28T15:27:49.593246Z",
     "iopub.status.busy": "2025-08-28T15:27:49.592900Z",
     "iopub.status.idle": "2025-08-28T15:27:49.598664Z",
     "shell.execute_reply": "2025-08-28T15:27:49.597751Z"
    },
    "papermill": {
     "duration": 0.011279,
     "end_time": "2025-08-28T15:27:49.600138",
     "exception": false,
     "start_time": "2025-08-28T15:27:49.588859",
     "status": "completed"
    },
    "tags": []
   },
   "outputs": [
    {
     "data": {
      "text/plain": [
       "(4, 1)"
      ]
     },
     "execution_count": 7,
     "metadata": {},
     "output_type": "execute_result"
    }
   ],
   "source": [
    "y.shape"
   ]
  },
  {
   "cell_type": "code",
   "execution_count": 8,
   "id": "49c40a86",
   "metadata": {
    "execution": {
     "iopub.execute_input": "2025-08-28T15:27:49.607968Z",
     "iopub.status.busy": "2025-08-28T15:27:49.607643Z",
     "iopub.status.idle": "2025-08-28T15:27:49.614017Z",
     "shell.execute_reply": "2025-08-28T15:27:49.613113Z"
    },
    "papermill": {
     "duration": 0.012203,
     "end_time": "2025-08-28T15:27:49.615656",
     "exception": false,
     "start_time": "2025-08-28T15:27:49.603453",
     "status": "completed"
    },
    "tags": []
   },
   "outputs": [],
   "source": [
    "# Creating Neular network\n",
    "\n",
    "\"\"\"\n",
    " Input Layer - 2 neurons\n",
    " Hidden Layer - 2 neurons\n",
    " Output Layer - 1 neuron\n",
    "\n",
    " Total Trainable Parameters = Total weights + Total bias\n",
    "\n",
    " Input layer to hidden layer = 2 x 2 = 4 weights\n",
    " Hidden layer bias's         = 2 bias's\n",
    "\n",
    " Hidden layer to Output layer = 2 x 1 = 2 weights\n",
    " Output layer bias's          = 1 bias's\n",
    "\n",
    " Total Trainable Parameters = 4+2 (weights) +  2+1 (bias's)\n",
    "\n",
    " Total Trainable Parameters = 9 \n",
    "\n",
    "\"\"\"\n",
    "\n",
    "\n",
    "# Initializing layers and neurons\n",
    "input_neurons = 2\n",
    "hidden_neurons = 2\n",
    "output_neurons = 1\n",
    "\n",
    "\n",
    "# Initalizing weights and bias's\n",
    "w1 = np.random.rand(input_neurons,hidden_neurons)\n",
    "b1 = np.random.rand(1,hidden_neurons)\n",
    "w2 = np.random.rand(hidden_neurons,output_neurons)\n",
    "b2 = np.random.rand(1,output_neurons)"
   ]
  },
  {
   "cell_type": "code",
   "execution_count": 9,
   "id": "c313672f",
   "metadata": {
    "execution": {
     "iopub.execute_input": "2025-08-28T15:27:49.624298Z",
     "iopub.status.busy": "2025-08-28T15:27:49.623821Z",
     "iopub.status.idle": "2025-08-28T15:27:49.631635Z",
     "shell.execute_reply": "2025-08-28T15:27:49.629877Z"
    },
    "papermill": {
     "duration": 0.014146,
     "end_time": "2025-08-28T15:27:49.633542",
     "exception": false,
     "start_time": "2025-08-28T15:27:49.619396",
     "status": "completed"
    },
    "tags": []
   },
   "outputs": [
    {
     "name": "stdout",
     "output_type": "stream",
     "text": [
      "w1 : \n",
      " [[0.53478669 0.44097337]\n",
      " [0.23139675 0.47830704]]\n",
      "\n",
      "w2 : \n",
      " [[0.6784994 ]\n",
      " [0.61629207]]\n",
      "\n",
      "b1 : \n",
      " [[0.06164027 0.12409449]]\n",
      "\n",
      "b2 : \n",
      " [[0.66356891]]\n"
     ]
    }
   ],
   "source": [
    "# Priniting Initial weights and bias's\n",
    "\n",
    "print(f\"w1 : \\n\",w1)\n",
    "print(f\"\\nw2 : \\n\",w2)\n",
    "print(f\"\\nb1 : \\n\",b1)\n",
    "print(f\"\\nb2 : \\n\",b2)"
   ]
  },
  {
   "cell_type": "code",
   "execution_count": 10,
   "id": "fd1e8003",
   "metadata": {
    "execution": {
     "iopub.execute_input": "2025-08-28T15:27:49.641788Z",
     "iopub.status.busy": "2025-08-28T15:27:49.641473Z",
     "iopub.status.idle": "2025-08-28T15:27:49.646285Z",
     "shell.execute_reply": "2025-08-28T15:27:49.645158Z"
    },
    "papermill": {
     "duration": 0.0106,
     "end_time": "2025-08-28T15:27:49.647810",
     "exception": false,
     "start_time": "2025-08-28T15:27:49.637210",
     "status": "completed"
    },
    "tags": []
   },
   "outputs": [],
   "source": [
    "epochs = 1000\n",
    "lr = 0.1\n"
   ]
  },
  {
   "cell_type": "code",
   "execution_count": 11,
   "id": "71293669",
   "metadata": {
    "execution": {
     "iopub.execute_input": "2025-08-28T15:27:49.655925Z",
     "iopub.status.busy": "2025-08-28T15:27:49.655640Z",
     "iopub.status.idle": "2025-08-28T15:27:49.752826Z",
     "shell.execute_reply": "2025-08-28T15:27:49.751750Z"
    },
    "papermill": {
     "duration": 0.102888,
     "end_time": "2025-08-28T15:27:49.754270",
     "exception": false,
     "start_time": "2025-08-28T15:27:49.651382",
     "status": "completed"
    },
    "tags": []
   },
   "outputs": [
    {
     "name": "stdout",
     "output_type": "stream",
     "text": [
      "Epoch 0, Loss: 0.50015\n",
      "Epoch 100, Loss: 0.00072\n",
      "Epoch 200, Loss: 0.00014\n",
      "Epoch 300, Loss: 0.00004\n",
      "Epoch 400, Loss: 0.00002\n",
      "Epoch 500, Loss: 0.00002\n",
      "Epoch 600, Loss: 0.00002\n",
      "Epoch 700, Loss: 0.00002\n",
      "Epoch 800, Loss: 0.00002\n",
      "Epoch 900, Loss: 0.00002\n",
      "\n",
      "Final Predictions:\n",
      " [[0.64502238]\n",
      " [0.77016154]\n",
      " [0.87683572]\n",
      " [1.00197488]]\n"
     ]
    }
   ],
   "source": [
    "for epoch in range(epochs):\n",
    "    # Forward Pass\n",
    "    hidden_y_pred = np.dot(X, w1) + b1        # (4,2)\n",
    "    output_y_pred = np.dot(hidden_y_pred, w2) + b2  # (4,1)\n",
    "\n",
    "    # Loss (MSE)\n",
    "    loss = np.mean((y - output_y_pred)**2)\n",
    "    if epoch % 100 == 0:\n",
    "        print(f\"Epoch {epoch}, Loss: {loss:.5f}\")\n",
    "\n",
    "    # Backpropagation\n",
    "    # 1️Output layer gradients\n",
    "    delta2 = output_y_pred - y                # (4,1)\n",
    "    dw2 = np.dot(hidden_y_pred.T, delta2) / X.shape[0]   # (2,1)\n",
    "    db2 = np.sum(delta2, axis=0, keepdims=True) / X.shape[0]  # (1,1)\n",
    "\n",
    "    # Hidden layer gradients\n",
    "    delta1 = np.dot(delta2, w2.T)            # (4,2)\n",
    "    dw1 = np.dot(X.T, delta1) / X.shape[0]   # (2,2)\n",
    "    db1 = np.sum(delta1, axis=0, keepdims=True) / X.shape[0]  # (1,2)\n",
    "\n",
    "    # Update weights and biases\n",
    "    w2 -= lr * dw2\n",
    "    b2 -= lr * db2\n",
    "    w1 -= lr * dw1\n",
    "    b1 -= lr * db1\n",
    "\n",
    "# Final Predictions\n",
    "hidden_y_pred = np.dot(X, w1) + b1\n",
    "output_y_pred = np.dot(hidden_y_pred, w2) + b2\n",
    "print(\"\\nFinal Predictions:\\n\", output_y_pred)"
   ]
  }
 ],
 "metadata": {
  "kaggle": {
   "accelerator": "none",
   "dataSources": [],
   "dockerImageVersionId": 31089,
   "isGpuEnabled": false,
   "isInternetEnabled": true,
   "language": "python",
   "sourceType": "notebook"
  },
  "kernelspec": {
   "display_name": "Python 3",
   "language": "python",
   "name": "python3"
  },
  "language_info": {
   "codemirror_mode": {
    "name": "ipython",
    "version": 3
   },
   "file_extension": ".py",
   "mimetype": "text/x-python",
   "name": "python",
   "nbconvert_exporter": "python",
   "pygments_lexer": "ipython3",
   "version": "3.11.13"
  },
  "papermill": {
   "default_parameters": {},
   "duration": 8.42449,
   "end_time": "2025-08-28T15:27:50.277541",
   "environment_variables": {},
   "exception": null,
   "input_path": "__notebook__.ipynb",
   "output_path": "__notebook__.ipynb",
   "parameters": {},
   "start_time": "2025-08-28T15:27:41.853051",
   "version": "2.6.0"
  }
 },
 "nbformat": 4,
 "nbformat_minor": 5
}
