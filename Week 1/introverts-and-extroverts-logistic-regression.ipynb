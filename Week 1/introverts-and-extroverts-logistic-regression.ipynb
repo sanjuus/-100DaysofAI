{
 "cells": [
  {
   "cell_type": "code",
   "execution_count": 1,
   "id": "da7118a9",
   "metadata": {
    "_cell_guid": "b1076dfc-b9ad-4769-8c92-a6c4dae69d19",
    "_uuid": "8f2839f25d086af736a60e9eeb907d3b93b6e0e5",
    "execution": {
     "iopub.execute_input": "2025-08-29T15:51:44.140779Z",
     "iopub.status.busy": "2025-08-29T15:51:44.139943Z",
     "iopub.status.idle": "2025-08-29T15:51:49.258207Z",
     "shell.execute_reply": "2025-08-29T15:51:49.257146Z"
    },
    "papermill": {
     "duration": 5.127004,
     "end_time": "2025-08-29T15:51:49.260073",
     "exception": false,
     "start_time": "2025-08-29T15:51:44.133069",
     "status": "completed"
    },
    "tags": []
   },
   "outputs": [],
   "source": [
    "# Importing Libraries\n",
    "import numpy as np\n",
    "import pandas as pd\n",
    "import matplotlib.pyplot as plt\n",
    "import seaborn as sns\n",
    "from sklearn.preprocessing import MinMaxScaler\n",
    "from sklearn.model_selection import train_test_split\n",
    "from sklearn.linear_model import LogisticRegression\n",
    "from sklearn.metrics import accuracy_score"
   ]
  },
  {
   "cell_type": "code",
   "execution_count": 2,
   "id": "756e31fa",
   "metadata": {
    "execution": {
     "iopub.execute_input": "2025-08-29T15:51:49.273483Z",
     "iopub.status.busy": "2025-08-29T15:51:49.272411Z",
     "iopub.status.idle": "2025-08-29T15:51:49.278541Z",
     "shell.execute_reply": "2025-08-29T15:51:49.277202Z"
    },
    "papermill": {
     "duration": 0.015007,
     "end_time": "2025-08-29T15:51:49.280737",
     "exception": false,
     "start_time": "2025-08-29T15:51:49.265730",
     "status": "completed"
    },
    "tags": []
   },
   "outputs": [],
   "source": [
    "import warnings\n",
    "warnings.filterwarnings('ignore')"
   ]
  },
  {
   "cell_type": "code",
   "execution_count": 3,
   "id": "3e5f0d50",
   "metadata": {
    "execution": {
     "iopub.execute_input": "2025-08-29T15:51:49.292647Z",
     "iopub.status.busy": "2025-08-29T15:51:49.291778Z",
     "iopub.status.idle": "2025-08-29T15:51:49.382744Z",
     "shell.execute_reply": "2025-08-29T15:51:49.381420Z"
    },
    "papermill": {
     "duration": 0.098638,
     "end_time": "2025-08-29T15:51:49.384609",
     "exception": false,
     "start_time": "2025-08-29T15:51:49.285971",
     "status": "completed"
    },
    "tags": []
   },
   "outputs": [
    {
     "data": {
      "text/html": [
       "<div>\n",
       "<style scoped>\n",
       "    .dataframe tbody tr th:only-of-type {\n",
       "        vertical-align: middle;\n",
       "    }\n",
       "\n",
       "    .dataframe tbody tr th {\n",
       "        vertical-align: top;\n",
       "    }\n",
       "\n",
       "    .dataframe thead th {\n",
       "        text-align: right;\n",
       "    }\n",
       "</style>\n",
       "<table border=\"1\" class=\"dataframe\">\n",
       "  <thead>\n",
       "    <tr style=\"text-align: right;\">\n",
       "      <th></th>\n",
       "      <th>id</th>\n",
       "      <th>Time_spent_Alone</th>\n",
       "      <th>Stage_fear</th>\n",
       "      <th>Social_event_attendance</th>\n",
       "      <th>Going_outside</th>\n",
       "      <th>Drained_after_socializing</th>\n",
       "      <th>Friends_circle_size</th>\n",
       "      <th>Post_frequency</th>\n",
       "      <th>Personality</th>\n",
       "    </tr>\n",
       "  </thead>\n",
       "  <tbody>\n",
       "    <tr>\n",
       "      <th>0</th>\n",
       "      <td>0</td>\n",
       "      <td>0.0</td>\n",
       "      <td>No</td>\n",
       "      <td>6.0</td>\n",
       "      <td>4.0</td>\n",
       "      <td>No</td>\n",
       "      <td>15.0</td>\n",
       "      <td>5.0</td>\n",
       "      <td>Extrovert</td>\n",
       "    </tr>\n",
       "    <tr>\n",
       "      <th>1</th>\n",
       "      <td>1</td>\n",
       "      <td>1.0</td>\n",
       "      <td>No</td>\n",
       "      <td>7.0</td>\n",
       "      <td>3.0</td>\n",
       "      <td>No</td>\n",
       "      <td>10.0</td>\n",
       "      <td>8.0</td>\n",
       "      <td>Extrovert</td>\n",
       "    </tr>\n",
       "    <tr>\n",
       "      <th>2</th>\n",
       "      <td>2</td>\n",
       "      <td>6.0</td>\n",
       "      <td>Yes</td>\n",
       "      <td>1.0</td>\n",
       "      <td>0.0</td>\n",
       "      <td>NaN</td>\n",
       "      <td>3.0</td>\n",
       "      <td>0.0</td>\n",
       "      <td>Introvert</td>\n",
       "    </tr>\n",
       "    <tr>\n",
       "      <th>3</th>\n",
       "      <td>3</td>\n",
       "      <td>3.0</td>\n",
       "      <td>No</td>\n",
       "      <td>7.0</td>\n",
       "      <td>3.0</td>\n",
       "      <td>No</td>\n",
       "      <td>11.0</td>\n",
       "      <td>5.0</td>\n",
       "      <td>Extrovert</td>\n",
       "    </tr>\n",
       "    <tr>\n",
       "      <th>4</th>\n",
       "      <td>4</td>\n",
       "      <td>1.0</td>\n",
       "      <td>No</td>\n",
       "      <td>4.0</td>\n",
       "      <td>4.0</td>\n",
       "      <td>No</td>\n",
       "      <td>13.0</td>\n",
       "      <td>NaN</td>\n",
       "      <td>Extrovert</td>\n",
       "    </tr>\n",
       "  </tbody>\n",
       "</table>\n",
       "</div>"
      ],
      "text/plain": [
       "   id  Time_spent_Alone Stage_fear  Social_event_attendance  Going_outside  \\\n",
       "0   0               0.0         No                      6.0            4.0   \n",
       "1   1               1.0         No                      7.0            3.0   \n",
       "2   2               6.0        Yes                      1.0            0.0   \n",
       "3   3               3.0         No                      7.0            3.0   \n",
       "4   4               1.0         No                      4.0            4.0   \n",
       "\n",
       "  Drained_after_socializing  Friends_circle_size  Post_frequency Personality  \n",
       "0                        No                 15.0             5.0   Extrovert  \n",
       "1                        No                 10.0             8.0   Extrovert  \n",
       "2                       NaN                  3.0             0.0   Introvert  \n",
       "3                        No                 11.0             5.0   Extrovert  \n",
       "4                        No                 13.0             NaN   Extrovert  "
      ]
     },
     "execution_count": 3,
     "metadata": {},
     "output_type": "execute_result"
    }
   ],
   "source": [
    "train = pd.read_csv('/kaggle/input/playground-series-s5e7/train.csv')\n",
    "\n",
    "train.head()"
   ]
  },
  {
   "cell_type": "markdown",
   "id": "3b2c1de9",
   "metadata": {
    "papermill": {
     "duration": 0.004782,
     "end_time": "2025-08-29T15:51:49.394763",
     "exception": false,
     "start_time": "2025-08-29T15:51:49.389981",
     "status": "completed"
    },
    "tags": []
   },
   "source": [
    "# Basic Exploartion"
   ]
  },
  {
   "cell_type": "code",
   "execution_count": 4,
   "id": "c4001653",
   "metadata": {
    "execution": {
     "iopub.execute_input": "2025-08-29T15:51:49.405967Z",
     "iopub.status.busy": "2025-08-29T15:51:49.405658Z",
     "iopub.status.idle": "2025-08-29T15:51:49.450759Z",
     "shell.execute_reply": "2025-08-29T15:51:49.449449Z"
    },
    "papermill": {
     "duration": 0.052865,
     "end_time": "2025-08-29T15:51:49.452585",
     "exception": false,
     "start_time": "2025-08-29T15:51:49.399720",
     "status": "completed"
    },
    "tags": []
   },
   "outputs": [
    {
     "name": "stdout",
     "output_type": "stream",
     "text": [
      "Information : \n",
      "\n",
      "<class 'pandas.core.frame.DataFrame'>\n",
      "RangeIndex: 18524 entries, 0 to 18523\n",
      "Data columns (total 9 columns):\n",
      " #   Column                     Non-Null Count  Dtype  \n",
      "---  ------                     --------------  -----  \n",
      " 0   id                         18524 non-null  int64  \n",
      " 1   Time_spent_Alone           17334 non-null  float64\n",
      " 2   Stage_fear                 16631 non-null  object \n",
      " 3   Social_event_attendance    17344 non-null  float64\n",
      " 4   Going_outside              17058 non-null  float64\n",
      " 5   Drained_after_socializing  17375 non-null  object \n",
      " 6   Friends_circle_size        17470 non-null  float64\n",
      " 7   Post_frequency             17260 non-null  float64\n",
      " 8   Personality                18524 non-null  object \n",
      "dtypes: float64(5), int64(1), object(3)\n",
      "memory usage: 1.3+ MB\n",
      "None\n",
      "\n",
      "Missing Values : \n",
      "\n",
      "id                              0\n",
      "Time_spent_Alone             1190\n",
      "Stage_fear                   1893\n",
      "Social_event_attendance      1180\n",
      "Going_outside                1466\n",
      "Drained_after_socializing    1149\n",
      "Friends_circle_size          1054\n",
      "Post_frequency               1264\n",
      "Personality                     0\n",
      "dtype: int64\n",
      "\n",
      "Duplicate Entries : \n",
      "\n",
      "0\n"
     ]
    }
   ],
   "source": [
    "# Information\n",
    "print(\"Information : \\n\")\n",
    "print(train.info())\n",
    "\n",
    "# Missing values\n",
    "print(\"\\nMissing Values : \\n\")\n",
    "print(train.isnull().sum())\n",
    "\n",
    "# Duplicate Entries\n",
    "print(\"\\nDuplicate Entries : \\n\")\n",
    "print(train.duplicated().sum())"
   ]
  },
  {
   "cell_type": "markdown",
   "id": "73ea02f9",
   "metadata": {
    "papermill": {
     "duration": 0.004916,
     "end_time": "2025-08-29T15:51:49.462752",
     "exception": false,
     "start_time": "2025-08-29T15:51:49.457836",
     "status": "completed"
    },
    "tags": []
   },
   "source": [
    "# Basic Analytics"
   ]
  },
  {
   "cell_type": "code",
   "execution_count": 5,
   "id": "c27fece2",
   "metadata": {
    "execution": {
     "iopub.execute_input": "2025-08-29T15:51:49.474332Z",
     "iopub.status.busy": "2025-08-29T15:51:49.473840Z",
     "iopub.status.idle": "2025-08-29T15:51:51.564873Z",
     "shell.execute_reply": "2025-08-29T15:51:51.563591Z"
    },
    "papermill": {
     "duration": 2.100887,
     "end_time": "2025-08-29T15:51:51.568769",
     "exception": false,
     "start_time": "2025-08-29T15:51:49.467882",
     "status": "completed"
    },
    "tags": []
   },
   "outputs": [
    {
     "data": {
      "image/png": "[encoded data removed]",
      "text/plain": [
       "<Figure size 1200x1000 with 5 Axes>"
      ]
     },
     "metadata": {},
     "output_type": "display_data"
    }
   ],
   "source": [
    "plt.figure(figsize = (12,10))\n",
    "n = 0 \n",
    "\n",
    "numeric_columns = ['Time_spent_Alone','Social_event_attendance','Going_outside','Friends_circle_size','Post_frequency']\n",
    "\n",
    "for col in numeric_columns:\n",
    "    n = n+1\n",
    "    plt.subplot(2,3,n)\n",
    "    sns.histplot(data = train, x = train[col], kde = True)\n",
    "    plt.title(f\"{col} distribution\")\n",
    "\n",
    "plt.tight_layout()\n",
    "plt.show()\n"
   ]
  },
  {
   "cell_type": "markdown",
   "id": "409661b9",
   "metadata": {
    "papermill": {
     "duration": 0.007747,
     "end_time": "2025-08-29T15:51:51.584026",
     "exception": false,
     "start_time": "2025-08-29T15:51:51.576279",
     "status": "completed"
    },
    "tags": []
   },
   "source": [
    "# Data Preprocessing"
   ]
  },
  {
   "cell_type": "code",
   "execution_count": 6,
   "id": "37be6850",
   "metadata": {
    "execution": {
     "iopub.execute_input": "2025-08-29T15:51:51.600170Z",
     "iopub.status.busy": "2025-08-29T15:51:51.599773Z",
     "iopub.status.idle": "2025-08-29T15:51:51.617663Z",
     "shell.execute_reply": "2025-08-29T15:51:51.616325Z"
    },
    "papermill": {
     "duration": 0.028546,
     "end_time": "2025-08-29T15:51:51.620019",
     "exception": false,
     "start_time": "2025-08-29T15:51:51.591473",
     "status": "completed"
    },
    "tags": []
   },
   "outputs": [],
   "source": [
    "# Filling Missing values\n",
    "\n",
    "train[numeric_columns] = train[numeric_columns].fillna(train[numeric_columns].median())\n"
   ]
  },
  {
   "cell_type": "code",
   "execution_count": 7,
   "id": "e12e609b",
   "metadata": {
    "execution": {
     "iopub.execute_input": "2025-08-29T15:51:51.638705Z",
     "iopub.status.busy": "2025-08-29T15:51:51.638372Z",
     "iopub.status.idle": "2025-08-29T15:51:51.657496Z",
     "shell.execute_reply": "2025-08-29T15:51:51.655280Z"
    },
    "papermill": {
     "duration": 0.031453,
     "end_time": "2025-08-29T15:51:51.660001",
     "exception": false,
     "start_time": "2025-08-29T15:51:51.628548",
     "status": "completed"
    },
    "tags": []
   },
   "outputs": [],
   "source": [
    "# Train imputation\n",
    "mean_social_attendance_1 = train['Social_event_attendance'].mean()\n",
    "train['Stage_fear'] = train['Stage_fear'].fillna(\n",
    "    train['Social_event_attendance'].apply(lambda x: \"Yes\" if x > mean_social_attendance_1 else \"No\")\n",
    ")\n"
   ]
  },
  {
   "cell_type": "code",
   "execution_count": 8,
   "id": "0ab6eee0",
   "metadata": {
    "execution": {
     "iopub.execute_input": "2025-08-29T15:51:51.684797Z",
     "iopub.status.busy": "2025-08-29T15:51:51.684411Z",
     "iopub.status.idle": "2025-08-29T15:51:51.699083Z",
     "shell.execute_reply": "2025-08-29T15:51:51.697995Z"
    },
    "papermill": {
     "duration": 0.02725,
     "end_time": "2025-08-29T15:51:51.701865",
     "exception": false,
     "start_time": "2025-08-29T15:51:51.674615",
     "status": "completed"
    },
    "tags": []
   },
   "outputs": [],
   "source": [
    "friends_size_mean_1 = train['Friends_circle_size'].mean()\n",
    "train['Drained_after_socializing'] = train['Drained_after_socializing'].fillna(\n",
    "    train['Friends_circle_size'].apply(lambda x : \"Yes\" if x>friends_size_mean_1 else \"No\")\n",
    ")\n"
   ]
  },
  {
   "cell_type": "markdown",
   "id": "330fbe46",
   "metadata": {
    "papermill": {
     "duration": 0.008098,
     "end_time": "2025-08-29T15:51:51.720450",
     "exception": false,
     "start_time": "2025-08-29T15:51:51.712352",
     "status": "completed"
    },
    "tags": []
   },
   "source": [
    "# categorical Encoding"
   ]
  },
  {
   "cell_type": "code",
   "execution_count": 9,
   "id": "2a0442a3",
   "metadata": {
    "execution": {
     "iopub.execute_input": "2025-08-29T15:51:51.736647Z",
     "iopub.status.busy": "2025-08-29T15:51:51.736227Z",
     "iopub.status.idle": "2025-08-29T15:51:51.750434Z",
     "shell.execute_reply": "2025-08-29T15:51:51.749034Z"
    },
    "papermill": {
     "duration": 0.024745,
     "end_time": "2025-08-29T15:51:51.752394",
     "exception": false,
     "start_time": "2025-08-29T15:51:51.727649",
     "status": "completed"
    },
    "tags": []
   },
   "outputs": [],
   "source": [
    "# Categorical columns to numeric\n",
    "map_values = {\"Yes\" : 1,\n",
    "             \"No\" : 0}\n",
    "\n",
    "train['Stage_fear'] = train['Stage_fear'].map(map_values)\n",
    "train['Drained_after_socializing'] = train['Drained_after_socializing'].map(map_values)\n",
    "\n",
    "\n",
    "personality_map = {\"Introvert\" : 0,\n",
    "                  \"Extrovert\" : 1}\n",
    "\n",
    "train['Personality'] = train['Personality'].map(personality_map)"
   ]
  },
  {
   "cell_type": "code",
   "execution_count": 10,
   "id": "d4fc8c07",
   "metadata": {
    "execution": {
     "iopub.execute_input": "2025-08-29T15:51:51.769199Z",
     "iopub.status.busy": "2025-08-29T15:51:51.768797Z",
     "iopub.status.idle": "2025-08-29T15:51:51.784254Z",
     "shell.execute_reply": "2025-08-29T15:51:51.782917Z"
    },
    "papermill": {
     "duration": 0.025722,
     "end_time": "2025-08-29T15:51:51.786098",
     "exception": false,
     "start_time": "2025-08-29T15:51:51.760376",
     "status": "completed"
    },
    "tags": []
   },
   "outputs": [
    {
     "data": {
      "text/html": [
       "<div>\n",
       "<style scoped>\n",
       "    .dataframe tbody tr th:only-of-type {\n",
       "        vertical-align: middle;\n",
       "    }\n",
       "\n",
       "    .dataframe tbody tr th {\n",
       "        vertical-align: top;\n",
       "    }\n",
       "\n",
       "    .dataframe thead th {\n",
       "        text-align: right;\n",
       "    }\n",
       "</style>\n",
       "<table border=\"1\" class=\"dataframe\">\n",
       "  <thead>\n",
       "    <tr style=\"text-align: right;\">\n",
       "      <th></th>\n",
       "      <th>id</th>\n",
       "      <th>Time_spent_Alone</th>\n",
       "      <th>Stage_fear</th>\n",
       "      <th>Social_event_attendance</th>\n",
       "      <th>Going_outside</th>\n",
       "      <th>Drained_after_socializing</th>\n",
       "      <th>Friends_circle_size</th>\n",
       "      <th>Post_frequency</th>\n",
       "      <th>Personality</th>\n",
       "    </tr>\n",
       "  </thead>\n",
       "  <tbody>\n",
       "    <tr>\n",
       "      <th>0</th>\n",
       "      <td>0</td>\n",
       "      <td>0.0</td>\n",
       "      <td>0</td>\n",
       "      <td>6.0</td>\n",
       "      <td>4.0</td>\n",
       "      <td>0</td>\n",
       "      <td>15.0</td>\n",
       "      <td>5.0</td>\n",
       "      <td>1</td>\n",
       "    </tr>\n",
       "    <tr>\n",
       "      <th>1</th>\n",
       "      <td>1</td>\n",
       "      <td>1.0</td>\n",
       "      <td>0</td>\n",
       "      <td>7.0</td>\n",
       "      <td>3.0</td>\n",
       "      <td>0</td>\n",
       "      <td>10.0</td>\n",
       "      <td>8.0</td>\n",
       "      <td>1</td>\n",
       "    </tr>\n",
       "    <tr>\n",
       "      <th>2</th>\n",
       "      <td>2</td>\n",
       "      <td>6.0</td>\n",
       "      <td>1</td>\n",
       "      <td>1.0</td>\n",
       "      <td>0.0</td>\n",
       "      <td>0</td>\n",
       "      <td>3.0</td>\n",
       "      <td>0.0</td>\n",
       "      <td>0</td>\n",
       "    </tr>\n",
       "    <tr>\n",
       "      <th>3</th>\n",
       "      <td>3</td>\n",
       "      <td>3.0</td>\n",
       "      <td>0</td>\n",
       "      <td>7.0</td>\n",
       "      <td>3.0</td>\n",
       "      <td>0</td>\n",
       "      <td>11.0</td>\n",
       "      <td>5.0</td>\n",
       "      <td>1</td>\n",
       "    </tr>\n",
       "    <tr>\n",
       "      <th>4</th>\n",
       "      <td>4</td>\n",
       "      <td>1.0</td>\n",
       "      <td>0</td>\n",
       "      <td>4.0</td>\n",
       "      <td>4.0</td>\n",
       "      <td>0</td>\n",
       "      <td>13.0</td>\n",
       "      <td>5.0</td>\n",
       "      <td>1</td>\n",
       "    </tr>\n",
       "  </tbody>\n",
       "</table>\n",
       "</div>"
      ],
      "text/plain": [
       "   id  Time_spent_Alone  Stage_fear  Social_event_attendance  Going_outside  \\\n",
       "0   0               0.0           0                      6.0            4.0   \n",
       "1   1               1.0           0                      7.0            3.0   \n",
       "2   2               6.0           1                      1.0            0.0   \n",
       "3   3               3.0           0                      7.0            3.0   \n",
       "4   4               1.0           0                      4.0            4.0   \n",
       "\n",
       "   Drained_after_socializing  Friends_circle_size  Post_frequency  Personality  \n",
       "0                          0                 15.0             5.0            1  \n",
       "1                          0                 10.0             8.0            1  \n",
       "2                          0                  3.0             0.0            0  \n",
       "3                          0                 11.0             5.0            1  \n",
       "4                          0                 13.0             5.0            1  "
      ]
     },
     "execution_count": 10,
     "metadata": {},
     "output_type": "execute_result"
    }
   ],
   "source": [
    "train.head()"
   ]
  },
  {
   "cell_type": "markdown",
   "id": "c7383083",
   "metadata": {
    "papermill": {
     "duration": 0.007108,
     "end_time": "2025-08-29T15:51:51.800698",
     "exception": false,
     "start_time": "2025-08-29T15:51:51.793590",
     "status": "completed"
    },
    "tags": []
   },
   "source": [
    "# Numerical Scaling"
   ]
  },
  {
   "cell_type": "code",
   "execution_count": 11,
   "id": "10a71f7f",
   "metadata": {
    "execution": {
     "iopub.execute_input": "2025-08-29T15:51:51.816951Z",
     "iopub.status.busy": "2025-08-29T15:51:51.816321Z",
     "iopub.status.idle": "2025-08-29T15:51:51.830255Z",
     "shell.execute_reply": "2025-08-29T15:51:51.828900Z"
    },
    "papermill": {
     "duration": 0.024272,
     "end_time": "2025-08-29T15:51:51.832234",
     "exception": false,
     "start_time": "2025-08-29T15:51:51.807962",
     "status": "completed"
    },
    "tags": []
   },
   "outputs": [],
   "source": [
    "# Scaling\n",
    "minmaxscaler = MinMaxScaler()\n",
    "train[numeric_columns] = minmaxscaler.fit_transform(train[numeric_columns])\n"
   ]
  },
  {
   "cell_type": "code",
   "execution_count": 12,
   "id": "b1b9fbd5",
   "metadata": {
    "execution": {
     "iopub.execute_input": "2025-08-29T15:51:51.848898Z",
     "iopub.status.busy": "2025-08-29T15:51:51.848553Z",
     "iopub.status.idle": "2025-08-29T15:51:51.863292Z",
     "shell.execute_reply": "2025-08-29T15:51:51.862192Z"
    },
    "papermill": {
     "duration": 0.025066,
     "end_time": "2025-08-29T15:51:51.865154",
     "exception": false,
     "start_time": "2025-08-29T15:51:51.840088",
     "status": "completed"
    },
    "tags": []
   },
   "outputs": [
    {
     "data": {
      "text/html": [
       "<div>\n",
       "<style scoped>\n",
       "    .dataframe tbody tr th:only-of-type {\n",
       "        vertical-align: middle;\n",
       "    }\n",
       "\n",
       "    .dataframe tbody tr th {\n",
       "        vertical-align: top;\n",
       "    }\n",
       "\n",
       "    .dataframe thead th {\n",
       "        text-align: right;\n",
       "    }\n",
       "</style>\n",
       "<table border=\"1\" class=\"dataframe\">\n",
       "  <thead>\n",
       "    <tr style=\"text-align: right;\">\n",
       "      <th></th>\n",
       "      <th>id</th>\n",
       "      <th>Time_spent_Alone</th>\n",
       "      <th>Stage_fear</th>\n",
       "      <th>Social_event_attendance</th>\n",
       "      <th>Going_outside</th>\n",
       "      <th>Drained_after_socializing</th>\n",
       "      <th>Friends_circle_size</th>\n",
       "      <th>Post_frequency</th>\n",
       "      <th>Personality</th>\n",
       "    </tr>\n",
       "  </thead>\n",
       "  <tbody>\n",
       "    <tr>\n",
       "      <th>0</th>\n",
       "      <td>0</td>\n",
       "      <td>0.000000</td>\n",
       "      <td>0</td>\n",
       "      <td>0.6</td>\n",
       "      <td>0.571429</td>\n",
       "      <td>0</td>\n",
       "      <td>1.000000</td>\n",
       "      <td>0.5</td>\n",
       "      <td>1</td>\n",
       "    </tr>\n",
       "    <tr>\n",
       "      <th>1</th>\n",
       "      <td>1</td>\n",
       "      <td>0.090909</td>\n",
       "      <td>0</td>\n",
       "      <td>0.7</td>\n",
       "      <td>0.428571</td>\n",
       "      <td>0</td>\n",
       "      <td>0.666667</td>\n",
       "      <td>0.8</td>\n",
       "      <td>1</td>\n",
       "    </tr>\n",
       "    <tr>\n",
       "      <th>2</th>\n",
       "      <td>2</td>\n",
       "      <td>0.545455</td>\n",
       "      <td>1</td>\n",
       "      <td>0.1</td>\n",
       "      <td>0.000000</td>\n",
       "      <td>0</td>\n",
       "      <td>0.200000</td>\n",
       "      <td>0.0</td>\n",
       "      <td>0</td>\n",
       "    </tr>\n",
       "    <tr>\n",
       "      <th>3</th>\n",
       "      <td>3</td>\n",
       "      <td>0.272727</td>\n",
       "      <td>0</td>\n",
       "      <td>0.7</td>\n",
       "      <td>0.428571</td>\n",
       "      <td>0</td>\n",
       "      <td>0.733333</td>\n",
       "      <td>0.5</td>\n",
       "      <td>1</td>\n",
       "    </tr>\n",
       "    <tr>\n",
       "      <th>4</th>\n",
       "      <td>4</td>\n",
       "      <td>0.090909</td>\n",
       "      <td>0</td>\n",
       "      <td>0.4</td>\n",
       "      <td>0.571429</td>\n",
       "      <td>0</td>\n",
       "      <td>0.866667</td>\n",
       "      <td>0.5</td>\n",
       "      <td>1</td>\n",
       "    </tr>\n",
       "  </tbody>\n",
       "</table>\n",
       "</div>"
      ],
      "text/plain": [
       "   id  Time_spent_Alone  Stage_fear  Social_event_attendance  Going_outside  \\\n",
       "0   0          0.000000           0                      0.6       0.571429   \n",
       "1   1          0.090909           0                      0.7       0.428571   \n",
       "2   2          0.545455           1                      0.1       0.000000   \n",
       "3   3          0.272727           0                      0.7       0.428571   \n",
       "4   4          0.090909           0                      0.4       0.571429   \n",
       "\n",
       "   Drained_after_socializing  Friends_circle_size  Post_frequency  Personality  \n",
       "0                          0             1.000000             0.5            1  \n",
       "1                          0             0.666667             0.8            1  \n",
       "2                          0             0.200000             0.0            0  \n",
       "3                          0             0.733333             0.5            1  \n",
       "4                          0             0.866667             0.5            1  "
      ]
     },
     "execution_count": 12,
     "metadata": {},
     "output_type": "execute_result"
    }
   ],
   "source": [
    "train.head()"
   ]
  },
  {
   "cell_type": "code",
   "execution_count": 13,
   "id": "83536aff",
   "metadata": {
    "execution": {
     "iopub.execute_input": "2025-08-29T15:51:51.882060Z",
     "iopub.status.busy": "2025-08-29T15:51:51.881711Z",
     "iopub.status.idle": "2025-08-29T15:51:51.888771Z",
     "shell.execute_reply": "2025-08-29T15:51:51.887464Z"
    },
    "papermill": {
     "duration": 0.017948,
     "end_time": "2025-08-29T15:51:51.890984",
     "exception": false,
     "start_time": "2025-08-29T15:51:51.873036",
     "status": "completed"
    },
    "tags": []
   },
   "outputs": [],
   "source": [
    "# removing 'id' feature in train dataset and storing 'id' in test.\n",
    "\n",
    "train = train.drop('id', axis = 1)"
   ]
  },
  {
   "cell_type": "markdown",
   "id": "092b619f",
   "metadata": {
    "papermill": {
     "duration": 0.007476,
     "end_time": "2025-08-29T15:51:51.906724",
     "exception": false,
     "start_time": "2025-08-29T15:51:51.899248",
     "status": "completed"
    },
    "tags": []
   },
   "source": [
    "# Train and Test split"
   ]
  },
  {
   "cell_type": "code",
   "execution_count": 14,
   "id": "fe6d2a5d",
   "metadata": {
    "execution": {
     "iopub.execute_input": "2025-08-29T15:51:51.923265Z",
     "iopub.status.busy": "2025-08-29T15:51:51.922894Z",
     "iopub.status.idle": "2025-08-29T15:51:51.943492Z",
     "shell.execute_reply": "2025-08-29T15:51:51.942372Z"
    },
    "papermill": {
     "duration": 0.031038,
     "end_time": "2025-08-29T15:51:51.945448",
     "exception": false,
     "start_time": "2025-08-29T15:51:51.914410",
     "status": "completed"
    },
    "tags": []
   },
   "outputs": [],
   "source": [
    "# splitting the train dataset to training and testing\n",
    "x = train.drop('Personality', axis = 1)\n",
    "y = train['Personality']\n",
    "\n",
    "x_train,x_test,y_train,y_test = train_test_split(\n",
    "    x,y,\n",
    "    test_size = 0.2,\n",
    "    stratify = y,\n",
    "    random_state = 30\n",
    ")"
   ]
  },
  {
   "cell_type": "markdown",
   "id": "98100d71",
   "metadata": {
    "papermill": {
     "duration": 0.007914,
     "end_time": "2025-08-29T15:51:51.960915",
     "exception": false,
     "start_time": "2025-08-29T15:51:51.953001",
     "status": "completed"
    },
    "tags": []
   },
   "source": [
    "# Model Training"
   ]
  },
  {
   "cell_type": "code",
   "execution_count": 15,
   "id": "5604b8cd",
   "metadata": {
    "execution": {
     "iopub.execute_input": "2025-08-29T15:51:51.977530Z",
     "iopub.status.busy": "2025-08-29T15:51:51.977079Z",
     "iopub.status.idle": "2025-08-29T15:51:56.124280Z",
     "shell.execute_reply": "2025-08-29T15:51:56.123130Z"
    },
    "papermill": {
     "duration": 4.157576,
     "end_time": "2025-08-29T15:51:56.126156",
     "exception": false,
     "start_time": "2025-08-29T15:51:51.968580",
     "status": "completed"
    },
    "tags": []
   },
   "outputs": [
    {
     "name": "stdout",
     "output_type": "stream",
     "text": [
      "Best hyperparameters found: {'C': 0.1}\n",
      "Best cross-validation accuracy: 0.968958950766152\n"
     ]
    }
   ],
   "source": [
    "\n",
    "from sklearn.model_selection import GridSearchCV\n",
    "\n",
    "\n",
    "# Define the model\n",
    "loc_reg = LogisticRegression(random_state=2, max_iter=1000)\n",
    "\n",
    "# Define the hyperparameter grid to search\n",
    "\n",
    "param_grid = {'C': [0.001, 0.01, 0.1, 1, 10, 100, 1000]}\n",
    "\n",
    "grid_search = GridSearchCV(estimator=loc_reg, param_grid=param_grid, cv=5, scoring='accuracy')\n",
    "\n",
    "# Perform the grid search on your training data\n",
    "\n",
    "grid_search.fit(x_train, y_train)\n",
    "\n",
    "# Get the best parameters and best score\n",
    "print(\"Best hyperparameters found:\", grid_search.best_params_)\n",
    "print(\"Best cross-validation accuracy:\", grid_search.best_score_)\n"
   ]
  },
  {
   "cell_type": "markdown",
   "id": "ab8597ca",
   "metadata": {
    "papermill": {
     "duration": 0.011876,
     "end_time": "2025-08-29T15:51:56.150974",
     "exception": false,
     "start_time": "2025-08-29T15:51:56.139098",
     "status": "completed"
    },
    "tags": []
   },
   "source": [
    "# Model Prediction"
   ]
  },
  {
   "cell_type": "code",
   "execution_count": 16,
   "id": "755bde3c",
   "metadata": {
    "execution": {
     "iopub.execute_input": "2025-08-29T15:51:56.177014Z",
     "iopub.status.busy": "2025-08-29T15:51:56.176667Z",
     "iopub.status.idle": "2025-08-29T15:51:56.189630Z",
     "shell.execute_reply": "2025-08-29T15:51:56.188796Z"
    },
    "papermill": {
     "duration": 0.029858,
     "end_time": "2025-08-29T15:51:56.193316",
     "exception": false,
     "start_time": "2025-08-29T15:51:56.163458",
     "status": "completed"
    },
    "tags": []
   },
   "outputs": [],
   "source": [
    "# Use the best model to make predictions on the test set\n",
    "best_model = grid_search.best_estimator_\n",
    "loc_reg_pred = best_model.predict(x_test)"
   ]
  },
  {
   "cell_type": "markdown",
   "id": "621c0b6e",
   "metadata": {
    "papermill": {
     "duration": 0.011472,
     "end_time": "2025-08-29T15:51:56.220881",
     "exception": false,
     "start_time": "2025-08-29T15:51:56.209409",
     "status": "completed"
    },
    "tags": []
   },
   "source": [
    "# Model Evaluation"
   ]
  },
  {
   "cell_type": "code",
   "execution_count": 17,
   "id": "149bc5be",
   "metadata": {
    "execution": {
     "iopub.execute_input": "2025-08-29T15:51:56.242603Z",
     "iopub.status.busy": "2025-08-29T15:51:56.242020Z",
     "iopub.status.idle": "2025-08-29T15:51:56.248556Z",
     "shell.execute_reply": "2025-08-29T15:51:56.247419Z"
    },
    "papermill": {
     "duration": 0.017097,
     "end_time": "2025-08-29T15:51:56.250342",
     "exception": false,
     "start_time": "2025-08-29T15:51:56.233245",
     "status": "completed"
    },
    "tags": []
   },
   "outputs": [
    {
     "name": "stdout",
     "output_type": "stream",
     "text": [
      "Final Logistic Regression Accuracy 0.968421052631579\n"
     ]
    }
   ],
   "source": [
    "# Evaluate the final model on the test data\n",
    "print(\"Final Logistic Regression Accuracy\", accuracy_score(y_test, loc_reg_pred))"
   ]
  }
 ],
 "metadata": {
  "kaggle": {
   "accelerator": "none",
   "dataSources": [
    {
     "databundleVersionId": 12738969,
     "sourceId": 91718,
     "sourceType": "competition"
    }
   ],
   "dockerImageVersionId": 31089,
   "isGpuEnabled": false,
   "isInternetEnabled": true,
   "language": "python",
   "sourceType": "notebook"
  },
  "kernelspec": {
   "display_name": "Python 3",
   "language": "python",
   "name": "python3"
  },
  "language_info": {
   "codemirror_mode": {
    "name": "ipython",
    "version": 3
   },
   "file_extension": ".py",
   "mimetype": "text/x-python",
   "name": "python",
   "nbconvert_exporter": "python",
   "pygments_lexer": "ipython3",
   "version": "3.11.13"
  },
  "papermill": {
   "default_parameters": {},
   "duration": 19.268705,
   "end_time": "2025-08-29T15:51:56.980159",
   "environment_variables": {},
   "exception": null,
   "input_path": "__notebook__.ipynb",
   "output_path": "__notebook__.ipynb",
   "parameters": {},
   "start_time": "2025-08-29T15:51:37.711454",
   "version": "2.6.0"
  }
 },
 "nbformat": 4,
 "nbformat_minor": 5
}
