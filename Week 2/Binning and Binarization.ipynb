{
 "cells": [
  {
   "cell_type": "markdown",
   "id": "e0a49493-0eda-416f-beb7-4c9130d946c9",
   "metadata": {},
   "source": [
    "# Binning (Discretization)"
   ]
  },
  {
   "cell_type": "markdown",
   "id": "b5c8dddf-d8c9-4e22-b72a-0fd63156cdc2",
   "metadata": {},
   "source": [
    "* Binning is the process of transforming continuous variables into discrete variables by creating a set of contigous intervals that span the range of the variable values.\n",
    "* It is also called as \"Discretization\". Also bin is an alterante name for Interval.\n",
    "\n",
    "There are three types of Binning Techniques : \n",
    "1. Supervised Binning - In this process binning uses target variable to make bins.\n",
    "    * Decision Tree Binning\n",
    "2. Unsupervised Binning - In this the process only focuses on the specific column or data.\n",
    "    * Uniform Binning or Equal Width Binning\n",
    "    * Quantile Binning or Equal Frequnecy Binning\n",
    "    * Kmeans Binning\n",
    "3. Custom Binning - We can create our binning techniques."
   ]
  },
  {
   "cell_type": "markdown",
   "id": "f46aa32e-e06a-434a-a047-ea2dba6207fa",
   "metadata": {},
   "source": [
    "**Note : *This notebook only focuses on popular binning techniques those are unsupervises techniques.***"
   ]
  },
  {
   "cell_type": "markdown",
   "id": "b136dc37-ff3e-4079-923a-78a34d7110be",
   "metadata": {},
   "source": [
    "## Loading  Dataset to implement"
   ]
  },
  {
   "cell_type": "code",
   "execution_count": 2,
   "id": "a82b2bf3-dd5e-421f-a8b7-2a746caf4625",
   "metadata": {},
   "outputs": [],
   "source": [
    "# Importing Librares\n",
    "import pandas as pd\n",
    "import matplotlib.pyplot as plt\n",
    "import seaborn as sns"
   ]
  },
  {
   "cell_type": "code",
   "execution_count": 3,
   "id": "193aa253-b9d2-41ed-9342-719082879aa9",
   "metadata": {},
   "outputs": [],
   "source": [
    "# Loading dataset\n",
    "df = pd.read_csv('student_exam_scores.csv')"
   ]
  },
  {
   "cell_type": "code",
   "execution_count": 4,
   "id": "91316947-af0a-4054-8855-468c7da958d8",
   "metadata": {},
   "outputs": [
    {
     "data": {
      "text/html": [
       "<div>\n",
       "<style scoped>\n",
       "    .dataframe tbody tr th:only-of-type {\n",
       "        vertical-align: middle;\n",
       "    }\n",
       "\n",
       "    .dataframe tbody tr th {\n",
       "        vertical-align: top;\n",
       "    }\n",
       "\n",
       "    .dataframe thead th {\n",
       "        text-align: right;\n",
       "    }\n",
       "</style>\n",
       "<table border=\"1\" class=\"dataframe\">\n",
       "  <thead>\n",
       "    <tr style=\"text-align: right;\">\n",
       "      <th></th>\n",
       "      <th>student_id</th>\n",
       "      <th>hours_studied</th>\n",
       "      <th>sleep_hours</th>\n",
       "      <th>attendance_percent</th>\n",
       "      <th>previous_scores</th>\n",
       "      <th>exam_score</th>\n",
       "    </tr>\n",
       "  </thead>\n",
       "  <tbody>\n",
       "    <tr>\n",
       "      <th>0</th>\n",
       "      <td>S001</td>\n",
       "      <td>8.0</td>\n",
       "      <td>8.8</td>\n",
       "      <td>72.1</td>\n",
       "      <td>45</td>\n",
       "      <td>30.2</td>\n",
       "    </tr>\n",
       "    <tr>\n",
       "      <th>1</th>\n",
       "      <td>S002</td>\n",
       "      <td>1.3</td>\n",
       "      <td>8.6</td>\n",
       "      <td>60.7</td>\n",
       "      <td>55</td>\n",
       "      <td>25.0</td>\n",
       "    </tr>\n",
       "    <tr>\n",
       "      <th>2</th>\n",
       "      <td>S003</td>\n",
       "      <td>4.0</td>\n",
       "      <td>8.2</td>\n",
       "      <td>73.7</td>\n",
       "      <td>86</td>\n",
       "      <td>35.8</td>\n",
       "    </tr>\n",
       "    <tr>\n",
       "      <th>3</th>\n",
       "      <td>S004</td>\n",
       "      <td>3.5</td>\n",
       "      <td>4.8</td>\n",
       "      <td>95.1</td>\n",
       "      <td>66</td>\n",
       "      <td>34.0</td>\n",
       "    </tr>\n",
       "    <tr>\n",
       "      <th>4</th>\n",
       "      <td>S005</td>\n",
       "      <td>9.1</td>\n",
       "      <td>6.4</td>\n",
       "      <td>89.8</td>\n",
       "      <td>71</td>\n",
       "      <td>40.3</td>\n",
       "    </tr>\n",
       "  </tbody>\n",
       "</table>\n",
       "</div>"
      ],
      "text/plain": [
       "  student_id  hours_studied  sleep_hours  attendance_percent  previous_scores  \\\n",
       "0       S001            8.0          8.8                72.1               45   \n",
       "1       S002            1.3          8.6                60.7               55   \n",
       "2       S003            4.0          8.2                73.7               86   \n",
       "3       S004            3.5          4.8                95.1               66   \n",
       "4       S005            9.1          6.4                89.8               71   \n",
       "\n",
       "   exam_score  \n",
       "0        30.2  \n",
       "1        25.0  \n",
       "2        35.8  \n",
       "3        34.0  \n",
       "4        40.3  "
      ]
     },
     "execution_count": 4,
     "metadata": {},
     "output_type": "execute_result"
    }
   ],
   "source": [
    "df.head()"
   ]
  },
  {
   "cell_type": "markdown",
   "id": "05d8bd91-9861-46c0-8507-f886885c386d",
   "metadata": {},
   "source": [
    "## 1. Uniform Binning or Equal width Binning"
   ]
  },
  {
   "cell_type": "markdown",
   "id": "2ef3bc08-1261-4181-8dab-eba2404c5948",
   "metadata": {},
   "source": [
    "* In this it divides the values into equal intervals or bins.\n",
    "* The number of data points in the every bin is not equal.\n",
    "* It stores the respected data points to the respected bin.\n",
    "* Example :\n",
    "\n",
    "        data = [1,10,20,41,32,45,72,100,23,45,62,78,11]\n",
    "        let bins = 10\n",
    "        formula :  length of each bin = (max - min)/number of bins\n",
    "| Bins | 1 - 10 | 11 - 20 | 21 - 30 | 31 - 40 | 41 - 50 | 51 - 60 | 61 - 70 | 71 - 80 | 81 - 90 | 91 - 100 |\n",
    "|------|--------|---------|---------|---------|---------|---------|---------|---------|---------|---------|\n",
    "| No.of values | 2 | 2 | 1 | 1 | 3 | 0 | 1 | 2 | 0 |  1 |\n",
    "   "
   ]
  },
  {
   "cell_type": "code",
   "execution_count": 5,
   "id": "1f70fad4-eb21-472a-9361-be20cd24a21c",
   "metadata": {},
   "outputs": [],
   "source": [
    "from sklearn.preprocessing import KBinsDiscretizer"
   ]
  },
  {
   "cell_type": "code",
   "execution_count": 6,
   "id": "7fb87ef5-a573-4be7-8a3a-d5c951cdece2",
   "metadata": {},
   "outputs": [],
   "source": [
    "uniformBinning = KBinsDiscretizer(n_bins = 10,encode = 'ordinal',strategy = 'uniform')"
   ]
  },
  {
   "cell_type": "code",
   "execution_count": 7,
   "id": "4724a911-3145-4789-9b82-d5fa4ace5748",
   "metadata": {},
   "outputs": [],
   "source": [
    "exam_score_uniform_binned = uniformBinning.fit_transform(df[['previous_scores']])"
   ]
  },
  {
   "cell_type": "code",
   "execution_count": 8,
   "id": "21da0f48-440a-443d-bd7c-ba09caef913a",
   "metadata": {},
   "outputs": [
    {
     "data": {
      "text/plain": [
       "array([40. , 45.5, 51. , 56.5, 62. , 67.5, 73. , 78.5, 84. , 89.5, 95. ])"
      ]
     },
     "execution_count": 8,
     "metadata": {},
     "output_type": "execute_result"
    }
   ],
   "source": [
    "uniformBinning.bin_edges_[0]"
   ]
  },
  {
   "cell_type": "code",
   "execution_count": 9,
   "id": "921bfb3f-8c1a-4732-9a2f-abf4c29ef48c",
   "metadata": {},
   "outputs": [
    {
     "data": {
      "text/plain": [
       "<Axes: xlabel='previous_scores', ylabel='Count'>"
      ]
     },
     "execution_count": 9,
     "metadata": {},
     "output_type": "execute_result"
    },
    {
     "data": {
      "image/png": "[encoded data removed]",
      "text/plain": [
       "<Figure size 640x480 with 1 Axes>"
      ]
     },
     "metadata": {},
     "output_type": "display_data"
    }
   ],
   "source": [
    "df[\"uniform_bin\"] = exam_score_uniform_binned.astype(int)\n",
    "\n",
    "sns.histplot(data=df, x=\"previous_scores\", hue=\"uniform_bin\", bins=10, palette=\"viridis\", multiple=\"stack\")\n"
   ]
  },
  {
   "cell_type": "markdown",
   "id": "4408ad8f-5a6b-4ee8-a3ac-a487d4323a09",
   "metadata": {},
   "source": [
    "## 2. Quantile Binning or Frequency Binning"
   ]
  },
  {
   "cell_type": "markdown",
   "id": "986b4c75-1ee0-4d89-bd21-5adbaed86826",
   "metadata": {},
   "source": [
    "* Quantile Binning ensures that every bin has roughly equal number of values.\n",
    "* Here, bins or interval ranges are not equal.\n",
    "* If 10 ages and 4 bins -> every bin contains roughly 3 to 2 values."
   ]
  },
  {
   "cell_type": "code",
   "execution_count": 10,
   "id": "3bb3fdd8-816f-4312-b547-141d55c39ef3",
   "metadata": {},
   "outputs": [],
   "source": [
    "from sklearn.preprocessing import KBinsDiscretizer"
   ]
  },
  {
   "cell_type": "code",
   "execution_count": 11,
   "id": "edab3e20-2970-4947-a687-070048cfe3a9",
   "metadata": {},
   "outputs": [],
   "source": [
    "quantileBinning = KBinsDiscretizer(n_bins = 10,encode = 'ordinal',strategy = 'quantile')"
   ]
  },
  {
   "cell_type": "code",
   "execution_count": 12,
   "id": "9026eab8-e7cb-48e9-970e-95a94ab8221b",
   "metadata": {},
   "outputs": [],
   "source": [
    "exam_score_quantile_binned = quantileBinning.fit_transform(df[['previous_scores']])"
   ]
  },
  {
   "cell_type": "code",
   "execution_count": 13,
   "id": "73fee882-6b26-4ddc-8874-dc2fe97cdb63",
   "metadata": {},
   "outputs": [
    {
     "data": {
      "text/plain": [
       "array([40. , 45.9, 51. , 55.7, 59. , 67.5, 73. , 77.3, 84. , 88. , 95. ])"
      ]
     },
     "execution_count": 13,
     "metadata": {},
     "output_type": "execute_result"
    }
   ],
   "source": [
    "quantileBinning.bin_edges_[0]"
   ]
  },
  {
   "cell_type": "code",
   "execution_count": 14,
   "id": "ed175d54-a4f2-4527-80d0-ad11f0f2619f",
   "metadata": {},
   "outputs": [
    {
     "data": {
      "text/plain": [
       "<Axes: xlabel='previous_scores', ylabel='Count'>"
      ]
     },
     "execution_count": 14,
     "metadata": {},
     "output_type": "execute_result"
    },
    {
     "data": {
      "image/png": "[encoded data removed]",
      "text/plain": [
       "<Figure size 640x480 with 1 Axes>"
      ]
     },
     "metadata": {},
     "output_type": "display_data"
    }
   ],
   "source": [
    "df[\"quantile_bin\"] = exam_score_quantile_binned.astype(int)\n",
    "\n",
    "sns.histplot(data=df, x=\"previous_scores\", hue=\"quantile_bin\", palette=\"viridis\", multiple=\"stack\")\n"
   ]
  },
  {
   "cell_type": "markdown",
   "id": "da36109b-c09f-4ea6-b170-3a138ccb737d",
   "metadata": {},
   "source": [
    "## 3. k-means Binning"
   ]
  },
  {
   "cell_type": "markdown",
   "id": "07c41a3f-cf51-4045-917b-9c1e09498e74",
   "metadata": {},
   "source": [
    "* uses Clustering to make bins.\n",
    "* Groups similar values together."
   ]
  },
  {
   "cell_type": "code",
   "execution_count": 15,
   "id": "0d46612c-e8b3-4488-86f7-3b1d0b14c633",
   "metadata": {},
   "outputs": [],
   "source": [
    "from sklearn.preprocessing import KBinsDiscretizer"
   ]
  },
  {
   "cell_type": "code",
   "execution_count": 16,
   "id": "cec5a1a0-a345-4409-8a07-4567f864ccae",
   "metadata": {},
   "outputs": [],
   "source": [
    "kmeansBinning = KBinsDiscretizer(n_bins = 3,encode = 'ordinal',strategy = 'kmeans')"
   ]
  },
  {
   "cell_type": "code",
   "execution_count": 17,
   "id": "2aadb206-e99e-4331-a12f-1794542e84df",
   "metadata": {},
   "outputs": [
    {
     "name": "stderr",
     "output_type": "stream",
     "text": [
      "C:\\Users\\NARESH\\anaconda3\\Lib\\site-packages\\sklearn\\cluster\\_kmeans.py:1419: UserWarning: KMeans is known to have a memory leak on Windows with MKL, when there are less chunks than available threads. You can avoid it by setting the environment variable OMP_NUM_THREADS=1.\n",
      "  warnings.warn(\n"
     ]
    }
   ],
   "source": [
    "exam_score_kmeans_binned = kmeansBinning.fit_transform(df[['previous_scores']])"
   ]
  },
  {
   "cell_type": "code",
   "execution_count": 18,
   "id": "ea0da521-2826-43b0-bd84-598f173824aa",
   "metadata": {},
   "outputs": [
    {
     "data": {
      "text/plain": [
       "array([40.        , 61.29885057, 78.89341693, 95.        ])"
      ]
     },
     "execution_count": 18,
     "metadata": {},
     "output_type": "execute_result"
    }
   ],
   "source": [
    "kmeansBinning.bin_edges_[0]"
   ]
  },
  {
   "cell_type": "code",
   "execution_count": 19,
   "id": "c3f9a3b4-3262-4985-b571-64297cf07737",
   "metadata": {},
   "outputs": [
    {
     "data": {
      "text/plain": [
       "<Axes: xlabel='previous_scores', ylabel='Count'>"
      ]
     },
     "execution_count": 19,
     "metadata": {},
     "output_type": "execute_result"
    },
    {
     "data": {
      "image/png": "[encoded data removed]",
      "text/plain": [
       "<Figure size 640x480 with 1 Axes>"
      ]
     },
     "metadata": {},
     "output_type": "display_data"
    }
   ],
   "source": [
    "df[\"kmeans_bin\"] = exam_score_kmeans_binned.astype(int)\n",
    "\n",
    "sns.histplot(data=df, x=\"previous_scores\", hue=\"kmeans_bin\", bins=10, palette=\"viridis\", multiple=\"stack\")\n"
   ]
  },
  {
   "cell_type": "markdown",
   "id": "a22d822e-9b93-4599-8a05-4c8b7bdf2a75",
   "metadata": {},
   "source": [
    "# Binarization"
   ]
  },
  {
   "cell_type": "markdown",
   "id": "3cd11336-a8f2-4c76-a078-58d2cd5fc4f1",
   "metadata": {},
   "source": [
    "* Binarization is the process of converting continous values into binary values [0,1].\n",
    "* Here \"threshold\" plays a vital role.\n",
    "* Example :  data = [1,10,20,35,40]\n",
    "\n",
    "            let,threshold = 30\n",
    "            if threshold<30 --> 0 and if threshold>=30 --> 1\n",
    "            data_binarized= [0,0,0,1,1]"
   ]
  },
  {
   "cell_type": "code",
   "execution_count": 22,
   "id": "db5e5ef5-1692-4e60-ad7c-c69600337fdb",
   "metadata": {},
   "outputs": [],
   "source": [
    "df_new = pd.DataFrame(df['exam_score'], columns = ['exam_score'])"
   ]
  },
  {
   "cell_type": "code",
   "execution_count": 23,
   "id": "a6c5914f-fc74-4ea4-9dd5-e64984bb4bd2",
   "metadata": {},
   "outputs": [
    {
     "data": {
      "text/html": [
       "<div>\n",
       "<style scoped>\n",
       "    .dataframe tbody tr th:only-of-type {\n",
       "        vertical-align: middle;\n",
       "    }\n",
       "\n",
       "    .dataframe tbody tr th {\n",
       "        vertical-align: top;\n",
       "    }\n",
       "\n",
       "    .dataframe thead th {\n",
       "        text-align: right;\n",
       "    }\n",
       "</style>\n",
       "<table border=\"1\" class=\"dataframe\">\n",
       "  <thead>\n",
       "    <tr style=\"text-align: right;\">\n",
       "      <th></th>\n",
       "      <th>exam_score</th>\n",
       "    </tr>\n",
       "  </thead>\n",
       "  <tbody>\n",
       "    <tr>\n",
       "      <th>0</th>\n",
       "      <td>30.2</td>\n",
       "    </tr>\n",
       "    <tr>\n",
       "      <th>1</th>\n",
       "      <td>25.0</td>\n",
       "    </tr>\n",
       "    <tr>\n",
       "      <th>2</th>\n",
       "      <td>35.8</td>\n",
       "    </tr>\n",
       "    <tr>\n",
       "      <th>3</th>\n",
       "      <td>34.0</td>\n",
       "    </tr>\n",
       "    <tr>\n",
       "      <th>4</th>\n",
       "      <td>40.3</td>\n",
       "    </tr>\n",
       "  </tbody>\n",
       "</table>\n",
       "</div>"
      ],
      "text/plain": [
       "   exam_score\n",
       "0        30.2\n",
       "1        25.0\n",
       "2        35.8\n",
       "3        34.0\n",
       "4        40.3"
      ]
     },
     "execution_count": 23,
     "metadata": {},
     "output_type": "execute_result"
    }
   ],
   "source": [
    "df_new.head()"
   ]
  },
  {
   "cell_type": "code",
   "execution_count": 27,
   "id": "7af3c9f1-cd17-45aa-bdc5-fc738514a6ba",
   "metadata": {},
   "outputs": [],
   "source": [
    "from sklearn.preprocessing import Binarizer"
   ]
  },
  {
   "cell_type": "code",
   "execution_count": 43,
   "id": "272232ff-b504-4fd8-b5d6-3be81cacba43",
   "metadata": {},
   "outputs": [],
   "source": [
    "binarizer = Binarizer(threshold = 25)"
   ]
  },
  {
   "cell_type": "code",
   "execution_count": 44,
   "id": "87fbfaba-9009-42eb-8596-f6327da25695",
   "metadata": {},
   "outputs": [],
   "source": [
    "df_new['exam_score_discretized'] = binarizer.fit_transform(df_new[['exam_score']])"
   ]
  },
  {
   "cell_type": "code",
   "execution_count": 48,
   "id": "341b7adb-de8d-4818-834c-3d18313dc7f2",
   "metadata": {},
   "outputs": [
    {
     "data": {
      "text/html": [
       "<div>\n",
       "<style scoped>\n",
       "    .dataframe tbody tr th:only-of-type {\n",
       "        vertical-align: middle;\n",
       "    }\n",
       "\n",
       "    .dataframe tbody tr th {\n",
       "        vertical-align: top;\n",
       "    }\n",
       "\n",
       "    .dataframe thead th {\n",
       "        text-align: right;\n",
       "    }\n",
       "</style>\n",
       "<table border=\"1\" class=\"dataframe\">\n",
       "  <thead>\n",
       "    <tr style=\"text-align: right;\">\n",
       "      <th></th>\n",
       "      <th>exam_score</th>\n",
       "      <th>exam_score_discretized</th>\n",
       "    </tr>\n",
       "  </thead>\n",
       "  <tbody>\n",
       "    <tr>\n",
       "      <th>168</th>\n",
       "      <td>32.1</td>\n",
       "      <td>1.0</td>\n",
       "    </tr>\n",
       "    <tr>\n",
       "      <th>51</th>\n",
       "      <td>30.7</td>\n",
       "      <td>1.0</td>\n",
       "    </tr>\n",
       "    <tr>\n",
       "      <th>143</th>\n",
       "      <td>35.1</td>\n",
       "      <td>1.0</td>\n",
       "    </tr>\n",
       "    <tr>\n",
       "      <th>7</th>\n",
       "      <td>18.3</td>\n",
       "      <td>0.0</td>\n",
       "    </tr>\n",
       "    <tr>\n",
       "      <th>151</th>\n",
       "      <td>42.3</td>\n",
       "      <td>1.0</td>\n",
       "    </tr>\n",
       "    <tr>\n",
       "      <th>165</th>\n",
       "      <td>30.1</td>\n",
       "      <td>1.0</td>\n",
       "    </tr>\n",
       "    <tr>\n",
       "      <th>28</th>\n",
       "      <td>37.2</td>\n",
       "      <td>1.0</td>\n",
       "    </tr>\n",
       "    <tr>\n",
       "      <th>69</th>\n",
       "      <td>23.9</td>\n",
       "      <td>0.0</td>\n",
       "    </tr>\n",
       "    <tr>\n",
       "      <th>172</th>\n",
       "      <td>31.0</td>\n",
       "      <td>1.0</td>\n",
       "    </tr>\n",
       "    <tr>\n",
       "      <th>38</th>\n",
       "      <td>39.8</td>\n",
       "      <td>1.0</td>\n",
       "    </tr>\n",
       "  </tbody>\n",
       "</table>\n",
       "</div>"
      ],
      "text/plain": [
       "     exam_score  exam_score_discretized\n",
       "168        32.1                     1.0\n",
       "51         30.7                     1.0\n",
       "143        35.1                     1.0\n",
       "7          18.3                     0.0\n",
       "151        42.3                     1.0\n",
       "165        30.1                     1.0\n",
       "28         37.2                     1.0\n",
       "69         23.9                     0.0\n",
       "172        31.0                     1.0\n",
       "38         39.8                     1.0"
      ]
     },
     "execution_count": 48,
     "metadata": {},
     "output_type": "execute_result"
    }
   ],
   "source": [
    "df_new.sample(10)"
   ]
  }
 ],
 "metadata": {
  "kernelspec": {
   "display_name": "Python 3 (ipykernel)",
   "language": "python",
   "name": "python3"
  },
  "language_info": {
   "codemirror_mode": {
    "name": "ipython",
    "version": 3
   },
   "file_extension": ".py",
   "mimetype": "text/x-python",
   "name": "python",
   "nbconvert_exporter": "python",
   "pygments_lexer": "ipython3",
   "version": "3.13.5"
  }
 },
 "nbformat": 4,
 "nbformat_minor": 5
}
