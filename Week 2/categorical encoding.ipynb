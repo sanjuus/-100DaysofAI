{
 "cells": [
  {
   "cell_type": "markdown",
   "id": "e0b53da1-4445-4bc6-b880-beb1a8170ea2",
   "metadata": {},
   "source": [
    "# Categorical Encoding\n",
    "\n",
    "**Categroical Encoding is used to convert the categorical features to numeric features so that algorithms can understand.**\n",
    "\n",
    "There are three types of categorical encodig techniques. They are : \n",
    "1. Ordinal Encoding\n",
    "2. OneHot Encoding\n",
    "3. Label Encoding"
   ]
  },
  {
   "cell_type": "code",
   "execution_count": 89,
   "id": "9bd14bb6-d6fa-40f6-baa9-adb94525139f",
   "metadata": {},
   "outputs": [],
   "source": [
    "# Importing libaries\n",
    "import pandas as pd"
   ]
  },
  {
   "cell_type": "code",
   "execution_count": 90,
   "id": "3401b00f-195e-4560-a4e4-6ca5d577d62d",
   "metadata": {},
   "outputs": [],
   "source": [
    "import pandas as pd\n",
    "\n",
    "data = {\n",
    "    \"Color\": [\"Red\", \"Blue\", \"Green\", \"Blue\", \"Red\"],\n",
    "    \"Size\": [\"Small\", \"Medium\", \"Large\", \"Medium\", \"Small\"],\n",
    "    \"Brand\": [\"Nike\", \"Adidas\", \"Puma\", \"Nike\", \"Puma\"]\n",
    "}\n",
    "\n",
    "df = pd.DataFrame(data)\n"
   ]
  },
  {
   "cell_type": "code",
   "execution_count": 91,
   "id": "939ade71-c5a0-42dd-8209-6bec6110b651",
   "metadata": {},
   "outputs": [
    {
     "data": {
      "text/html": [
       "<div>\n",
       "<style scoped>\n",
       "    .dataframe tbody tr th:only-of-type {\n",
       "        vertical-align: middle;\n",
       "    }\n",
       "\n",
       "    .dataframe tbody tr th {\n",
       "        vertical-align: top;\n",
       "    }\n",
       "\n",
       "    .dataframe thead th {\n",
       "        text-align: right;\n",
       "    }\n",
       "</style>\n",
       "<table border=\"1\" class=\"dataframe\">\n",
       "  <thead>\n",
       "    <tr style=\"text-align: right;\">\n",
       "      <th></th>\n",
       "      <th>Color</th>\n",
       "      <th>Size</th>\n",
       "      <th>Brand</th>\n",
       "    </tr>\n",
       "  </thead>\n",
       "  <tbody>\n",
       "    <tr>\n",
       "      <th>0</th>\n",
       "      <td>Red</td>\n",
       "      <td>Small</td>\n",
       "      <td>Nike</td>\n",
       "    </tr>\n",
       "    <tr>\n",
       "      <th>1</th>\n",
       "      <td>Blue</td>\n",
       "      <td>Medium</td>\n",
       "      <td>Adidas</td>\n",
       "    </tr>\n",
       "    <tr>\n",
       "      <th>2</th>\n",
       "      <td>Green</td>\n",
       "      <td>Large</td>\n",
       "      <td>Puma</td>\n",
       "    </tr>\n",
       "    <tr>\n",
       "      <th>3</th>\n",
       "      <td>Blue</td>\n",
       "      <td>Medium</td>\n",
       "      <td>Nike</td>\n",
       "    </tr>\n",
       "    <tr>\n",
       "      <th>4</th>\n",
       "      <td>Red</td>\n",
       "      <td>Small</td>\n",
       "      <td>Puma</td>\n",
       "    </tr>\n",
       "  </tbody>\n",
       "</table>\n",
       "</div>"
      ],
      "text/plain": [
       "   Color    Size   Brand\n",
       "0    Red   Small    Nike\n",
       "1   Blue  Medium  Adidas\n",
       "2  Green   Large    Puma\n",
       "3   Blue  Medium    Nike\n",
       "4    Red   Small    Puma"
      ]
     },
     "execution_count": 91,
     "metadata": {},
     "output_type": "execute_result"
    }
   ],
   "source": [
    "df    # taking this dataframe to demonstrate categorical encoding"
   ]
  },
  {
   "cell_type": "markdown",
   "id": "fc4c5cf2-4223-41f5-92b3-1a684525e99c",
   "metadata": {},
   "source": [
    "## 1. Ordinal Encoding\n",
    "\n",
    "* Ordinal Encoding is a technique used to convert the **Ordianl Categorical Data** features to numeric features.\n",
    "  \n",
    "* Ordinal data is a type of data which has natural order or priority. (ex :- sizes of shirts[L>M>S], Eduaction[PG>UG>12>10])\n",
    "\n",
    "  \n",
    "* According to the priority it assigns values from 0 to required.\n",
    "\n",
    "  \n",
    "* We use **from sklearn.preprocessing import OrdinalEncoder** to implement ordinal encoding."
   ]
  },
  {
   "cell_type": "code",
   "execution_count": 92,
   "id": "fbf17872-2731-4e22-82d8-68e2e00036af",
   "metadata": {},
   "outputs": [],
   "source": [
    "from sklearn.preprocessing import OrdinalEncoder"
   ]
  },
  {
   "cell_type": "code",
   "execution_count": 93,
   "id": "fd432985-da67-4958-9404-5537883d71d8",
   "metadata": {},
   "outputs": [],
   "source": [
    "sizes = ['Small','Medium','Large']\n",
    "df_ordinal_encoded = OrdinalEncoder(categories = [sizes])"
   ]
  },
  {
   "cell_type": "code",
   "execution_count": 94,
   "id": "36dca55e-30c2-4629-932e-3e38f830d63a",
   "metadata": {},
   "outputs": [],
   "source": [
    "#df_ordinal = pd.concat([df['Color'],df_ordinal_encoded])\n",
    "df['SizeOrdinal'] = df_ordinal_encoded.fit_transform(df[['Size']])"
   ]
  },
  {
   "cell_type": "code",
   "execution_count": 95,
   "id": "505df441-fcff-4222-8ab3-a38e4d901eb4",
   "metadata": {},
   "outputs": [],
   "source": [
    "df_ordinal = df.loc[:,['Size','SizeOrdinal']]"
   ]
  },
  {
   "cell_type": "code",
   "execution_count": 96,
   "id": "a19a9ed3-9bcf-4dc4-ac6c-c4677edf07ca",
   "metadata": {},
   "outputs": [
    {
     "data": {
      "text/html": [
       "<div>\n",
       "<style scoped>\n",
       "    .dataframe tbody tr th:only-of-type {\n",
       "        vertical-align: middle;\n",
       "    }\n",
       "\n",
       "    .dataframe tbody tr th {\n",
       "        vertical-align: top;\n",
       "    }\n",
       "\n",
       "    .dataframe thead th {\n",
       "        text-align: right;\n",
       "    }\n",
       "</style>\n",
       "<table border=\"1\" class=\"dataframe\">\n",
       "  <thead>\n",
       "    <tr style=\"text-align: right;\">\n",
       "      <th></th>\n",
       "      <th>Size</th>\n",
       "      <th>SizeOrdinal</th>\n",
       "    </tr>\n",
       "  </thead>\n",
       "  <tbody>\n",
       "    <tr>\n",
       "      <th>0</th>\n",
       "      <td>Small</td>\n",
       "      <td>0.0</td>\n",
       "    </tr>\n",
       "    <tr>\n",
       "      <th>1</th>\n",
       "      <td>Medium</td>\n",
       "      <td>1.0</td>\n",
       "    </tr>\n",
       "    <tr>\n",
       "      <th>2</th>\n",
       "      <td>Large</td>\n",
       "      <td>2.0</td>\n",
       "    </tr>\n",
       "    <tr>\n",
       "      <th>3</th>\n",
       "      <td>Medium</td>\n",
       "      <td>1.0</td>\n",
       "    </tr>\n",
       "    <tr>\n",
       "      <th>4</th>\n",
       "      <td>Small</td>\n",
       "      <td>0.0</td>\n",
       "    </tr>\n",
       "  </tbody>\n",
       "</table>\n",
       "</div>"
      ],
      "text/plain": [
       "     Size  SizeOrdinal\n",
       "0   Small          0.0\n",
       "1  Medium          1.0\n",
       "2   Large          2.0\n",
       "3  Medium          1.0\n",
       "4   Small          0.0"
      ]
     },
     "execution_count": 96,
     "metadata": {},
     "output_type": "execute_result"
    }
   ],
   "source": [
    "df_ordinal"
   ]
  },
  {
   "cell_type": "markdown",
   "id": "cd594146-0355-4751-b8d2-a9ed0330cf5b",
   "metadata": {},
   "source": [
    "## 2. OneHot Encoding\n",
    "\n",
    "* OneHot encoding is a technique to used to convert **Nominal categorical Data** features to numeric data.\n",
    "* Nominal data is a type of categorical data which doesn't have any order and every single data is equally important (Ex:- Gender [Male,Female,Others])\n",
    "* It gives different number of columns for the different value in the data by replacing '0' in False block and '1' in true blocks.\n",
    "* Example:\n",
    "  | Gender | Gender_Male | Gender_Female | Gender_Others|\n",
    "  |--------|-------------|---------------|--------------|\n",
    "  | Male  | 1 | 0 | 0 |\n",
    "  | Female | 0 | 1 | 0 |\n",
    "  | Others | 0 | 0 | 1 | \n",
    "\n",
    "* We use **from sklearn.preprocessing import OneHotEncoder** to implement onehot encoding.\n",
    "* It has two parameters:\n",
    "    * *drop* - used to drop one column to avoid **\"multicollinearity\"**. we can use 'drop = first or last' to represnt last or first column to remove.\n",
    "    * *sparse_output* - if \"True\" it returns scipy sparse matrix(Memory efficient, fast for huge data) and \"False\" returns NumPy array(Easy to use in pandas/ML pipelines)"
   ]
  },
  {
   "cell_type": "code",
   "execution_count": 75,
   "id": "7fb42f7c-2dcf-4689-99cb-2338b579acbd",
   "metadata": {},
   "outputs": [],
   "source": [
    "from sklearn.preprocessing import OneHotEncoder"
   ]
  },
  {
   "cell_type": "code",
   "execution_count": 76,
   "id": "0b2c4fc1-9028-4108-994b-d9b3c28dea48",
   "metadata": {},
   "outputs": [],
   "source": [
    "one_hot_encoder = OneHotEncoder(sparse_output = False, drop = 'first')"
   ]
  },
  {
   "cell_type": "code",
   "execution_count": 77,
   "id": "6fda0ac2-f681-4b7b-b8ef-0776fe336f31",
   "metadata": {},
   "outputs": [],
   "source": [
    "encoded = one_hot_encoder.fit_transform(df[['Color']])"
   ]
  },
  {
   "cell_type": "code",
   "execution_count": 78,
   "id": "bafb0d00-9054-4732-95f1-32740eaa280b",
   "metadata": {},
   "outputs": [],
   "source": [
    "df_encoded = pd.DataFrame(encoded,\n",
    "                          columns = one_hot_encoder.get_feature_names_out(['Color']),\n",
    "                         )"
   ]
  },
  {
   "cell_type": "code",
   "execution_count": 79,
   "id": "c7acaf3c-ec2b-4b38-b2a3-78893aedb801",
   "metadata": {},
   "outputs": [],
   "source": [
    "df_onehot = pd.concat([df['Color'],df_encoded],axis=1)"
   ]
  },
  {
   "cell_type": "code",
   "execution_count": 80,
   "id": "20567156-7af7-46c9-bf21-0276eff0cc4e",
   "metadata": {},
   "outputs": [
    {
     "data": {
      "text/html": [
       "<div>\n",
       "<style scoped>\n",
       "    .dataframe tbody tr th:only-of-type {\n",
       "        vertical-align: middle;\n",
       "    }\n",
       "\n",
       "    .dataframe tbody tr th {\n",
       "        vertical-align: top;\n",
       "    }\n",
       "\n",
       "    .dataframe thead th {\n",
       "        text-align: right;\n",
       "    }\n",
       "</style>\n",
       "<table border=\"1\" class=\"dataframe\">\n",
       "  <thead>\n",
       "    <tr style=\"text-align: right;\">\n",
       "      <th></th>\n",
       "      <th>Color</th>\n",
       "      <th>Color_Green</th>\n",
       "      <th>Color_Red</th>\n",
       "    </tr>\n",
       "  </thead>\n",
       "  <tbody>\n",
       "    <tr>\n",
       "      <th>0</th>\n",
       "      <td>Red</td>\n",
       "      <td>0.0</td>\n",
       "      <td>1.0</td>\n",
       "    </tr>\n",
       "    <tr>\n",
       "      <th>1</th>\n",
       "      <td>Blue</td>\n",
       "      <td>0.0</td>\n",
       "      <td>0.0</td>\n",
       "    </tr>\n",
       "    <tr>\n",
       "      <th>2</th>\n",
       "      <td>Green</td>\n",
       "      <td>1.0</td>\n",
       "      <td>0.0</td>\n",
       "    </tr>\n",
       "    <tr>\n",
       "      <th>3</th>\n",
       "      <td>Blue</td>\n",
       "      <td>0.0</td>\n",
       "      <td>0.0</td>\n",
       "    </tr>\n",
       "    <tr>\n",
       "      <th>4</th>\n",
       "      <td>Red</td>\n",
       "      <td>0.0</td>\n",
       "      <td>1.0</td>\n",
       "    </tr>\n",
       "  </tbody>\n",
       "</table>\n",
       "</div>"
      ],
      "text/plain": [
       "   Color  Color_Green  Color_Red\n",
       "0    Red          0.0        1.0\n",
       "1   Blue          0.0        0.0\n",
       "2  Green          1.0        0.0\n",
       "3   Blue          0.0        0.0\n",
       "4    Red          0.0        1.0"
      ]
     },
     "execution_count": 80,
     "metadata": {},
     "output_type": "execute_result"
    }
   ],
   "source": [
    "df_onehot"
   ]
  },
  {
   "cell_type": "markdown",
   "id": "d39ed29c-a8e0-4369-86f1-ad198634578e",
   "metadata": {},
   "source": [
    "## Label Encoder\n",
    "\n",
    "* Label Encoding is technique by which we can encode Targets or labels to numeric values.\n",
    "  \n",
    "* for example yes - 1 and No - 0 also, if labels are weather sunny - 0, rainy - 1, cloudy - 2, windy - 3.\n",
    "\n",
    "* We use **from sklearn.preprocessing import LabelEncoder** to implement lable "
   ]
  },
  {
   "cell_type": "code",
   "execution_count": 81,
   "id": "fbae3631-b7f1-4941-9d7f-669dd3f6a920",
   "metadata": {},
   "outputs": [],
   "source": [
    "from sklearn.preprocessing import LabelEncoder"
   ]
  },
  {
   "cell_type": "code",
   "execution_count": 82,
   "id": "e43c425d-9f62-470a-8416-79e3944ecf03",
   "metadata": {},
   "outputs": [],
   "source": [
    "label_encoder = LabelEncoder()"
   ]
  },
  {
   "cell_type": "code",
   "execution_count": 83,
   "id": "889ab9bf-6392-426f-9cf3-5e825b425c6c",
   "metadata": {},
   "outputs": [],
   "source": [
    "label_encoded = label_encoder.fit_transform(df['Brand'])"
   ]
  },
  {
   "cell_type": "code",
   "execution_count": 84,
   "id": "6f8f7ec9-12d3-4217-a08b-661c04afc4f8",
   "metadata": {},
   "outputs": [],
   "source": [
    "df['BrandLabeled'] = label_encoded"
   ]
  },
  {
   "cell_type": "code",
   "execution_count": 86,
   "id": "f8c01f71-3ccc-4e46-814b-1040ae0e5d0d",
   "metadata": {},
   "outputs": [],
   "source": [
    "df_label = df.loc[:,['Brand','BrandLabeled']]"
   ]
  },
  {
   "cell_type": "code",
   "execution_count": 87,
   "id": "ead3536f-3c4e-427b-8cdd-d6149bad4b67",
   "metadata": {},
   "outputs": [
    {
     "data": {
      "text/html": [
       "<div>\n",
       "<style scoped>\n",
       "    .dataframe tbody tr th:only-of-type {\n",
       "        vertical-align: middle;\n",
       "    }\n",
       "\n",
       "    .dataframe tbody tr th {\n",
       "        vertical-align: top;\n",
       "    }\n",
       "\n",
       "    .dataframe thead th {\n",
       "        text-align: right;\n",
       "    }\n",
       "</style>\n",
       "<table border=\"1\" class=\"dataframe\">\n",
       "  <thead>\n",
       "    <tr style=\"text-align: right;\">\n",
       "      <th></th>\n",
       "      <th>Brand</th>\n",
       "      <th>BrandLabeled</th>\n",
       "    </tr>\n",
       "  </thead>\n",
       "  <tbody>\n",
       "    <tr>\n",
       "      <th>0</th>\n",
       "      <td>Nike</td>\n",
       "      <td>1</td>\n",
       "    </tr>\n",
       "    <tr>\n",
       "      <th>1</th>\n",
       "      <td>Adidas</td>\n",
       "      <td>0</td>\n",
       "    </tr>\n",
       "    <tr>\n",
       "      <th>2</th>\n",
       "      <td>Puma</td>\n",
       "      <td>2</td>\n",
       "    </tr>\n",
       "    <tr>\n",
       "      <th>3</th>\n",
       "      <td>Nike</td>\n",
       "      <td>1</td>\n",
       "    </tr>\n",
       "    <tr>\n",
       "      <th>4</th>\n",
       "      <td>Puma</td>\n",
       "      <td>2</td>\n",
       "    </tr>\n",
       "  </tbody>\n",
       "</table>\n",
       "</div>"
      ],
      "text/plain": [
       "    Brand  BrandLabeled\n",
       "0    Nike             1\n",
       "1  Adidas             0\n",
       "2    Puma             2\n",
       "3    Nike             1\n",
       "4    Puma             2"
      ]
     },
     "execution_count": 87,
     "metadata": {},
     "output_type": "execute_result"
    }
   ],
   "source": [
    "df_label"
   ]
  }
 ],
 "metadata": {
  "kernelspec": {
   "display_name": "Python 3 (ipykernel)",
   "language": "python",
   "name": "python3"
  },
  "language_info": {
   "codemirror_mode": {
    "name": "ipython",
    "version": 3
   },
   "file_extension": ".py",
   "mimetype": "text/x-python",
   "name": "python",
   "nbconvert_exporter": "python",
   "pygments_lexer": "ipython3",
   "version": "3.13.5"
  }
 },
 "nbformat": 4,
 "nbformat_minor": 5
}
