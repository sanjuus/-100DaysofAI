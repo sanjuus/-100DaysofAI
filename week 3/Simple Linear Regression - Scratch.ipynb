{
 "cells": [
  {
   "cell_type": "markdown",
   "id": "6b2be473-7294-4c8d-bbbd-c8b148cd8111",
   "metadata": {},
   "source": [
    "# Simple Linear Regression - Scratch"
   ]
  },
  {
   "cell_type": "code",
   "execution_count": 4,
   "id": "942389ac-87fc-450d-bc75-6c6bd1aac057",
   "metadata": {},
   "outputs": [],
   "source": [
    "# mporting Libraries\n",
    "import numpy as np\n",
    "import pandas as pd\n",
    "import matplotlib.pyplot as plt"
   ]
  },
  {
   "cell_type": "code",
   "execution_count": 5,
   "id": "be969f6c-da6b-45e0-9f25-e6fe6d9c496f",
   "metadata": {},
   "outputs": [
    {
     "data": {
      "text/html": [
       "<div>\n",
       "<style scoped>\n",
       "    .dataframe tbody tr th:only-of-type {\n",
       "        vertical-align: middle;\n",
       "    }\n",
       "\n",
       "    .dataframe tbody tr th {\n",
       "        vertical-align: top;\n",
       "    }\n",
       "\n",
       "    .dataframe thead th {\n",
       "        text-align: right;\n",
       "    }\n",
       "</style>\n",
       "<table border=\"1\" class=\"dataframe\">\n",
       "  <thead>\n",
       "    <tr style=\"text-align: right;\">\n",
       "      <th></th>\n",
       "      <th>cgpa</th>\n",
       "      <th>package</th>\n",
       "    </tr>\n",
       "  </thead>\n",
       "  <tbody>\n",
       "    <tr>\n",
       "      <th>0</th>\n",
       "      <td>6.89</td>\n",
       "      <td>3.26</td>\n",
       "    </tr>\n",
       "    <tr>\n",
       "      <th>1</th>\n",
       "      <td>5.12</td>\n",
       "      <td>1.98</td>\n",
       "    </tr>\n",
       "    <tr>\n",
       "      <th>2</th>\n",
       "      <td>7.82</td>\n",
       "      <td>3.25</td>\n",
       "    </tr>\n",
       "    <tr>\n",
       "      <th>3</th>\n",
       "      <td>7.42</td>\n",
       "      <td>3.67</td>\n",
       "    </tr>\n",
       "    <tr>\n",
       "      <th>4</th>\n",
       "      <td>6.94</td>\n",
       "      <td>3.57</td>\n",
       "    </tr>\n",
       "  </tbody>\n",
       "</table>\n",
       "</div>"
      ],
      "text/plain": [
       "   cgpa  package\n",
       "0  6.89     3.26\n",
       "1  5.12     1.98\n",
       "2  7.82     3.25\n",
       "3  7.42     3.67\n",
       "4  6.94     3.57"
      ]
     },
     "execution_count": 5,
     "metadata": {},
     "output_type": "execute_result"
    }
   ],
   "source": [
    "# Importing Dataset\n",
    "\n",
    "df = pd.read_csv('cgpa_vs_package.csv')\n",
    "\n",
    "df.head()"
   ]
  },
  {
   "cell_type": "code",
   "execution_count": null,
   "id": "8ed5236d-5f1b-41ee-9fd3-33e30b3eafa4",
   "metadata": {},
   "outputs": [],
   "source": [
    "# Splitting the data \n",
    "from sklearn.model_selection import train_test_split\n",
    "\n",
    "x = df['cgpa']\n",
    "y = df['package']\n",
    "\n",
    "\n",
    "x_train,x_test,y_train,y_test = train_test_split(x,y,\n",
    "                                                test_size = 0.2,\n",
    "                                                random_state = 30)"
   ]
  },
  {
   "cell_type": "markdown",
   "id": "5cd06eb3-93ae-4eaf-9522-e735f68d7ae6",
   "metadata": {},
   "source": [
    "# Creating Simple Linear Regression Class"
   ]
  },
  {
   "cell_type": "code",
   "execution_count": 74,
   "id": "1780d6b2-c65f-4a06-82ef-ebcafdc379d4",
   "metadata": {},
   "outputs": [],
   "source": [
    "class SLRegressor:\n",
    "    def __init__(self):\n",
    "        self.m = None  # slope\n",
    "        self.b = None  # intercept\n",
    "\n",
    "    def fit(self,x_train,y_train):\n",
    "\n",
    "        numerator = denominator = 0\n",
    "        \n",
    "        x_train_mean = x_train.mean()\n",
    "        y_train_mean = y_train.mean()\n",
    "\n",
    "        x_centered = x_train - x_train_mean\n",
    "        y_centered = y_train - y_train_mean\n",
    "        \n",
    "        numerator += (x_centered * y_centered).sum()\n",
    "        denominator += (x_centered**2).sum()\n",
    "\n",
    "        self.m = numerator/denominator\n",
    "        self.b = y_train_mean - (self.m * x_train_mean)\n",
    "\n",
    "    def predict(self,x_test):\n",
    "        return (self.m * x_test) + self.b\n"
   ]
  },
  {
   "cell_type": "code",
   "execution_count": 75,
   "id": "be6f598f-4b99-4141-bf94-1a5239efde57",
   "metadata": {},
   "outputs": [],
   "source": [
    "lr = SLRegressor()"
   ]
  },
  {
   "cell_type": "code",
   "execution_count": 76,
   "id": "cf04ea9f-c795-4fdf-8934-1ed9587aa465",
   "metadata": {},
   "outputs": [],
   "source": [
    "lr.fit(x_train,y_train)"
   ]
  },
  {
   "cell_type": "code",
   "execution_count": 77,
   "id": "15a997d9-351a-4eec-a54e-121e9124b299",
   "metadata": {},
   "outputs": [],
   "source": [
    "y_pred = lr.predict(x_test)"
   ]
  },
  {
   "cell_type": "code",
   "execution_count": 78,
   "id": "e5ba07dc-a6bf-4a5d-a042-e7b212c4da38",
   "metadata": {},
   "outputs": [
    {
     "name": "stdout",
     "output_type": "stream",
     "text": [
      "0.29211827403569923\n"
     ]
    }
   ],
   "source": [
    "from sklearn.metrics import mean_absolute_error\n",
    "\n",
    "print(mean_absolute_error(y_pred,y_test))"
   ]
  }
 ],
 "metadata": {
  "kernelspec": {
   "display_name": "Python 3 (ipykernel)",
   "language": "python",
   "name": "python3"
  },
  "language_info": {
   "codemirror_mode": {
    "name": "ipython",
    "version": 3
   },
   "file_extension": ".py",
   "mimetype": "text/x-python",
   "name": "python",
   "nbconvert_exporter": "python",
   "pygments_lexer": "ipython3",
   "version": "3.13.5"
  }
 },
 "nbformat": 4,
 "nbformat_minor": 5
}
