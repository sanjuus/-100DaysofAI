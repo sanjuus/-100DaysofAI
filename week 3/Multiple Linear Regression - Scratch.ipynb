{
 "cells": [
  {
   "cell_type": "markdown",
   "id": "91942bea-47d3-43cf-a4fd-2ab64c82dad6",
   "metadata": {},
   "source": [
    "# Multiple Linear Regression - Scratch"
   ]
  },
  {
   "cell_type": "code",
   "execution_count": 64,
   "id": "4ffb5118-5b7b-4e5b-8f04-869e93ea5fcf",
   "metadata": {},
   "outputs": [],
   "source": [
    "# Loading Libraries\n",
    "import numpy as np\n",
    "from sklearn.datasets import load_diabetes\n",
    "from sklearn.model_selection import train_test_split"
   ]
  },
  {
   "cell_type": "code",
   "execution_count": 65,
   "id": "ff4c41ee-2391-473c-a62b-2108d00d74f0",
   "metadata": {},
   "outputs": [],
   "source": [
    "x,y = load_diabetes(return_X_y = True)"
   ]
  },
  {
   "cell_type": "code",
   "execution_count": 66,
   "id": "cd029798-5b0b-4703-bbbf-b43117f8cfec",
   "metadata": {},
   "outputs": [],
   "source": [
    "x_train,x_test,y_train,y_test = train_test_split(x,y,\n",
    "                                                test_size = 0.2,\n",
    "                                                random_state = 20)"
   ]
  },
  {
   "cell_type": "code",
   "execution_count": 67,
   "id": "88ec1fb2-5d23-4a91-a42c-f2d0af743606",
   "metadata": {},
   "outputs": [],
   "source": [
    "# Creating class for multiple Linear Regression\n",
    "\n",
    "class MLRegressor:\n",
    "    def __init__(self):\n",
    "        self.intercept_ = None\n",
    "        self.coeff_ = None\n",
    "\n",
    "    def fit(self,x_train,y_train):\n",
    "        X = x_train\n",
    "        Y = y_train\n",
    "\n",
    "        # Adding columns with ones\n",
    "        X = np.insert(X,0,1,axis = 1)\n",
    "\n",
    "        # logic\n",
    "        betas = np.linalg.inv((X.T @ X)) @ (X.T @ Y)\n",
    "\n",
    "        # assiging\n",
    "        self.intercept_ = betas[0]\n",
    "        self.coeff_ = betas[1:]\n",
    "\n",
    "    \n",
    "    def predict(self,x_test):\n",
    "        y_pred = self.intercept_ + (x_test @ self.coeff_)\n",
    "        return y_pred\n",
    "        "
   ]
  },
  {
   "cell_type": "code",
   "execution_count": 68,
   "id": "eac8db38-184c-476f-8f11-e1544cc0a75d",
   "metadata": {},
   "outputs": [],
   "source": [
    "# Object for the class\n",
    "\n",
    "mlr = MLRegressor()"
   ]
  },
  {
   "cell_type": "code",
   "execution_count": 69,
   "id": "17d1b2b7-9f10-49fc-8d81-a8f681a07392",
   "metadata": {},
   "outputs": [],
   "source": [
    "# training the model\n",
    "\n",
    "mlr.fit(x_train,y_train)"
   ]
  },
  {
   "cell_type": "code",
   "execution_count": 70,
   "id": "0d002cbf-ffce-467a-8d0a-b1a9ab34c933",
   "metadata": {},
   "outputs": [
    {
     "data": {
      "text/plain": [
       "array([  -40.43205555,  -255.59694398,   561.21152097,   346.66073697,\n",
       "       -1034.954276  ,   726.21636605,   167.03961699,   127.47606432,\n",
       "         830.26629341,    51.24013529])"
      ]
     },
     "execution_count": 70,
     "metadata": {},
     "output_type": "execute_result"
    }
   ],
   "source": [
    "# coefficents of the every slope (values of b1,b2,...b10)\n",
    "\n",
    "mlr.coeff_"
   ]
  },
  {
   "cell_type": "code",
   "execution_count": 71,
   "id": "b91e9e76-0adc-4aaf-889f-d1d9f0b527e7",
   "metadata": {},
   "outputs": [
    {
     "data": {
      "text/plain": [
       "np.float64(153.71781244192601)"
      ]
     },
     "execution_count": 71,
     "metadata": {},
     "output_type": "execute_result"
    }
   ],
   "source": [
    "# value of bias (b0)\n",
    "\n",
    "mlr.intercept_"
   ]
  },
  {
   "cell_type": "code",
   "execution_count": 72,
   "id": "bcb5460e-7098-4b85-ad45-fc4466530a8e",
   "metadata": {},
   "outputs": [],
   "source": [
    "# Prediction\n",
    "\n",
    "y_pred = mlr.predict(x_test)"
   ]
  },
  {
   "cell_type": "code",
   "execution_count": 63,
   "id": "479c3343-776d-485b-9d0c-52448741a8e7",
   "metadata": {},
   "outputs": [
    {
     "name": "stdout",
     "output_type": "stream",
     "text": [
      "R2_score :  -0.10782884172103002\n"
     ]
    }
   ],
   "source": [
    "# Evalutaion of model \n",
    "\n",
    "from sklearn.metrics import r2_score\n",
    "\n",
    "print(\"R2_score : \",r2_score(y_pred,y_test))"
   ]
  }
 ],
 "metadata": {
  "kernelspec": {
   "display_name": "Python 3 (ipykernel)",
   "language": "python",
   "name": "python3"
  },
  "language_info": {
   "codemirror_mode": {
    "name": "ipython",
    "version": 3
   },
   "file_extension": ".py",
   "mimetype": "text/x-python",
   "name": "python",
   "nbconvert_exporter": "python",
   "pygments_lexer": "ipython3",
   "version": "3.13.5"
  }
 },
 "nbformat": 4,
 "nbformat_minor": 5
}
